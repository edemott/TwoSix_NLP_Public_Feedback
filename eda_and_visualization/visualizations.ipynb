{
 "cells": [
  {
   "cell_type": "markdown",
   "id": "68e42629",
   "metadata": {},
   "source": [
    "# Visualizations"
   ]
  },
  {
   "cell_type": "code",
   "execution_count": null,
   "id": "a2642244",
   "metadata": {},
   "outputs": [],
   "source": [
    "import pandas as pd\n",
    "df_sentences = pd.read_pickle(\"../data/df_sentences.pkl\")\n"
   ]
  },
  {
   "cell_type": "code",
   "execution_count": null,
   "id": "adae0f68",
   "metadata": {},
   "outputs": [],
   "source": [
    "from bertopic import BERTopic\n",
    "from sentence_transformers import SentenceTransformer"
   ]
  },
  {
   "cell_type": "code",
   "execution_count": 2,
   "id": "cd79952f",
   "metadata": {},
   "outputs": [],
   "source": [
    "from sklearn.decomposition import PCA\n",
    "from sklearn.manifold import TSNE\n",
    "from umap import UMAP\n",
    "import phate\n",
    "import matplotlib.pyplot as plt\n",
    "import seaborn as sns\n",
    "import numpy as np"
   ]
  },
  {
   "cell_type": "markdown",
   "id": "45fdadd1",
   "metadata": {},
   "source": [
    "### Utilizing BERTTopic to create embeddings"
   ]
  },
  {
   "cell_type": "code",
   "execution_count": null,
   "id": "7786ea10",
   "metadata": {},
   "outputs": [],
   "source": [
    "df_sentences = pd.read_csv('sentences.csv')"
   ]
  },
  {
   "cell_type": "code",
   "execution_count": null,
   "id": "7d478512",
   "metadata": {},
   "outputs": [],
   "source": [
    "# Prepare input list\n",
    "sentences = df_sentences[\"sentences\"].tolist()\n",
    "\n",
    "# Set up model (you can replace 'all-MiniLM-L6-v2' with any transformer model you prefer)\n",
    "embedding_model = SentenceTransformer(\"all-MiniLM-L6-v2\")\n",
    "topic_model = BERTopic(embedding_model=embedding_model, verbose=True)\n",
    "\n",
    "# Fit the model\n",
    "topics, probs = topic_model.fit_transform(sentences)"
   ]
  },
  {
   "cell_type": "code",
   "execution_count": null,
   "id": "66d72900",
   "metadata": {},
   "outputs": [],
   "source": [
    "# Get raw sentence embeddings from the transformer\n",
    "embeddings = embedding_model.encode(sentences, show_progress_bar=True)"
   ]
  },
  {
   "cell_type": "markdown",
   "id": "cefe47db",
   "metadata": {},
   "source": [
    "### Creating visualization"
   ]
  },
  {
   "cell_type": "markdown",
   "id": "d06708d2",
   "metadata": {},
   "source": [
    "We will be using dimensional reducing methods PHATE, and comparing it to other models, which are UMAP, t-SNE and PCA."
   ]
  },
  {
   "cell_type": "code",
   "execution_count": null,
   "id": "142b0322",
   "metadata": {},
   "outputs": [],
   "source": [
    "# Reduce dimensionality\n",
    "pca = PCA(n_components=2).fit_transform(embeddings)\n",
    "tsne = TSNE(n_components=2, perplexity=30).fit_transform(embeddings)\n",
    "umap = UMAP(n_components=2).fit_transform(embeddings)\n",
    "phate_op = phate.PHATE().fit_transform(embeddings)"
   ]
  },
  {
   "cell_type": "code",
   "execution_count": null,
   "id": "3ce49b2b",
   "metadata": {},
   "outputs": [],
   "source": [
    "# Create labels\n",
    "labels = topic_model.get_topics()\n",
    "topic_nums = np.array(topics)"
   ]
  },
  {
   "cell_type": "code",
   "execution_count": null,
   "id": "80f6fdcf",
   "metadata": {},
   "outputs": [],
   "source": [
    "# Plotting\n",
    "fig, axes = plt.subplots(2, 3, figsize=(18, 10))\n",
    "methods = [pca, tsne, umap, phate_op, diffusion]\n",
    "titles = [\"PCA\", \"t-SNE\", \"UMAP\", \"PHATE\", \"Diffusion Map\"]\n",
    "\n",
    "for ax, method, title in zip(axes.flat, methods, titles):\n",
    "    sns.scatterplot(x=method[:, 0], y=method[:, 1], hue=topic_nums, palette=\"tab10\", s=10, ax=ax, legend=False)\n",
    "    ax.set_title(title)\n",
    "\n",
    "axes.flat[-1].axis(\"off\")  # last subplot empty if odd number\n",
    "plt.suptitle(\"Topic Clusters Visualized with Dimensionality Reduction\", fontsize=16)\n",
    "plt.tight_layout()\n",
    "plt.show()"
   ]
  }
 ],
 "metadata": {
  "kernelspec": {
   "display_name": "Python 3",
   "language": "python",
   "name": "python3"
  },
  "language_info": {
   "codemirror_mode": {
    "name": "ipython",
    "version": 3
   },
   "file_extension": ".py",
   "mimetype": "text/x-python",
   "name": "python",
   "nbconvert_exporter": "python",
   "pygments_lexer": "ipython3",
   "version": "3.11.11"
  }
 },
 "nbformat": 4,
 "nbformat_minor": 5
}
