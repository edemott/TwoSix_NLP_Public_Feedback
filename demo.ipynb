{
 "cells": [
  {
   "attachments": {},
   "cell_type": "markdown",
   "metadata": {},
   "source": [
    "# TwoSix Project Demo and Figure Reproducability "
   ]
  },
  {
   "attachments": {},
   "cell_type": "markdown",
   "metadata": {},
   "source": [
    "This notebook outlines the steps for generating a PHATE visualization, following the rough pipeline used by our team for analysis and visualization. It serves as a demo for loading sample data and producing a simple figure. The only difference between this demo and the team’s full workflow is that the data collection process has been skipped for simplicity, as it is more complex. For more details on data collection, refer to the README.md in the GitHub repository."
   ]
  },
  {
   "attachments": {},
   "cell_type": "markdown",
   "metadata": {},
   "source": [
    "## 1. Load Packages and Data "
   ]
  },
  {
   "cell_type": "code",
   "execution_count": 20,
   "metadata": {},
   "outputs": [],
   "source": [
    "import numpy as np\n",
    "import pandas as pd\n",
    "import phate\n",
    "import matplotlib.pyplot as plt\n",
    "import seaborn as sns\n",
    "from bertopic import BERTopic\n",
    "from sklearn.feature_extraction.text import CountVectorizer\n",
    "from sentence_transformers import SentenceTransformer"
   ]
  },
  {
   "cell_type": "code",
   "execution_count": 21,
   "metadata": {},
   "outputs": [],
   "source": [
    "# Load the sample dataset – this is real scraped and cleaned data prepared by the team for this demo\n",
    "data = pd.read_csv(\"clean_data.csv\",header=0,low_memory=False)"
   ]
  },
  {
   "cell_type": "code",
   "execution_count": 22,
   "metadata": {},
   "outputs": [],
   "source": [
    "# Sample some data to ensure fast runtime on local machine\n",
    "idx = np.random.randint(0,40000,1000)"
   ]
  },
  {
   "cell_type": "code",
   "execution_count": 23,
   "metadata": {},
   "outputs": [
    {
     "data": {
      "text/html": [
       "<div>\n",
       "<style scoped>\n",
       "    .dataframe tbody tr th:only-of-type {\n",
       "        vertical-align: middle;\n",
       "    }\n",
       "\n",
       "    .dataframe tbody tr th {\n",
       "        vertical-align: top;\n",
       "    }\n",
       "\n",
       "    .dataframe thead th {\n",
       "        text-align: right;\n",
       "    }\n",
       "</style>\n",
       "<table border=\"1\" class=\"dataframe\">\n",
       "  <thead>\n",
       "    <tr style=\"text-align: right;\">\n",
       "      <th></th>\n",
       "      <th>Document ID</th>\n",
       "      <th>Agency ID</th>\n",
       "      <th>Docket ID</th>\n",
       "      <th>Tracking Number</th>\n",
       "      <th>Document Type</th>\n",
       "      <th>Posted Date</th>\n",
       "      <th>Is Withdrawn?</th>\n",
       "      <th>Federal Register Number</th>\n",
       "      <th>Title</th>\n",
       "      <th>Comment Start Date</th>\n",
       "      <th>...</th>\n",
       "      <th>Comment on Document ID</th>\n",
       "      <th>Received Date</th>\n",
       "      <th>CFR</th>\n",
       "      <th>Document Subtype</th>\n",
       "      <th>Start End Page</th>\n",
       "      <th>Government Agency</th>\n",
       "      <th>Government Agency Type</th>\n",
       "      <th>Comment</th>\n",
       "      <th>Content Files</th>\n",
       "      <th>Attachment Files</th>\n",
       "    </tr>\n",
       "  </thead>\n",
       "  <tbody>\n",
       "    <tr>\n",
       "      <th>0</th>\n",
       "      <td>FS-2023-0006-0002</td>\n",
       "      <td>FS</td>\n",
       "      <td>FS-2023-0006</td>\n",
       "      <td>NaN</td>\n",
       "      <td>Proposed Rule</td>\n",
       "      <td>2023-04-21T04:00Z</td>\n",
       "      <td>False</td>\n",
       "      <td>2023-08429</td>\n",
       "      <td>Forest Service Functions</td>\n",
       "      <td>2023-04-21T04:00Z</td>\n",
       "      <td>...</td>\n",
       "      <td>NaN</td>\n",
       "      <td>2023-04-21T04:00Z</td>\n",
       "      <td>36 CFR Part 200</td>\n",
       "      <td>Advance Notice of Proposed Rulemaking (ANPRM)</td>\n",
       "      <td>24497 - 24503</td>\n",
       "      <td>NaN</td>\n",
       "      <td>NaN</td>\n",
       "      <td>NaN</td>\n",
       "      <td>https://downloads.regulations.gov/FS-2023-0006...</td>\n",
       "      <td>NaN</td>\n",
       "    </tr>\n",
       "    <tr>\n",
       "      <th>1</th>\n",
       "      <td>FS-2023-0006-0003</td>\n",
       "      <td>FS</td>\n",
       "      <td>FS-2023-0006</td>\n",
       "      <td>lgr-1foi-blth</td>\n",
       "      <td>Public Submission</td>\n",
       "      <td>2023-05-18T04:00Z</td>\n",
       "      <td>False</td>\n",
       "      <td>NaN</td>\n",
       "      <td>Comment on FR Doc # 2023-08429</td>\n",
       "      <td>NaN</td>\n",
       "      <td>...</td>\n",
       "      <td>FS-2023-0006-0002</td>\n",
       "      <td>2023-04-21T04:00Z</td>\n",
       "      <td>NaN</td>\n",
       "      <td>NaN</td>\n",
       "      <td>NaN</td>\n",
       "      <td>NaN</td>\n",
       "      <td>NaN</td>\n",
       "      <td>I strongly support and greatly appreciate this...</td>\n",
       "      <td>NaN</td>\n",
       "      <td>https://downloads.regulations.gov/FS-2023-0006...</td>\n",
       "    </tr>\n",
       "    <tr>\n",
       "      <th>2</th>\n",
       "      <td>FS-2023-0006-0004</td>\n",
       "      <td>FS</td>\n",
       "      <td>FS-2023-0006</td>\n",
       "      <td>lgr-1hw4-0sy1</td>\n",
       "      <td>Public Submission</td>\n",
       "      <td>2023-05-18T04:00Z</td>\n",
       "      <td>False</td>\n",
       "      <td>NaN</td>\n",
       "      <td>Comment on FR Doc # 2023-08429</td>\n",
       "      <td>NaN</td>\n",
       "      <td>...</td>\n",
       "      <td>FS-2023-0006-0002</td>\n",
       "      <td>2023-04-21T04:00Z</td>\n",
       "      <td>NaN</td>\n",
       "      <td>NaN</td>\n",
       "      <td>NaN</td>\n",
       "      <td>NaN</td>\n",
       "      <td>NaN</td>\n",
       "      <td>Please see the attachment.</td>\n",
       "      <td>NaN</td>\n",
       "      <td>https://downloads.regulations.gov/FS-2023-0006...</td>\n",
       "    </tr>\n",
       "    <tr>\n",
       "      <th>3</th>\n",
       "      <td>FS-2023-0006-0005</td>\n",
       "      <td>FS</td>\n",
       "      <td>FS-2023-0006</td>\n",
       "      <td>lgw-zcov-qonu</td>\n",
       "      <td>Public Submission</td>\n",
       "      <td>2023-05-18T04:00Z</td>\n",
       "      <td>False</td>\n",
       "      <td>NaN</td>\n",
       "      <td>Comment on FR Doc # 2023-08429</td>\n",
       "      <td>NaN</td>\n",
       "      <td>...</td>\n",
       "      <td>FS-2023-0006-0002</td>\n",
       "      <td>2023-04-25T04:00Z</td>\n",
       "      <td>NaN</td>\n",
       "      <td>NaN</td>\n",
       "      <td>NaN</td>\n",
       "      <td>NaN</td>\n",
       "      <td>NaN</td>\n",
       "      <td>i recommend the forest service create more wil...</td>\n",
       "      <td>NaN</td>\n",
       "      <td>NaN</td>\n",
       "    </tr>\n",
       "    <tr>\n",
       "      <th>4</th>\n",
       "      <td>FS-2023-0006-0006</td>\n",
       "      <td>FS</td>\n",
       "      <td>FS-2023-0006</td>\n",
       "      <td>lgz-3ked-z3xd</td>\n",
       "      <td>Public Submission</td>\n",
       "      <td>2023-05-18T04:00Z</td>\n",
       "      <td>False</td>\n",
       "      <td>NaN</td>\n",
       "      <td>Comment on FR Doc # 2023-08429</td>\n",
       "      <td>NaN</td>\n",
       "      <td>...</td>\n",
       "      <td>FS-2023-0006-0002</td>\n",
       "      <td>2023-04-27T04:00Z</td>\n",
       "      <td>NaN</td>\n",
       "      <td>NaN</td>\n",
       "      <td>NaN</td>\n",
       "      <td>NaN</td>\n",
       "      <td>NaN</td>\n",
       "      <td>Old-growth forests have more value left alone ...</td>\n",
       "      <td>NaN</td>\n",
       "      <td>NaN</td>\n",
       "    </tr>\n",
       "  </tbody>\n",
       "</table>\n",
       "<p>5 rows × 22 columns</p>\n",
       "</div>"
      ],
      "text/plain": [
       "         Document ID Agency ID     Docket ID Tracking Number  \\\n",
       "0  FS-2023-0006-0002        FS  FS-2023-0006             NaN   \n",
       "1  FS-2023-0006-0003        FS  FS-2023-0006   lgr-1foi-blth   \n",
       "2  FS-2023-0006-0004        FS  FS-2023-0006   lgr-1hw4-0sy1   \n",
       "3  FS-2023-0006-0005        FS  FS-2023-0006   lgw-zcov-qonu   \n",
       "4  FS-2023-0006-0006        FS  FS-2023-0006   lgz-3ked-z3xd   \n",
       "\n",
       "       Document Type        Posted Date  Is Withdrawn?  \\\n",
       "0      Proposed Rule  2023-04-21T04:00Z          False   \n",
       "1  Public Submission  2023-05-18T04:00Z          False   \n",
       "2  Public Submission  2023-05-18T04:00Z          False   \n",
       "3  Public Submission  2023-05-18T04:00Z          False   \n",
       "4  Public Submission  2023-05-18T04:00Z          False   \n",
       "\n",
       "  Federal Register Number                           Title Comment Start Date  \\\n",
       "0              2023-08429        Forest Service Functions  2023-04-21T04:00Z   \n",
       "1                     NaN  Comment on FR Doc # 2023-08429                NaN   \n",
       "2                     NaN  Comment on FR Doc # 2023-08429                NaN   \n",
       "3                     NaN  Comment on FR Doc # 2023-08429                NaN   \n",
       "4                     NaN  Comment on FR Doc # 2023-08429                NaN   \n",
       "\n",
       "   ... Comment on Document ID      Received Date              CFR  \\\n",
       "0  ...                    NaN  2023-04-21T04:00Z  36 CFR Part 200   \n",
       "1  ...      FS-2023-0006-0002  2023-04-21T04:00Z              NaN   \n",
       "2  ...      FS-2023-0006-0002  2023-04-21T04:00Z              NaN   \n",
       "3  ...      FS-2023-0006-0002  2023-04-25T04:00Z              NaN   \n",
       "4  ...      FS-2023-0006-0002  2023-04-27T04:00Z              NaN   \n",
       "\n",
       "                                Document Subtype Start End Page  \\\n",
       "0  Advance Notice of Proposed Rulemaking (ANPRM)  24497 - 24503   \n",
       "1                                            NaN            NaN   \n",
       "2                                            NaN            NaN   \n",
       "3                                            NaN            NaN   \n",
       "4                                            NaN            NaN   \n",
       "\n",
       "  Government Agency Government Agency Type  \\\n",
       "0               NaN                    NaN   \n",
       "1               NaN                    NaN   \n",
       "2               NaN                    NaN   \n",
       "3               NaN                    NaN   \n",
       "4               NaN                    NaN   \n",
       "\n",
       "                                             Comment  \\\n",
       "0                                                NaN   \n",
       "1  I strongly support and greatly appreciate this...   \n",
       "2                         Please see the attachment.   \n",
       "3  i recommend the forest service create more wil...   \n",
       "4  Old-growth forests have more value left alone ...   \n",
       "\n",
       "                                       Content Files  \\\n",
       "0  https://downloads.regulations.gov/FS-2023-0006...   \n",
       "1                                                NaN   \n",
       "2                                                NaN   \n",
       "3                                                NaN   \n",
       "4                                                NaN   \n",
       "\n",
       "                                    Attachment Files  \n",
       "0                                                NaN  \n",
       "1  https://downloads.regulations.gov/FS-2023-0006...  \n",
       "2  https://downloads.regulations.gov/FS-2023-0006...  \n",
       "3                                                NaN  \n",
       "4                                                NaN  \n",
       "\n",
       "[5 rows x 22 columns]"
      ]
     },
     "execution_count": 23,
     "metadata": {},
     "output_type": "execute_result"
    }
   ],
   "source": [
    "# View the data\n",
    "data.head()"
   ]
  },
  {
   "cell_type": "code",
   "execution_count": 24,
   "metadata": {},
   "outputs": [],
   "source": [
    "# Take a sample of the data\n",
    "df = data.iloc[idx,:]"
   ]
  },
  {
   "cell_type": "code",
   "execution_count": 25,
   "metadata": {},
   "outputs": [],
   "source": [
    "# Get the comment data\n",
    "docs = list(df[\"Comment\"])"
   ]
  },
  {
   "attachments": {},
   "cell_type": "markdown",
   "metadata": {},
   "source": [
    "## 2. Topic Modeling"
   ]
  },
  {
   "cell_type": "code",
   "execution_count": 26,
   "metadata": {},
   "outputs": [],
   "source": [
    "# Define a custom list of stopwords to exclude common and domain-specific terms from topic modeling\n",
    "\n",
    "custom_stopwords = [\"climate\",\"trees\", \"forests\" \"change\", \"policy\", \"government\", \"regulation\", \"law\", \n",
    "                    \"to\", \"the\", \"and\", \"of\", \"in\", \"for\", \"on\", \"at\", \"is\", \"are\"]\n",
    "\n",
    "# Initialize a CountVectorizer with the custom stopwords and an n-gram range of (1,3) for capturing single words, \n",
    "# bigrams, and trigrams in the text data\n",
    "vectorizer = CountVectorizer(stop_words=custom_stopwords, ngram_range=(1, 3))\n"
   ]
  },
  {
   "cell_type": "code",
   "execution_count": 27,
   "metadata": {},
   "outputs": [],
   "source": [
    "# Initialize the BERTopic model with a BERT-based embedding model and custom parameters\n",
    "\n",
    "topic_model = BERTopic(\n",
    "    language=\"english\",\n",
    "    top_n_words=5,\n",
    "    n_gram_range=(1, 3),\n",
    "    min_topic_size=20,\n",
    "    calculate_probabilities=True,\n",
    "    zeroshot_min_similarity=0.8,\n",
    "    embedding_model=\"all-MiniLM-L6-v2\",\n",
    "    vectorizer_model=CountVectorizer(stop_words=\"english\", ngram_range=(1, 3)),\n",
    "    representation_model=\"KeyBERTInspired\",\n",
    "    verbose=True\n",
    ")\n"
   ]
  },
  {
   "cell_type": "code",
   "execution_count": 28,
   "metadata": {},
   "outputs": [
    {
     "name": "stderr",
     "output_type": "stream",
     "text": [
      "2025-03-29 17:21:56,289 - BERTopic - Embedding - Transforming documents to embeddings.\n"
     ]
    },
    {
     "data": {
      "application/vnd.jupyter.widget-view+json": {
       "model_id": "10cc7e8fa574428f905f2d9ff6146f1f",
       "version_major": 2,
       "version_minor": 0
      },
      "text/plain": [
       "Batches:   0%|          | 0/32 [00:00<?, ?it/s]"
      ]
     },
     "metadata": {},
     "output_type": "display_data"
    },
    {
     "name": "stderr",
     "output_type": "stream",
     "text": [
      "2025-03-29 17:22:02,126 - BERTopic - Embedding - Completed ✓\n",
      "2025-03-29 17:22:02,126 - BERTopic - Dimensionality - Fitting the dimensionality reduction algorithm\n",
      "2025-03-29 17:22:04,733 - BERTopic - Dimensionality - Completed ✓\n",
      "2025-03-29 17:22:04,734 - BERTopic - Cluster - Start clustering the reduced embeddings\n",
      "2025-03-29 17:22:04,788 - BERTopic - Cluster - Completed ✓\n",
      "2025-03-29 17:22:04,791 - BERTopic - Representation - Extracting topics from clusters using representation models.\n",
      "2025-03-29 17:22:05,019 - BERTopic - Representation - Completed ✓\n"
     ]
    }
   ],
   "source": [
    "# Fit the topic model to the documents and obtain assigned topics and their probabilities\n",
    "topics, probs = topic_model.fit_transform(docs)"
   ]
  },
  {
   "cell_type": "code",
   "execution_count": 29,
   "metadata": {},
   "outputs": [],
   "source": [
    "# Retrieve summary information about the extracted topics, including topic IDs, sizes, and representative words\n",
    "topic_info = topic_model.get_topic_info()\n",
    "\n",
    "# Generate human-readable labels for each topic based on representative words\n",
    "topic_labels = topic_model.generate_topic_labels()"
   ]
  },
  {
   "cell_type": "code",
   "execution_count": 30,
   "metadata": {},
   "outputs": [
    {
     "data": {
      "text/plain": [
       "['0_trees_climate_lands',\n",
       " '1_trees_lands_mature',\n",
       " '2_forests_climate_communities',\n",
       " '3_forests_old_growth',\n",
       " '4_forest_forests_older forests']"
      ]
     },
     "execution_count": 30,
     "metadata": {},
     "output_type": "execute_result"
    }
   ],
   "source": [
    "# view the topic labels \n",
    "topic_labels"
   ]
  },
  {
   "cell_type": "code",
   "execution_count": 31,
   "metadata": {},
   "outputs": [],
   "source": [
    "# Create a dictionary mapping each topic ID to its corresponding name  \n",
    "topic_dict = {row[\"Topic\"]: row[\"Name\"] for _, row in topic_info.iterrows()}\n",
    "\n",
    "# Assign human-readable topic labels to documents based on their assigned topics;  \n",
    "# if a document's topic is not in the dictionary, label it as \"Outlier\"\n",
    "document_labels = [topic_dict[topic] if topic in topic_dict else \"Outlier\" for topic in topics]"
   ]
  },
  {
   "cell_type": "code",
   "execution_count": 32,
   "metadata": {},
   "outputs": [
    {
     "data": {
      "application/vnd.jupyter.widget-view+json": {
       "model_id": "66dae3a211264afd8b695e33c1be9caa",
       "version_major": 2,
       "version_minor": 0
      },
      "text/plain": [
       "Batches:   0%|          | 0/32 [00:00<?, ?it/s]"
      ]
     },
     "metadata": {},
     "output_type": "display_data"
    }
   ],
   "source": [
    "# Initialize the SentenceTransformer with the pre-trained \"all-MiniLM-L6-v2\" model for generating document embeddings\n",
    "embedding_model = SentenceTransformer(\"all-MiniLM-L6-v2\")\n",
    "\n",
    "# Encode the list of documents into embeddings, with a progress bar to show the process\n",
    "doc_embeddings = embedding_model.encode(list(docs), show_progress_bar=True)"
   ]
  },
  {
   "attachments": {},
   "cell_type": "markdown",
   "metadata": {},
   "source": [
    "## 3. Visualization"
   ]
  },
  {
   "cell_type": "code",
   "execution_count": 33,
   "metadata": {},
   "outputs": [
    {
     "name": "stdout",
     "output_type": "stream",
     "text": [
      "Calculating PHATE...\n",
      "  Running PHATE on 1000 observations and 384 variables.\n",
      "  Calculating graph and diffusion operator...\n",
      "    Calculating PCA...\n",
      "    Calculated PCA in 0.05 seconds.\n",
      "    Calculating KNN search...\n",
      "    Calculated KNN search in 0.05 seconds.\n",
      "    Calculating affinities...\n",
      "    Calculated affinities in 0.16 seconds.\n",
      "  Calculated graph and diffusion operator in 0.26 seconds.\n",
      "  Calculating optimal t...\n"
     ]
    },
    {
     "name": "stderr",
     "output_type": "stream",
     "text": [
      "/Users/ethandemott/opt/anaconda3/envs/CMSE495-TwoSix/lib/python3.11/site-packages/graphtools/graphs.py:290: RuntimeWarning:\n",
      "\n",
      "Detected zero distance between 16442 pairs of samples. Consider removing duplicates to avoid errors in downstream processing.\n",
      "\n",
      "/Users/ethandemott/opt/anaconda3/envs/CMSE495-TwoSix/lib/python3.11/site-packages/graphtools/graphs.py:454: RuntimeWarning:\n",
      "\n",
      "overflow encountered in power\n",
      "\n",
      "/Users/ethandemott/opt/anaconda3/envs/CMSE495-TwoSix/lib/python3.11/site-packages/graphtools/base.py:554: RuntimeWarning:\n",
      "\n",
      "K should have a non-zero diagonal\n",
      "\n"
     ]
    },
    {
     "name": "stdout",
     "output_type": "stream",
     "text": [
      "    Automatically selected t = 11\n",
      "  Calculated optimal t in 1.16 seconds.\n",
      "  Calculating diffusion potential...\n",
      "  Calculated diffusion potential in 0.19 seconds.\n",
      "  Calculating metric MDS...\n",
      "    Using SMACOF because SGD returned NaN\n",
      "  Calculated metric MDS in 2.06 seconds.\n",
      "Calculated PHATE in 3.68 seconds.\n"
     ]
    }
   ],
   "source": [
    "# Initialize the PHATE operator for dimensionality reduction with 2 components\n",
    "phate_operator = phate.PHATE(n_components=2)\n",
    "\n",
    "# Apply the PHATE dimensionality reduction to the document embeddings, resulting in a 2D representation\n",
    "phate_embedding = phate_operator.fit_transform(doc_embeddings)"
   ]
  },
  {
   "cell_type": "code",
   "execution_count": 34,
   "metadata": {},
   "outputs": [],
   "source": [
    "# Create a DataFrame containing the 2D PHATE embeddings and their corresponding topic labels\n",
    "df = pd.DataFrame({\n",
    "    \"PHATE_1\": phate_embedding[:, 0],  # First component of the PHATE embedding (x-axis)\n",
    "    \"PHATE_2\": phate_embedding[:, 1],  # Second component of the PHATE embedding (y-axis)\n",
    "    \"Topic\": document_labels           # Assign corresponding topic labels to each document\n",
    "})"
   ]
  },
  {
   "cell_type": "code",
   "execution_count": 35,
   "metadata": {},
   "outputs": [
    {
     "data": {
      "image/png": "[encoded data removed]",
      "text/plain": [
       "<Figure size 1000x600 with 1 Axes>"
      ]
     },
     "metadata": {},
     "output_type": "display_data"
    }
   ],
   "source": [
    "# Create a scatter plot to visualize the PHATE 2D embeddings, colored by the document topics\n",
    "\n",
    "plt.figure(figsize=(10, 6))\n",
    "sns.scatterplot(data=df, x=\"PHATE_1\", y=\"PHATE_2\", hue=\"Topic\", palette=\"tab10\", alpha=0.7)\n",
    "plt.title(\"PHATE Visualization of Topic Clusters\")\n",
    "plt.legend(bbox_to_anchor=(1.05, 1), loc='upper left')\n",
    "plt.savefig(\"phate_visualization.png\", dpi=300, bbox_inches=\"tight\")\n",
    "plt.show()"
   ]
  },
  {
   "cell_type": "code",
   "execution_count": 36,
   "metadata": {},
   "outputs": [
    {
     "data": {
      "application/vnd.plotly.v1+json": {
       "config": {
        "plotlyServerURL": "https://plot.ly"
       },
       "data": [
        {
         "marker": {
          "color": "#D55E00"
         },
         "orientation": "h",
         "type": "bar",
         "x": [
          0.026528043390348532,
          0.02893454591563744,
          0.03026753322687157,
          0.033580315659209645,
          0.03507658721750363
         ],
         "xaxis": "x",
         "y": [
          "forests  ",
          "mature  ",
          "lands  ",
          "climate  ",
          "trees  "
         ],
         "yaxis": "y"
        },
        {
         "marker": {
          "color": "#0072B2"
         },
         "orientation": "h",
         "type": "bar",
         "x": [
          0.027774578360272046,
          0.028192179455929507,
          0.030320985150162905,
          0.03170158863528063,
          0.03681765465154537
         ],
         "xaxis": "x2",
         "y": [
          "forests  ",
          "climate  ",
          "mature  ",
          "lands  ",
          "trees  "
         ],
         "yaxis": "y2"
        },
        {
         "marker": {
          "color": "#CC79A7"
         },
         "orientation": "h",
         "type": "bar",
         "x": [
          0.032455244670219714,
          0.032511051197934564,
          0.03325214329195868,
          0.03753616118665574,
          0.05485741240724648
         ],
         "xaxis": "x3",
         "y": [
          "resilience  ",
          "urge  ",
          "communities  ",
          "climate  ",
          "forests  "
         ],
         "yaxis": "y3"
        },
        {
         "marker": {
          "color": "#E69F00"
         },
         "orientation": "h",
         "type": "bar",
         "x": [
          0.02636067343336215,
          0.02983259395740067,
          0.02983259395740067,
          0.03215222346533598,
          0.05209685061673737
         ],
         "xaxis": "x4",
         "y": [
          "climate  ",
          "old growth  ",
          "growth  ",
          "old  ",
          "forests  "
         ],
         "yaxis": "y4"
        },
        {
         "marker": {
          "color": "#56B4E9"
         },
         "orientation": "h",
         "type": "bar",
         "x": [
          0.03321035784805073,
          0.033810003226768574,
          0.03554743010480566,
          0.0437627187342825,
          0.04964160621065864
         ],
         "xaxis": "x5",
         "y": [
          "logging  ",
          "forests trees  ",
          "older forests  ",
          "forests  ",
          "forest  "
         ],
         "yaxis": "y5"
        }
       ],
       "layout": {
        "annotations": [
         {
          "font": {
           "size": 16
          },
          "showarrow": false,
          "text": "Topic 0",
          "x": 0.0875,
          "xanchor": "center",
          "xref": "paper",
          "y": 1,
          "yanchor": "bottom",
          "yref": "paper"
         },
         {
          "font": {
           "size": 16
          },
          "showarrow": false,
          "text": "Topic 1",
          "x": 0.36250000000000004,
          "xanchor": "center",
          "xref": "paper",
          "y": 1,
          "yanchor": "bottom",
          "yref": "paper"
         },
         {
          "font": {
           "size": 16
          },
          "showarrow": false,
          "text": "Topic 2",
          "x": 0.6375000000000001,
          "xanchor": "center",
          "xref": "paper",
          "y": 1,
          "yanchor": "bottom",
          "yref": "paper"
         },
         {
          "font": {
           "size": 16
          },
          "showarrow": false,
          "text": "Topic 3",
          "x": 0.9125,
          "xanchor": "center",
          "xref": "paper",
          "y": 1,
          "yanchor": "bottom",
          "yref": "paper"
         },
         {
          "font": {
           "size": 16
          },
          "showarrow": false,
          "text": "Topic 4",
          "x": 0.0875,
          "xanchor": "center",
          "xref": "paper",
          "y": 0.4,
          "yanchor": "bottom",
          "yref": "paper"
         }
        ],
        "height": 500,
        "hoverlabel": {
         "bgcolor": "white",
         "font": {
          "family": "Rockwell",
          "size": 16
         }
        },
        "showlegend": false,
        "template": {
         "data": {
          "bar": [
           {
            "error_x": {
             "color": "#2a3f5f"
            },
            "error_y": {
             "color": "#2a3f5f"
            },
            "marker": {
             "line": {
              "color": "white",
              "width": 0.5
             },
             "pattern": {
              "fillmode": "overlay",
              "size": 10,
              "solidity": 0.2
             }
            },
            "type": "bar"
           }
          ],
          "barpolar": [
           {
            "marker": {
             "line": {
              "color": "white",
              "width": 0.5
             },
             "pattern": {
              "fillmode": "overlay",
              "size": 10,
              "solidity": 0.2
             }
            },
            "type": "barpolar"
           }
          ],
          "carpet": [
           {
            "aaxis": {
             "endlinecolor": "#2a3f5f",
             "gridcolor": "#C8D4E3",
             "linecolor": "#C8D4E3",
             "minorgridcolor": "#C8D4E3",
             "startlinecolor": "#2a3f5f"
            },
            "baxis": {
             "endlinecolor": "#2a3f5f",
             "gridcolor": "#C8D4E3",
             "linecolor": "#C8D4E3",
             "minorgridcolor": "#C8D4E3",
             "startlinecolor": "#2a3f5f"
            },
            "type": "carpet"
           }
          ],
          "choropleth": [
           {
            "colorbar": {
             "outlinewidth": 0,
             "ticks": ""
            },
            "type": "choropleth"
           }
          ],
          "contour": [
           {
            "colorbar": {
             "outlinewidth": 0,
             "ticks": ""
            },
            "colorscale": [
             [
              0,
              "#0d0887"
             ],
             [
              0.1111111111111111,
              "#46039f"
             ],
             [
              0.2222222222222222,
              "#7201a8"
             ],
             [
              0.3333333333333333,
              "#9c179e"
             ],
             [
              0.4444444444444444,
              "#bd3786"
             ],
             [
              0.5555555555555556,
              "#d8576b"
             ],
             [
              0.6666666666666666,
              "#ed7953"
             ],
             [
              0.7777777777777778,
              "#fb9f3a"
             ],
             [
              0.8888888888888888,
              "#fdca26"
             ],
             [
              1,
              "#f0f921"
             ]
            ],
            "type": "contour"
           }
          ],
          "contourcarpet": [
           {
            "colorbar": {
             "outlinewidth": 0,
             "ticks": ""
            },
            "type": "contourcarpet"
           }
          ],
          "heatmap": [
           {
            "colorbar": {
             "outlinewidth": 0,
             "ticks": ""
            },
            "colorscale": [
             [
              0,
              "#0d0887"
             ],
             [
              0.1111111111111111,
              "#46039f"
             ],
             [
              0.2222222222222222,
              "#7201a8"
             ],
             [
              0.3333333333333333,
              "#9c179e"
             ],
             [
              0.4444444444444444,
              "#bd3786"
             ],
             [
              0.5555555555555556,
              "#d8576b"
             ],
             [
              0.6666666666666666,
              "#ed7953"
             ],
             [
              0.7777777777777778,
              "#fb9f3a"
             ],
             [
              0.8888888888888888,
              "#fdca26"
             ],
             [
              1,
              "#f0f921"
             ]
            ],
            "type": "heatmap"
           }
          ],
          "histogram": [
           {
            "marker": {
             "pattern": {
              "fillmode": "overlay",
              "size": 10,
              "solidity": 0.2
             }
            },
            "type": "histogram"
           }
          ],
          "histogram2d": [
           {
            "colorbar": {
             "outlinewidth": 0,
             "ticks": ""
            },
            "colorscale": [
             [
              0,
              "#0d0887"
             ],
             [
              0.1111111111111111,
              "#46039f"
             ],
             [
              0.2222222222222222,
              "#7201a8"
             ],
             [
              0.3333333333333333,
              "#9c179e"
             ],
             [
              0.4444444444444444,
              "#bd3786"
             ],
             [
              0.5555555555555556,
              "#d8576b"
             ],
             [
              0.6666666666666666,
              "#ed7953"
             ],
             [
              0.7777777777777778,
              "#fb9f3a"
             ],
             [
              0.8888888888888888,
              "#fdca26"
             ],
             [
              1,
              "#f0f921"
             ]
            ],
            "type": "histogram2d"
           }
          ],
          "histogram2dcontour": [
           {
            "colorbar": {
             "outlinewidth": 0,
             "ticks": ""
            },
            "colorscale": [
             [
              0,
              "#0d0887"
             ],
             [
              0.1111111111111111,
              "#46039f"
             ],
             [
              0.2222222222222222,
              "#7201a8"
             ],
             [
              0.3333333333333333,
              "#9c179e"
             ],
             [
              0.4444444444444444,
              "#bd3786"
             ],
             [
              0.5555555555555556,
              "#d8576b"
             ],
             [
              0.6666666666666666,
              "#ed7953"
             ],
             [
              0.7777777777777778,
              "#fb9f3a"
             ],
             [
              0.8888888888888888,
              "#fdca26"
             ],
             [
              1,
              "#f0f921"
             ]
            ],
            "type": "histogram2dcontour"
           }
          ],
          "mesh3d": [
           {
            "colorbar": {
             "outlinewidth": 0,
             "ticks": ""
            },
            "type": "mesh3d"
           }
          ],
          "parcoords": [
           {
            "line": {
             "colorbar": {
              "outlinewidth": 0,
              "ticks": ""
             }
            },
            "type": "parcoords"
           }
          ],
          "pie": [
           {
            "automargin": true,
            "type": "pie"
           }
          ],
          "scatter": [
           {
            "fillpattern": {
             "fillmode": "overlay",
             "size": 10,
             "solidity": 0.2
            },
            "type": "scatter"
           }
          ],
          "scatter3d": [
           {
            "line": {
             "colorbar": {
              "outlinewidth": 0,
              "ticks": ""
             }
            },
            "marker": {
             "colorbar": {
              "outlinewidth": 0,
              "ticks": ""
             }
            },
            "type": "scatter3d"
           }
          ],
          "scattercarpet": [
           {
            "marker": {
             "colorbar": {
              "outlinewidth": 0,
              "ticks": ""
             }
            },
            "type": "scattercarpet"
           }
          ],
          "scattergeo": [
           {
            "marker": {
             "colorbar": {
              "outlinewidth": 0,
              "ticks": ""
             }
            },
            "type": "scattergeo"
           }
          ],
          "scattergl": [
           {
            "marker": {
             "colorbar": {
              "outlinewidth": 0,
              "ticks": ""
             }
            },
            "type": "scattergl"
           }
          ],
          "scattermap": [
           {
            "marker": {
             "colorbar": {
              "outlinewidth": 0,
              "ticks": ""
             }
            },
            "type": "scattermap"
           }
          ],
          "scattermapbox": [
           {
            "marker": {
             "colorbar": {
              "outlinewidth": 0,
              "ticks": ""
             }
            },
            "type": "scattermapbox"
           }
          ],
          "scatterpolar": [
           {
            "marker": {
             "colorbar": {
              "outlinewidth": 0,
              "ticks": ""
             }
            },
            "type": "scatterpolar"
           }
          ],
          "scatterpolargl": [
           {
            "marker": {
             "colorbar": {
              "outlinewidth": 0,
              "ticks": ""
             }
            },
            "type": "scatterpolargl"
           }
          ],
          "scatterternary": [
           {
            "marker": {
             "colorbar": {
              "outlinewidth": 0,
              "ticks": ""
             }
            },
            "type": "scatterternary"
           }
          ],
          "surface": [
           {
            "colorbar": {
             "outlinewidth": 0,
             "ticks": ""
            },
            "colorscale": [
             [
              0,
              "#0d0887"
             ],
             [
              0.1111111111111111,
              "#46039f"
             ],
             [
              0.2222222222222222,
              "#7201a8"
             ],
             [
              0.3333333333333333,
              "#9c179e"
             ],
             [
              0.4444444444444444,
              "#bd3786"
             ],
             [
              0.5555555555555556,
              "#d8576b"
             ],
             [
              0.6666666666666666,
              "#ed7953"
             ],
             [
              0.7777777777777778,
              "#fb9f3a"
             ],
             [
              0.8888888888888888,
              "#fdca26"
             ],
             [
              1,
              "#f0f921"
             ]
            ],
            "type": "surface"
           }
          ],
          "table": [
           {
            "cells": {
             "fill": {
              "color": "#EBF0F8"
             },
             "line": {
              "color": "white"
             }
            },
            "header": {
             "fill": {
              "color": "#C8D4E3"
             },
             "line": {
              "color": "white"
             }
            },
            "type": "table"
           }
          ]
         },
         "layout": {
          "annotationdefaults": {
           "arrowcolor": "#2a3f5f",
           "arrowhead": 0,
           "arrowwidth": 1
          },
          "autotypenumbers": "strict",
          "coloraxis": {
           "colorbar": {
            "outlinewidth": 0,
            "ticks": ""
           }
          },
          "colorscale": {
           "diverging": [
            [
             0,
             "#8e0152"
            ],
            [
             0.1,
             "#c51b7d"
            ],
            [
             0.2,
             "#de77ae"
            ],
            [
             0.3,
             "#f1b6da"
            ],
            [
             0.4,
             "#fde0ef"
            ],
            [
             0.5,
             "#f7f7f7"
            ],
            [
             0.6,
             "#e6f5d0"
            ],
            [
             0.7,
             "#b8e186"
            ],
            [
             0.8,
             "#7fbc41"
            ],
            [
             0.9,
             "#4d9221"
            ],
            [
             1,
             "#276419"
            ]
           ],
           "sequential": [
            [
             0,
             "#0d0887"
            ],
            [
             0.1111111111111111,
             "#46039f"
            ],
            [
             0.2222222222222222,
             "#7201a8"
            ],
            [
             0.3333333333333333,
             "#9c179e"
            ],
            [
             0.4444444444444444,
             "#bd3786"
            ],
            [
             0.5555555555555556,
             "#d8576b"
            ],
            [
             0.6666666666666666,
             "#ed7953"
            ],
            [
             0.7777777777777778,
             "#fb9f3a"
            ],
            [
             0.8888888888888888,
             "#fdca26"
            ],
            [
             1,
             "#f0f921"
            ]
           ],
           "sequentialminus": [
            [
             0,
             "#0d0887"
            ],
            [
             0.1111111111111111,
             "#46039f"
            ],
            [
             0.2222222222222222,
             "#7201a8"
            ],
            [
             0.3333333333333333,
             "#9c179e"
            ],
            [
             0.4444444444444444,
             "#bd3786"
            ],
            [
             0.5555555555555556,
             "#d8576b"
            ],
            [
             0.6666666666666666,
             "#ed7953"
            ],
            [
             0.7777777777777778,
             "#fb9f3a"
            ],
            [
             0.8888888888888888,
             "#fdca26"
            ],
            [
             1,
             "#f0f921"
            ]
           ]
          },
          "colorway": [
           "#636efa",
           "#EF553B",
           "#00cc96",
           "#ab63fa",
           "#FFA15A",
           "#19d3f3",
           "#FF6692",
           "#B6E880",
           "#FF97FF",
           "#FECB52"
          ],
          "font": {
           "color": "#2a3f5f"
          },
          "geo": {
           "bgcolor": "white",
           "lakecolor": "white",
           "landcolor": "white",
           "showlakes": true,
           "showland": true,
           "subunitcolor": "#C8D4E3"
          },
          "hoverlabel": {
           "align": "left"
          },
          "hovermode": "closest",
          "mapbox": {
           "style": "light"
          },
          "paper_bgcolor": "white",
          "plot_bgcolor": "white",
          "polar": {
           "angularaxis": {
            "gridcolor": "#EBF0F8",
            "linecolor": "#EBF0F8",
            "ticks": ""
           },
           "bgcolor": "white",
           "radialaxis": {
            "gridcolor": "#EBF0F8",
            "linecolor": "#EBF0F8",
            "ticks": ""
           }
          },
          "scene": {
           "xaxis": {
            "backgroundcolor": "white",
            "gridcolor": "#DFE8F3",
            "gridwidth": 2,
            "linecolor": "#EBF0F8",
            "showbackground": true,
            "ticks": "",
            "zerolinecolor": "#EBF0F8"
           },
           "yaxis": {
            "backgroundcolor": "white",
            "gridcolor": "#DFE8F3",
            "gridwidth": 2,
            "linecolor": "#EBF0F8",
            "showbackground": true,
            "ticks": "",
            "zerolinecolor": "#EBF0F8"
           },
           "zaxis": {
            "backgroundcolor": "white",
            "gridcolor": "#DFE8F3",
            "gridwidth": 2,
            "linecolor": "#EBF0F8",
            "showbackground": true,
            "ticks": "",
            "zerolinecolor": "#EBF0F8"
           }
          },
          "shapedefaults": {
           "line": {
            "color": "#2a3f5f"
           }
          },
          "ternary": {
           "aaxis": {
            "gridcolor": "#DFE8F3",
            "linecolor": "#A2B1C6",
            "ticks": ""
           },
           "baxis": {
            "gridcolor": "#DFE8F3",
            "linecolor": "#A2B1C6",
            "ticks": ""
           },
           "bgcolor": "white",
           "caxis": {
            "gridcolor": "#DFE8F3",
            "linecolor": "#A2B1C6",
            "ticks": ""
           }
          },
          "title": {
           "x": 0.05
          },
          "xaxis": {
           "automargin": true,
           "gridcolor": "#EBF0F8",
           "linecolor": "#EBF0F8",
           "ticks": "",
           "title": {
            "standoff": 15
           },
           "zerolinecolor": "#EBF0F8",
           "zerolinewidth": 2
          },
          "yaxis": {
           "automargin": true,
           "gridcolor": "#EBF0F8",
           "linecolor": "#EBF0F8",
           "ticks": "",
           "title": {
            "standoff": 15
           },
           "zerolinecolor": "#EBF0F8",
           "zerolinewidth": 2
          }
         }
        },
        "title": {
         "font": {
          "color": "Black",
          "size": 22
         },
         "text": "Topic Word Scores",
         "x": 0.5,
         "xanchor": "center",
         "yanchor": "top"
        },
        "width": 1000,
        "xaxis": {
         "anchor": "y",
         "domain": [
          0,
          0.175
         ],
         "showgrid": true
        },
        "xaxis2": {
         "anchor": "y2",
         "domain": [
          0.275,
          0.45
         ],
         "showgrid": true
        },
        "xaxis3": {
         "anchor": "y3",
         "domain": [
          0.55,
          0.7250000000000001
         ],
         "showgrid": true
        },
        "xaxis4": {
         "anchor": "y4",
         "domain": [
          0.825,
          1
         ],
         "showgrid": true
        },
        "xaxis5": {
         "anchor": "y5",
         "domain": [
          0,
          0.175
         ],
         "showgrid": true
        },
        "xaxis6": {
         "anchor": "y6",
         "domain": [
          0.275,
          0.45
         ],
         "showgrid": true
        },
        "xaxis7": {
         "anchor": "y7",
         "domain": [
          0.55,
          0.7250000000000001
         ],
         "showgrid": true
        },
        "xaxis8": {
         "anchor": "y8",
         "domain": [
          0.825,
          1
         ],
         "showgrid": true
        },
        "yaxis": {
         "anchor": "x",
         "domain": [
          0.6000000000000001,
          1
         ],
         "showgrid": true
        },
        "yaxis2": {
         "anchor": "x2",
         "domain": [
          0.6000000000000001,
          1
         ],
         "showgrid": true
        },
        "yaxis3": {
         "anchor": "x3",
         "domain": [
          0.6000000000000001,
          1
         ],
         "showgrid": true
        },
        "yaxis4": {
         "anchor": "x4",
         "domain": [
          0.6000000000000001,
          1
         ],
         "showgrid": true
        },
        "yaxis5": {
         "anchor": "x5",
         "domain": [
          0,
          0.4
         ],
         "showgrid": true
        },
        "yaxis6": {
         "anchor": "x6",
         "domain": [
          0,
          0.4
         ],
         "showgrid": true
        },
        "yaxis7": {
         "anchor": "x7",
         "domain": [
          0,
          0.4
         ],
         "showgrid": true
        },
        "yaxis8": {
         "anchor": "x8",
         "domain": [
          0,
          0.4
         ],
         "showgrid": true
        }
       }
      }
     },
     "metadata": {},
     "output_type": "display_data"
    }
   ],
   "source": [
    "# Generate a bar chart visualization for the top 10 topics, showing the most representative words for each\n",
    "\n",
    "topic_model.visualize_barchart(top_n_topics=10)"
   ]
  },
  {
   "cell_type": "code",
   "execution_count": null,
   "metadata": {},
   "outputs": [],
   "source": []
  }
 ],
 "metadata": {
  "kernelspec": {
   "display_name": "CMSE495-TwoSix",
   "language": "python",
   "name": "python3"
  },
  "language_info": {
   "codemirror_mode": {
    "name": "ipython",
    "version": 3
   },
   "file_extension": ".py",
   "mimetype": "text/x-python",
   "name": "python",
   "nbconvert_exporter": "python",
   "pygments_lexer": "ipython3",
   "version": "3.11.11"
  },
  "vscode": {
   "interpreter": {
    "hash": "2283f9d377bfc00d15a815433bef4f16278391faa367892d9e17b50238856181"
   }
  }
 },
 "nbformat": 4,
 "nbformat_minor": 2
}
