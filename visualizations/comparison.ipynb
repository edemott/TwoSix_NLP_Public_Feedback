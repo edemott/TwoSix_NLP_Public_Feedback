{
 "cells": [
  {
   "cell_type": "markdown",
   "id": "5d8def0a-0903-4d2b-b2f8-97c120df1873",
   "metadata": {},
   "source": [
    "# Comparison of PHATE against other methods\n",
    "\n",
    "In this notebook, we aim to compare the efficiency of using PHATE to visualize EPA comments, against other well-known dimension reducing methods like PCA, t-SNE and UMAP."
   ]
  },
  {
   "cell_type": "code",
   "execution_count": 1,
   "id": "069c0b7c-18f2-438a-a70e-4c72b32547b9",
   "metadata": {},
   "outputs": [],
   "source": [
    "# Import necessary libraries\n",
    "\n",
    "import pandas as pd\n",
    "import numpy as np\n",
    "import phate\n",
    "import umap\n",
    "from sklearn.manifold import TSNE\n",
    "from sklearn.decomposition import PCA\n",
    "import plotly.express as px\n",
    "import plotly.graph_objects as go\n",
    "from plotly.subplots import make_subplots\n",
    "import matplotlib.pyplot as plt\n",
    "import matplotlib"
   ]
  },
  {
   "cell_type": "code",
   "execution_count": 3,
   "id": "4c300d27-51de-46df-b42c-0e74406d158d",
   "metadata": {},
   "outputs": [
    {
     "name": "stdout",
     "output_type": "stream",
     "text": [
      "Remaining unique rows: 4744\n"
     ]
    }
   ],
   "source": [
    "sample_n = 5000\n",
    "df = pd.read_pickle(\"../data/df_final.pkl\").head(sample_n).reset_index(drop=True)\n",
    "embeddings = np.vstack(df[\"embedding\"].values)\n",
    "\n",
    "# Remove duplicates\n",
    "embeddings, unique_idx = np.unique(embeddings, axis=0, return_index=True)\n",
    "df = df.iloc[unique_idx].reset_index(drop=True)\n",
    "\n",
    "print(f\"Remaining unique rows: {len(df)}\")"
   ]
  },
  {
   "cell_type": "markdown",
   "id": "84ff9643-b97d-41a4-82f4-2202a73525ac",
   "metadata": {},
   "source": [
    "### DIMENSIONALITY REDUCTION"
   ]
  },
  {
   "cell_type": "code",
   "execution_count": null,
   "id": "0be04051-09f2-46d2-a5aa-4af0a0231ed3",
   "metadata": {},
   "outputs": [],
   "source": [
    "print(\"📉 Running PCA...\")\n",
    "pca_result = PCA(n_components=2).fit_transform(embeddings)\n",
    "\n",
    "print(\"🌀 Running t-SNE...\")\n",
    "tsne_result = TSNE(n_components=2, random_state=42, perplexity=30).fit_transform(embeddings)\n",
    "\n",
    "print(\"🌌 Running UMAP...\")\n",
    "umap_result = umap.UMAP(n_components=2, random_state=42).fit_transform(embeddings)\n",
    "\n",
    "print(\"🔮 Running PHATE...\")\n",
    "phate_result = phate.PHATE(n_components=2, n_jobs=-1, n_pca = 300).fit_transform(embeddings)"
   ]
  },
  {
   "cell_type": "code",
   "execution_count": 6,
   "id": "ff7f5970-10a4-470c-a2c5-77988532191b",
   "metadata": {},
   "outputs": [],
   "source": [
    "# Add results to DataFrame\n",
    "df[\"PCA1\"], df[\"PCA2\"] = pca_result[:,0], pca_result[:,1]\n",
    "df[\"TSNE1\"], df[\"TSNE2\"] = tsne_result[:,0], tsne_result[:,1]\n",
    "df[\"UMAP1\"], df[\"UMAP2\"] = umap_result[:,0], umap_result[:,1]\n",
    "df[\"PHATE1\"], df[\"PHATE2\"] = phate_result[:,0], phate_result[:,1]"
   ]
  },
  {
   "cell_type": "markdown",
   "id": "18475dd4-87db-4db7-b3f0-5a81721e98a4",
   "metadata": {},
   "source": [
    "### MAKING A NON-INTERACTIVE PLOT USING MATPLOTLIB"
   ]
  },
  {
   "cell_type": "code",
   "execution_count": null,
   "id": "69871001-0fb6-4209-9be6-c8821252a4c9",
   "metadata": {},
   "outputs": [],
   "source": [
    "# Non-interactive plot\n",
    "\n",
    "# Set up figure\n",
    "fig, axes = plt.subplots(2, 2, figsize=(15, 12))\n",
    "axes = axes.flatten()\n",
    "\n",
    "methods = [\"PCA\", \"t-SNE\", \"UMAP\", \"PHATE\"]\n",
    "coords = [(\"PCA1\", \"PCA2\"), (\"TSNE1\", \"TSNE2\"), (\"UMAP1\", \"UMAP2\"), (\"PHATE1\", \"PHATE2\")]\n",
    "\n",
    "for i, (method, (x_col, y_col)) in enumerate(zip(methods, coords)):\n",
    "    ax = axes[i]\n",
    "    scatter = ax.scatter(\n",
    "        df[x_col], df[y_col], \n",
    "        c=pd.factorize(df[\"topic_label\"])[0],  # color by topic (numeric encoding)\n",
    "        cmap='tab10',  # or any colormap you like\n",
    "        s=5,\n",
    "        alpha=0.7\n",
    "    )\n",
    "    ax.set_title(method)\n",
    "    ax.set_xlabel(x_col)\n",
    "    ax.set_ylabel(y_col)\n",
    "\n",
    "plt.tight_layout()\n",
    "plt.suptitle('Comparison of Dimensionality Reduction Methods (5k Samples)', fontsize=18, y=1.02)\n",
    "fig.savefig(\"../outputs/comparison_static.png\", dpi=300)\n",
    "# plt.show()"
   ]
  },
  {
   "cell_type": "markdown",
   "id": "45ee0a51-943f-4cbe-b72d-5285ad3e9648",
   "metadata": {},
   "source": [
    "### MAKING AN INTERACTIVE PLOTLY PLOT\n",
    "\n",
    "Try removing outlier/noise topic of [-1] from the resulting plot to see better topic clustering without noise!"
   ]
  },
  {
   "cell_type": "code",
   "execution_count": null,
   "id": "9ae0f513-206f-428c-85d1-da401d4e604a",
   "metadata": {},
   "outputs": [],
   "source": [
    "# Plot (subplots)\n",
    "# Define layout\n",
    "fig = make_subplots(\n",
    "    rows=2, cols=2,\n",
    "    subplot_titles=(\"PCA\", \"t-SNE\", \"UMAP\", \"PHATE\"),\n",
    "    horizontal_spacing=0.05, vertical_spacing=0.1\n",
    ")\n",
    "\n",
    "methods = [\"PCA\", \"t-SNE\", \"UMAP\", \"PHATE\"]\n",
    "coords = [(\"PCA1\", \"PCA2\"), (\"TSNE1\", \"TSNE2\"), (\"UMAP1\", \"UMAP2\"), (\"PHATE1\", \"PHATE2\")]\n",
    "\n",
    "# Add one plot per method\n",
    "for i, (method, (x_col, y_col)) in enumerate(zip(methods, coords)):\n",
    "    scatter_fig = px.scatter(\n",
    "        df,\n",
    "        x=x_col,\n",
    "        y=y_col,\n",
    "        color=\"topic_label\",\n",
    "        hover_data=[\"processed_comment\"],\n",
    "    )\n",
    "    for trace in scatter_fig.data:\n",
    "        fig.add_trace(trace, row=(i//2)+1, col=(i%2)+1)\n",
    "\n",
    "fig.update_layout(\n",
    "    height=1000,\n",
    "    width=1600,\n",
    "    title_text=\"Comparison of Dimensionality Reduction Methods (5k Samples)\",\n",
    "    showlegend=True\n",
    ")\n",
    "\n",
    "# fig.write_html(\"../outputs/comparison_interactive.html\", include_plotlyjs=\"cdn\")\n",
    "fig.write_image(\"../outputs/comparison_interactive.png\", scale=2)\n",
    "fig.show()"
   ]
  },
  {
   "cell_type": "code",
   "execution_count": null,
   "id": "f9df9ddd-b1ef-4148-834d-1a8eb877d7ad",
   "metadata": {},
   "outputs": [],
   "source": []
  }
 ],
 "metadata": {
  "kernelspec": {
   "display_name": "Python (CMSE495-TwoSix)",
   "language": "python",
   "name": "cmse495-twosix"
  },
  "language_info": {
   "codemirror_mode": {
    "name": "ipython",
    "version": 3
   },
   "file_extension": ".py",
   "mimetype": "text/x-python",
   "name": "python",
   "nbconvert_exporter": "python",
   "pygments_lexer": "ipython3",
   "version": "3.11.12"
  }
 },
 "nbformat": 4,
 "nbformat_minor": 5
}
