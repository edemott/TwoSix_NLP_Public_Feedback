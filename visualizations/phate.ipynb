{
 "cells": [
  {
   "cell_type": "markdown",
   "id": "a1222b32-22a8-4172-963e-17a01ea40f8c",
   "metadata": {},
   "source": [
    "# PHATE visualizations"
   ]
  },
  {
   "cell_type": "code",
   "execution_count": 2,
   "id": "a76f7c39-7c59-49ea-a0d2-20b48b85be75",
   "metadata": {},
   "outputs": [],
   "source": [
    "import pandas as pd\n",
    "import phate\n",
    "import plotly.express as px\n",
    "import numpy as np\n",
    "\n",
    "# Load the processed data\n",
    "df = pd.read_pickle(\"../data/data.pkl\")\n",
    "\n",
    "# Extract SBERT embeddings\n",
    "embeddings = np.vstack(df[\"embedding\"].values)\n"
   ]
  },
  {
   "cell_type": "code",
   "execution_count": null,
   "id": "d0645b64-3352-4b5f-bc85-757a8c956ac5",
   "metadata": {},
   "outputs": [],
   "source": [
    "# Run PHATE\n",
    "print(\"🌌 Running PHATE...\")\n",
    "phate_op = phate.PHATE(n_components=2)\n",
    "phate_embeddings = phate_op.fit_transform(embeddings)\n",
    "\n",
    "# Add PHATE results to DataFrame\n",
    "df[\"PHATE1\"] = phate_embeddings[:, 0]\n",
    "df[\"PHATE2\"] = phate_embeddings[:, 1]\n",
    "\n",
    "# Pick what to color by\n",
    "color_column = \"topic_label\""
   ]
  },
  {
   "cell_type": "code",
   "execution_count": null,
   "id": "41082af8-4927-45a5-a138-a8c5a0aa43e8",
   "metadata": {},
   "outputs": [],
   "source": [
    "# Plotly interactive scatter plot\n",
    "fig = px.scatter(\n",
    "    df,\n",
    "    x=\"PHATE1\",\n",
    "    y=\"PHATE2\",\n",
    "    color=color_column,\n",
    "    hover_data=[\"processed_comment\"],\n",
    "    title=\"PHATE Visualization of Topics\"\n",
    ")\n",
    "fig.update_layout(\n",
    "    legend_title=\"Topic\",\n",
    "    xaxis_title=\"PHATE 1\",\n",
    "    yaxis_title=\"PHATE 2\",\n",
    "    template=\"plotly_white\"\n",
    ")\n",
    "fig.show()"
   ]
  }
 ],
 "metadata": {
  "kernelspec": {
   "display_name": "Python (CMSE495-TwoSix)",
   "language": "python",
   "name": "cmse495-twosix"
  },
  "language_info": {
   "codemirror_mode": {
    "name": "ipython",
    "version": 3
   },
   "file_extension": ".py",
   "mimetype": "text/x-python",
   "name": "python",
   "nbconvert_exporter": "python",
   "pygments_lexer": "ipython3",
   "version": "3.11.12"
  }
 },
 "nbformat": 4,
 "nbformat_minor": 5
}
