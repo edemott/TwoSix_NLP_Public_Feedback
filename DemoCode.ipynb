{
 "cells": [
  {
   "cell_type": "code",
   "execution_count": 1,
   "id": "5f1e8c48",
   "metadata": {},
   "outputs": [],
   "source": [
    "from scraping import Reg_API, CommentParser"
   ]
  },
  {
   "cell_type": "code",
   "execution_count": 2,
   "id": "9f8c2b6b",
   "metadata": {},
   "outputs": [],
   "source": [
    "api = Reg_API()"
   ]
  },
  {
   "cell_type": "code",
   "execution_count": 3,
   "id": "921c4418",
   "metadata": {},
   "outputs": [
    {
     "data": {
      "text/plain": [
       "<scraping.Reg_API at 0x108e476d0>"
      ]
     },
     "execution_count": 3,
     "metadata": {},
     "output_type": "execute_result"
    }
   ],
   "source": [
    "api.endpoint(\"/comments\")"
   ]
  },
  {
   "cell_type": "code",
   "execution_count": 4,
   "id": "6b2ea995",
   "metadata": {},
   "outputs": [
    {
     "data": {
      "text/plain": [
       "<scraping.Reg_API at 0x108e476d0>"
      ]
     },
     "execution_count": 4,
     "metadata": {},
     "output_type": "execute_result"
    }
   ],
   "source": [
    "api.search(\"climate\")"
   ]
  },
  {
   "cell_type": "code",
   "execution_count": 5,
   "id": "b0ba48c6",
   "metadata": {},
   "outputs": [],
   "source": [
    "res = api.get()"
   ]
  },
  {
   "cell_type": "code",
   "execution_count": 6,
   "id": "8d8e7ff6",
   "metadata": {},
   "outputs": [
    {
     "data": {
      "text/plain": [
       "<scraping.Reg_API at 0x108e476d0>"
      ]
     },
     "execution_count": 6,
     "metadata": {},
     "output_type": "execute_result"
    }
   ],
   "source": [
    "api.endpoint(\"/documents/FS-2023-0006-0002\")"
   ]
  },
  {
   "cell_type": "code",
   "execution_count": 7,
   "id": "7b410f67",
   "metadata": {},
   "outputs": [
    {
     "data": {
      "text/plain": [
       "{'data': {'id': 'FS-2023-0006-0002',\n",
       "  'type': 'documents',\n",
       "  'links': {'self': 'https://api.regulations.gov/v4/documents/FS-2023-0006-0002'},\n",
       "  'attributes': {'additionalRins': None,\n",
       "   'allowLateComments': False,\n",
       "   'authorDate': None,\n",
       "   'authors': None,\n",
       "   'cfrPart': '36 CFR Part 200',\n",
       "   'commentEndDate': '2023-07-21T03:59:59Z',\n",
       "   'commentStartDate': '2023-04-21T04:00:00Z',\n",
       "   'effectiveDate': None,\n",
       "   'exhibitLocation': None,\n",
       "   'exhibitType': None,\n",
       "   'frDocNum': '2023-08429',\n",
       "   'frVolNum': None,\n",
       "   'implementationDate': None,\n",
       "   'media': None,\n",
       "   'ombApproval': None,\n",
       "   'paperLength': 0,\n",
       "   'paperWidth': 0,\n",
       "   'regWriterInstruction': None,\n",
       "   'sourceCitation': None,\n",
       "   'startEndPage': '24497 - 24503',\n",
       "   'subject': None,\n",
       "   'topics': None,\n",
       "   'address1': None,\n",
       "   'address2': None,\n",
       "   'agencyId': 'FS',\n",
       "   'city': None,\n",
       "   'category': None,\n",
       "   'comment': None,\n",
       "   'country': None,\n",
       "   'displayProperties': None,\n",
       "   'docAbstract': None,\n",
       "   'docketId': 'FS-2023-0006',\n",
       "   'documentType': 'Proposed Rule',\n",
       "   'email': None,\n",
       "   'fax': None,\n",
       "   'field1': None,\n",
       "   'field2': None,\n",
       "   'fileFormats': [{'fileUrl': 'https://downloads.regulations.gov/FS-2023-0006-0002/content.pdf',\n",
       "     'format': 'pdf',\n",
       "     'size': 795358},\n",
       "    {'fileUrl': 'https://downloads.regulations.gov/FS-2023-0006-0002/content.htm',\n",
       "     'format': 'htm',\n",
       "     'size': 25796}],\n",
       "   'firstName': None,\n",
       "   'govAgency': None,\n",
       "   'govAgencyType': None,\n",
       "   'objectId': '09000064859705fc',\n",
       "   'lastName': None,\n",
       "   'legacyId': None,\n",
       "   'modifyDate': '2023-09-08T01:04:10Z',\n",
       "   'organization': None,\n",
       "   'originalDocumentId': 'FS_FRDOC_0001-3834',\n",
       "   'pageCount': 0,\n",
       "   'phone': None,\n",
       "   'postedDate': '2023-04-21T04:00:00Z',\n",
       "   'postmarkDate': None,\n",
       "   'reasonWithdrawn': None,\n",
       "   'receiveDate': '2023-04-21T04:00:00Z',\n",
       "   'restrictReason': None,\n",
       "   'restrictReasonType': None,\n",
       "   'stateProvinceRegion': None,\n",
       "   'submitterRep': None,\n",
       "   'submitterRepAddress': None,\n",
       "   'submitterRepCityState': None,\n",
       "   'subtype': 'Advance Notice of Proposed Rulemaking (ANPRM)',\n",
       "   'title': 'Forest Service Functions',\n",
       "   'trackingNbr': None,\n",
       "   'withdrawn': False,\n",
       "   'zip': None,\n",
       "   'openForComment': False,\n",
       "   'withinCommentPeriod': False},\n",
       "  'relationships': {'attachments': {'links': {'self': 'https://api.regulations.gov/v4/documents/FS-2023-0006-0002/relationships/attachments',\n",
       "     'related': 'https://api.regulations.gov/v4/documents/FS-2023-0006-0002/attachments'}}}}}"
      ]
     },
     "execution_count": 7,
     "metadata": {},
     "output_type": "execute_result"
    }
   ],
   "source": [
    "api.get()"
   ]
  },
  {
   "cell_type": "code",
   "execution_count": 8,
   "id": "59505c42",
   "metadata": {},
   "outputs": [
    {
     "data": {
      "text/plain": [
       "{'id': 'PHMSA-2019-0100-2389',\n",
       " 'type': 'comments',\n",
       " 'attributes': {'documentType': 'Public Submission',\n",
       "  'lastModifiedDate': '2019-08-06T13:57:16Z',\n",
       "  'highlightedContent': 'Comment from <mark><em>Climate</em></mark> Writers',\n",
       "  'withdrawn': False,\n",
       "  'agencyId': 'PHMSA',\n",
       "  'title': 'Comment from Climate Writers',\n",
       "  'objectId': '0900006483dd9a06',\n",
       "  'postedDate': '2019-08-02T04:00:00Z'},\n",
       " 'links': {'self': 'https://api.regulations.gov/v4/comments/PHMSA-2019-0100-2389'}}"
      ]
     },
     "execution_count": 8,
     "metadata": {},
     "output_type": "execute_result"
    }
   ],
   "source": [
    "res[\"data\"][0]"
   ]
  },
  {
   "cell_type": "code",
   "execution_count": 9,
   "id": "9435d30e",
   "metadata": {},
   "outputs": [
    {
     "data": {
      "text/plain": [
       "<scraping.Reg_API at 0x108e476d0>"
      ]
     },
     "execution_count": 9,
     "metadata": {},
     "output_type": "execute_result"
    }
   ],
   "source": [
    "api.endpoint(\"/comments/PHMSA-2019-0100-2389\")"
   ]
  },
  {
   "cell_type": "code",
   "execution_count": 10,
   "id": "a4a44b8d",
   "metadata": {},
   "outputs": [],
   "source": [
    "res = api.get()"
   ]
  },
  {
   "cell_type": "code",
   "execution_count": 11,
   "id": "e5960542",
   "metadata": {},
   "outputs": [
    {
     "data": {
      "text/plain": [
       "dict"
      ]
     },
     "execution_count": 11,
     "metadata": {},
     "output_type": "execute_result"
    }
   ],
   "source": [
    "type(res)"
   ]
  },
  {
   "cell_type": "code",
   "execution_count": 12,
   "id": "e7b318a6",
   "metadata": {},
   "outputs": [
    {
     "data": {
      "text/plain": [
       "dict_keys(['data'])"
      ]
     },
     "execution_count": 12,
     "metadata": {},
     "output_type": "execute_result"
    }
   ],
   "source": [
    "res.keys()"
   ]
  },
  {
   "cell_type": "code",
   "execution_count": 13,
   "id": "0d091103",
   "metadata": {},
   "outputs": [
    {
     "data": {
      "text/plain": [
       "dict_keys(['id', 'type', 'links', 'attributes', 'relationships'])"
      ]
     },
     "execution_count": 13,
     "metadata": {},
     "output_type": "execute_result"
    }
   ],
   "source": [
    "res[\"data\"].keys()"
   ]
  },
  {
   "cell_type": "code",
   "execution_count": 14,
   "id": "4f89224e",
   "metadata": {},
   "outputs": [
    {
     "ename": "TesseractNotFoundError",
     "evalue": "tesseract is not installed or it's not in your PATH. See README file for more information.",
     "output_type": "error",
     "traceback": [
      "\u001b[0;31m---------------------------------------------------------------------------\u001b[0m",
      "\u001b[0;31mFileNotFoundError\u001b[0m                         Traceback (most recent call last)",
      "File \u001b[0;32m~/anaconda3/envs/twosix_env2/lib/python3.11/site-packages/pytesseract/pytesseract.py:275\u001b[0m, in \u001b[0;36mrun_tesseract\u001b[0;34m(input_filename, output_filename_base, extension, lang, config, nice, timeout)\u001b[0m\n\u001b[1;32m    274\u001b[0m \u001b[38;5;28;01mtry\u001b[39;00m:\n\u001b[0;32m--> 275\u001b[0m     proc \u001b[38;5;241m=\u001b[39m \u001b[43msubprocess\u001b[49m\u001b[38;5;241;43m.\u001b[39;49m\u001b[43mPopen\u001b[49m\u001b[43m(\u001b[49m\u001b[43mcmd_args\u001b[49m\u001b[43m,\u001b[49m\u001b[43m \u001b[49m\u001b[38;5;241;43m*\u001b[39;49m\u001b[38;5;241;43m*\u001b[39;49m\u001b[43msubprocess_args\u001b[49m\u001b[43m(\u001b[49m\u001b[43m)\u001b[49m\u001b[43m)\u001b[49m\n\u001b[1;32m    276\u001b[0m \u001b[38;5;28;01mexcept\u001b[39;00m \u001b[38;5;167;01mOSError\u001b[39;00m \u001b[38;5;28;01mas\u001b[39;00m e:\n",
      "File \u001b[0;32m~/anaconda3/envs/twosix_env2/lib/python3.11/subprocess.py:1026\u001b[0m, in \u001b[0;36mPopen.__init__\u001b[0;34m(self, args, bufsize, executable, stdin, stdout, stderr, preexec_fn, close_fds, shell, cwd, env, universal_newlines, startupinfo, creationflags, restore_signals, start_new_session, pass_fds, user, group, extra_groups, encoding, errors, text, umask, pipesize, process_group)\u001b[0m\n\u001b[1;32m   1023\u001b[0m             \u001b[38;5;28mself\u001b[39m\u001b[38;5;241m.\u001b[39mstderr \u001b[38;5;241m=\u001b[39m io\u001b[38;5;241m.\u001b[39mTextIOWrapper(\u001b[38;5;28mself\u001b[39m\u001b[38;5;241m.\u001b[39mstderr,\n\u001b[1;32m   1024\u001b[0m                     encoding\u001b[38;5;241m=\u001b[39mencoding, errors\u001b[38;5;241m=\u001b[39merrors)\n\u001b[0;32m-> 1026\u001b[0m     \u001b[38;5;28;43mself\u001b[39;49m\u001b[38;5;241;43m.\u001b[39;49m\u001b[43m_execute_child\u001b[49m\u001b[43m(\u001b[49m\u001b[43margs\u001b[49m\u001b[43m,\u001b[49m\u001b[43m \u001b[49m\u001b[43mexecutable\u001b[49m\u001b[43m,\u001b[49m\u001b[43m \u001b[49m\u001b[43mpreexec_fn\u001b[49m\u001b[43m,\u001b[49m\u001b[43m \u001b[49m\u001b[43mclose_fds\u001b[49m\u001b[43m,\u001b[49m\n\u001b[1;32m   1027\u001b[0m \u001b[43m                        \u001b[49m\u001b[43mpass_fds\u001b[49m\u001b[43m,\u001b[49m\u001b[43m \u001b[49m\u001b[43mcwd\u001b[49m\u001b[43m,\u001b[49m\u001b[43m \u001b[49m\u001b[43menv\u001b[49m\u001b[43m,\u001b[49m\n\u001b[1;32m   1028\u001b[0m \u001b[43m                        \u001b[49m\u001b[43mstartupinfo\u001b[49m\u001b[43m,\u001b[49m\u001b[43m \u001b[49m\u001b[43mcreationflags\u001b[49m\u001b[43m,\u001b[49m\u001b[43m \u001b[49m\u001b[43mshell\u001b[49m\u001b[43m,\u001b[49m\n\u001b[1;32m   1029\u001b[0m \u001b[43m                        \u001b[49m\u001b[43mp2cread\u001b[49m\u001b[43m,\u001b[49m\u001b[43m \u001b[49m\u001b[43mp2cwrite\u001b[49m\u001b[43m,\u001b[49m\n\u001b[1;32m   1030\u001b[0m \u001b[43m                        \u001b[49m\u001b[43mc2pread\u001b[49m\u001b[43m,\u001b[49m\u001b[43m \u001b[49m\u001b[43mc2pwrite\u001b[49m\u001b[43m,\u001b[49m\n\u001b[1;32m   1031\u001b[0m \u001b[43m                        \u001b[49m\u001b[43merrread\u001b[49m\u001b[43m,\u001b[49m\u001b[43m \u001b[49m\u001b[43merrwrite\u001b[49m\u001b[43m,\u001b[49m\n\u001b[1;32m   1032\u001b[0m \u001b[43m                        \u001b[49m\u001b[43mrestore_signals\u001b[49m\u001b[43m,\u001b[49m\n\u001b[1;32m   1033\u001b[0m \u001b[43m                        \u001b[49m\u001b[43mgid\u001b[49m\u001b[43m,\u001b[49m\u001b[43m \u001b[49m\u001b[43mgids\u001b[49m\u001b[43m,\u001b[49m\u001b[43m \u001b[49m\u001b[43muid\u001b[49m\u001b[43m,\u001b[49m\u001b[43m \u001b[49m\u001b[43mumask\u001b[49m\u001b[43m,\u001b[49m\n\u001b[1;32m   1034\u001b[0m \u001b[43m                        \u001b[49m\u001b[43mstart_new_session\u001b[49m\u001b[43m,\u001b[49m\u001b[43m \u001b[49m\u001b[43mprocess_group\u001b[49m\u001b[43m)\u001b[49m\n\u001b[1;32m   1035\u001b[0m \u001b[38;5;28;01mexcept\u001b[39;00m:\n\u001b[1;32m   1036\u001b[0m     \u001b[38;5;66;03m# Cleanup if the child failed starting.\u001b[39;00m\n",
      "File \u001b[0;32m~/anaconda3/envs/twosix_env2/lib/python3.11/subprocess.py:1955\u001b[0m, in \u001b[0;36mPopen._execute_child\u001b[0;34m(self, args, executable, preexec_fn, close_fds, pass_fds, cwd, env, startupinfo, creationflags, shell, p2cread, p2cwrite, c2pread, c2pwrite, errread, errwrite, restore_signals, gid, gids, uid, umask, start_new_session, process_group)\u001b[0m\n\u001b[1;32m   1954\u001b[0m \u001b[38;5;28;01mif\u001b[39;00m err_filename \u001b[38;5;129;01mis\u001b[39;00m \u001b[38;5;129;01mnot\u001b[39;00m \u001b[38;5;28;01mNone\u001b[39;00m:\n\u001b[0;32m-> 1955\u001b[0m     \u001b[38;5;28;01mraise\u001b[39;00m child_exception_type(errno_num, err_msg, err_filename)\n\u001b[1;32m   1956\u001b[0m \u001b[38;5;28;01melse\u001b[39;00m:\n",
      "\u001b[0;31mFileNotFoundError\u001b[0m: [Errno 2] No such file or directory: 'tesseract'",
      "\nDuring handling of the above exception, another exception occurred:\n",
      "\u001b[0;31mTesseractNotFoundError\u001b[0m                    Traceback (most recent call last)",
      "Cell \u001b[0;32mIn[14], line 2\u001b[0m\n\u001b[1;32m      1\u001b[0m parser \u001b[38;5;241m=\u001b[39m CommentParser(api)\n\u001b[0;32m----> 2\u001b[0m \u001b[43mparser\u001b[49m\u001b[38;5;241;43m.\u001b[39;49m\u001b[43mget_comment_data\u001b[49m\u001b[43m(\u001b[49m\u001b[43mres\u001b[49m\u001b[43m[\u001b[49m\u001b[38;5;124;43m\"\u001b[39;49m\u001b[38;5;124;43mdata\u001b[39;49m\u001b[38;5;124;43m\"\u001b[39;49m\u001b[43m]\u001b[49m\u001b[43m)\u001b[49m\n",
      "File \u001b[0;32m~/Library/CloudStorage/OneDrive-MichiganStateUniversity/Desktop/MSU/SPRING 25/CMSE 495/Project_twosix/TwoSix_Spring25/scraping.py:97\u001b[0m, in \u001b[0;36mCommentParser.get_comment_data\u001b[0;34m(self, comment)\u001b[0m\n\u001b[1;32m     90\u001b[0m comment_info \u001b[38;5;241m=\u001b[39m \u001b[38;5;28mself\u001b[39m\u001b[38;5;241m.\u001b[39m_get_comment_info(comment)\n\u001b[1;32m     91\u001b[0m attachments \u001b[38;5;241m=\u001b[39m \u001b[38;5;28mself\u001b[39m\u001b[38;5;241m.\u001b[39m_get_attachments(comment_info)\n\u001b[1;32m     92\u001b[0m \u001b[38;5;28;01mreturn\u001b[39;00m {\n\u001b[1;32m     93\u001b[0m     \u001b[38;5;124m\"\u001b[39m\u001b[38;5;124m_id\u001b[39m\u001b[38;5;124m\"\u001b[39m: comment[\u001b[38;5;124m\"\u001b[39m\u001b[38;5;124mid\u001b[39m\u001b[38;5;124m\"\u001b[39m], \u001b[38;5;66;03m# use response comment ID as mongodb Primary Key _id\u001b[39;00m\n\u001b[1;32m     94\u001b[0m     \u001b[38;5;124m\"\u001b[39m\u001b[38;5;124mcomment_response\u001b[39m\u001b[38;5;124m\"\u001b[39m: comment,\n\u001b[1;32m     95\u001b[0m     \u001b[38;5;124m\"\u001b[39m\u001b[38;5;124mcomment_info\u001b[39m\u001b[38;5;124m\"\u001b[39m: comment_info,\n\u001b[1;32m     96\u001b[0m     \u001b[38;5;124m\"\u001b[39m\u001b[38;5;124mattachments\u001b[39m\u001b[38;5;124m\"\u001b[39m: attachments,\n\u001b[0;32m---> 97\u001b[0m     \u001b[38;5;124m\"\u001b[39m\u001b[38;5;124mcomment_text\u001b[39m\u001b[38;5;124m\"\u001b[39m: \u001b[38;5;28;43mself\u001b[39;49m\u001b[38;5;241;43m.\u001b[39;49m\u001b[43m_get_comment_text\u001b[49m\u001b[43m(\u001b[49m\u001b[43mcomment_info\u001b[49m\u001b[43m,\u001b[49m\u001b[43m \u001b[49m\u001b[43mattachments\u001b[49m\u001b[43m)\u001b[49m\n\u001b[1;32m     98\u001b[0m }\n",
      "File \u001b[0;32m~/Library/CloudStorage/OneDrive-MichiganStateUniversity/Desktop/MSU/SPRING 25/CMSE 495/Project_twosix/TwoSix_Spring25/scraping.py:78\u001b[0m, in \u001b[0;36mCommentParser._get_comment_text\u001b[0;34m(self, comment_info, attachments)\u001b[0m\n\u001b[1;32m     76\u001b[0m extension \u001b[38;5;241m=\u001b[39m attachment_format_url[\u001b[38;5;124m\"\u001b[39m\u001b[38;5;124mfileUrl\u001b[39m\u001b[38;5;124m\"\u001b[39m]\u001b[38;5;241m.\u001b[39msplit(\u001b[38;5;124m\"\u001b[39m\u001b[38;5;124m.\u001b[39m\u001b[38;5;124m\"\u001b[39m)[\u001b[38;5;241m-\u001b[39m\u001b[38;5;241m1\u001b[39m]\n\u001b[1;32m     77\u001b[0m \u001b[38;5;28;01mif\u001b[39;00m extension \u001b[38;5;241m==\u001b[39m \u001b[38;5;124m\"\u001b[39m\u001b[38;5;124mpdf\u001b[39m\u001b[38;5;124m\"\u001b[39m:\n\u001b[0;32m---> 78\u001b[0m     attachment_formats[\u001b[38;5;124m\"\u001b[39m\u001b[38;5;124mpdf\u001b[39m\u001b[38;5;124m\"\u001b[39m] \u001b[38;5;241m=\u001b[39m \u001b[43mparse_pdf\u001b[49m\u001b[43m(\u001b[49m\u001b[38;5;28;43mself\u001b[39;49m\u001b[38;5;241;43m.\u001b[39;49m\u001b[43mapi\u001b[49m\u001b[38;5;241;43m.\u001b[39;49m\u001b[43murl\u001b[49m\u001b[43m(\u001b[49m\u001b[43mattachment_format_url\u001b[49m\u001b[43m[\u001b[49m\u001b[38;5;124;43m\"\u001b[39;49m\u001b[38;5;124;43mfileUrl\u001b[39;49m\u001b[38;5;124;43m\"\u001b[39;49m\u001b[43m]\u001b[49m\u001b[43m)\u001b[49m\u001b[38;5;241;43m.\u001b[39;49m\u001b[43mget\u001b[49m\u001b[43m(\u001b[49m\u001b[43mget_json\u001b[49m\u001b[38;5;241;43m=\u001b[39;49m\u001b[38;5;28;43;01mFalse\u001b[39;49;00m\u001b[43m)\u001b[49m\u001b[38;5;241;43m.\u001b[39;49m\u001b[43mcontent\u001b[49m\u001b[43m)\u001b[49m\n\u001b[1;32m     79\u001b[0m \u001b[38;5;28;01melse\u001b[39;00m:\n\u001b[1;32m     80\u001b[0m     \u001b[38;5;28mprint\u001b[39m(\u001b[38;5;124mf\u001b[39m\u001b[38;5;124m\"\u001b[39m\u001b[38;5;124mFailed to parse filetype \u001b[39m\u001b[38;5;124m'\u001b[39m\u001b[38;5;132;01m{\u001b[39;00mextension\u001b[38;5;132;01m}\u001b[39;00m\u001b[38;5;124m'\u001b[39m\u001b[38;5;124m for attachment \u001b[39m\u001b[38;5;132;01m{\u001b[39;00mattachment_format_url[\u001b[38;5;124m'\u001b[39m\u001b[38;5;124mfileUrl\u001b[39m\u001b[38;5;124m'\u001b[39m]\u001b[38;5;132;01m}\u001b[39;00m\u001b[38;5;124m\"\u001b[39m)\n",
      "File \u001b[0;32m~/Library/CloudStorage/OneDrive-MichiganStateUniversity/Desktop/MSU/SPRING 25/CMSE 495/Project_twosix/TwoSix_Spring25/scraping.py:53\u001b[0m, in \u001b[0;36mparse_pdf\u001b[0;34m(pdf)\u001b[0m\n\u001b[1;32m     51\u001b[0m text \u001b[38;5;241m=\u001b[39m \u001b[38;5;124m\"\u001b[39m\u001b[38;5;124m\"\u001b[39m\n\u001b[1;32m     52\u001b[0m \u001b[38;5;28;01mfor\u001b[39;00m img \u001b[38;5;129;01min\u001b[39;00m imgs:\n\u001b[0;32m---> 53\u001b[0m     text \u001b[38;5;241m=\u001b[39m text \u001b[38;5;241m+\u001b[39m \u001b[43mpytesseract\u001b[49m\u001b[38;5;241;43m.\u001b[39;49m\u001b[43mimage_to_string\u001b[49m\u001b[43m(\u001b[49m\u001b[43mnp\u001b[49m\u001b[38;5;241;43m.\u001b[39;49m\u001b[43marray\u001b[49m\u001b[43m(\u001b[49m\u001b[43mimg\u001b[49m\u001b[43m)\u001b[49m\u001b[43m)\u001b[49m\n\u001b[1;32m     54\u001b[0m \u001b[38;5;28;01mreturn\u001b[39;00m text\n",
      "File \u001b[0;32m~/anaconda3/envs/twosix_env2/lib/python3.11/site-packages/pytesseract/pytesseract.py:486\u001b[0m, in \u001b[0;36mimage_to_string\u001b[0;34m(image, lang, config, nice, output_type, timeout)\u001b[0m\n\u001b[1;32m    481\u001b[0m \u001b[38;5;250m\u001b[39m\u001b[38;5;124;03m\"\"\"\u001b[39;00m\n\u001b[1;32m    482\u001b[0m \u001b[38;5;124;03mReturns the result of a Tesseract OCR run on the provided image to string\u001b[39;00m\n\u001b[1;32m    483\u001b[0m \u001b[38;5;124;03m\"\"\"\u001b[39;00m\n\u001b[1;32m    484\u001b[0m args \u001b[38;5;241m=\u001b[39m [image, \u001b[38;5;124m'\u001b[39m\u001b[38;5;124mtxt\u001b[39m\u001b[38;5;124m'\u001b[39m, lang, config, nice, timeout]\n\u001b[0;32m--> 486\u001b[0m \u001b[38;5;28;01mreturn\u001b[39;00m \u001b[43m{\u001b[49m\n\u001b[1;32m    487\u001b[0m \u001b[43m    \u001b[49m\u001b[43mOutput\u001b[49m\u001b[38;5;241;43m.\u001b[39;49m\u001b[43mBYTES\u001b[49m\u001b[43m:\u001b[49m\u001b[43m \u001b[49m\u001b[38;5;28;43;01mlambda\u001b[39;49;00m\u001b[43m:\u001b[49m\u001b[43m \u001b[49m\u001b[43mrun_and_get_output\u001b[49m\u001b[43m(\u001b[49m\u001b[38;5;241;43m*\u001b[39;49m\u001b[43m(\u001b[49m\u001b[43margs\u001b[49m\u001b[43m \u001b[49m\u001b[38;5;241;43m+\u001b[39;49m\u001b[43m \u001b[49m\u001b[43m[\u001b[49m\u001b[38;5;28;43;01mTrue\u001b[39;49;00m\u001b[43m]\u001b[49m\u001b[43m)\u001b[49m\u001b[43m)\u001b[49m\u001b[43m,\u001b[49m\n\u001b[1;32m    488\u001b[0m \u001b[43m    \u001b[49m\u001b[43mOutput\u001b[49m\u001b[38;5;241;43m.\u001b[39;49m\u001b[43mDICT\u001b[49m\u001b[43m:\u001b[49m\u001b[43m \u001b[49m\u001b[38;5;28;43;01mlambda\u001b[39;49;00m\u001b[43m:\u001b[49m\u001b[43m \u001b[49m\u001b[43m{\u001b[49m\u001b[38;5;124;43m'\u001b[39;49m\u001b[38;5;124;43mtext\u001b[39;49m\u001b[38;5;124;43m'\u001b[39;49m\u001b[43m:\u001b[49m\u001b[43m \u001b[49m\u001b[43mrun_and_get_output\u001b[49m\u001b[43m(\u001b[49m\u001b[38;5;241;43m*\u001b[39;49m\u001b[43margs\u001b[49m\u001b[43m)\u001b[49m\u001b[43m}\u001b[49m\u001b[43m,\u001b[49m\n\u001b[1;32m    489\u001b[0m \u001b[43m    \u001b[49m\u001b[43mOutput\u001b[49m\u001b[38;5;241;43m.\u001b[39;49m\u001b[43mSTRING\u001b[49m\u001b[43m:\u001b[49m\u001b[43m \u001b[49m\u001b[38;5;28;43;01mlambda\u001b[39;49;00m\u001b[43m:\u001b[49m\u001b[43m \u001b[49m\u001b[43mrun_and_get_output\u001b[49m\u001b[43m(\u001b[49m\u001b[38;5;241;43m*\u001b[39;49m\u001b[43margs\u001b[49m\u001b[43m)\u001b[49m\u001b[43m,\u001b[49m\n\u001b[1;32m    490\u001b[0m \u001b[43m\u001b[49m\u001b[43m}\u001b[49m\u001b[43m[\u001b[49m\u001b[43moutput_type\u001b[49m\u001b[43m]\u001b[49m\u001b[43m(\u001b[49m\u001b[43m)\u001b[49m\n",
      "File \u001b[0;32m~/anaconda3/envs/twosix_env2/lib/python3.11/site-packages/pytesseract/pytesseract.py:489\u001b[0m, in \u001b[0;36mimage_to_string.<locals>.<lambda>\u001b[0;34m()\u001b[0m\n\u001b[1;32m    481\u001b[0m \u001b[38;5;250m\u001b[39m\u001b[38;5;124;03m\"\"\"\u001b[39;00m\n\u001b[1;32m    482\u001b[0m \u001b[38;5;124;03mReturns the result of a Tesseract OCR run on the provided image to string\u001b[39;00m\n\u001b[1;32m    483\u001b[0m \u001b[38;5;124;03m\"\"\"\u001b[39;00m\n\u001b[1;32m    484\u001b[0m args \u001b[38;5;241m=\u001b[39m [image, \u001b[38;5;124m'\u001b[39m\u001b[38;5;124mtxt\u001b[39m\u001b[38;5;124m'\u001b[39m, lang, config, nice, timeout]\n\u001b[1;32m    486\u001b[0m \u001b[38;5;28;01mreturn\u001b[39;00m {\n\u001b[1;32m    487\u001b[0m     Output\u001b[38;5;241m.\u001b[39mBYTES: \u001b[38;5;28;01mlambda\u001b[39;00m: run_and_get_output(\u001b[38;5;241m*\u001b[39m(args \u001b[38;5;241m+\u001b[39m [\u001b[38;5;28;01mTrue\u001b[39;00m])),\n\u001b[1;32m    488\u001b[0m     Output\u001b[38;5;241m.\u001b[39mDICT: \u001b[38;5;28;01mlambda\u001b[39;00m: {\u001b[38;5;124m'\u001b[39m\u001b[38;5;124mtext\u001b[39m\u001b[38;5;124m'\u001b[39m: run_and_get_output(\u001b[38;5;241m*\u001b[39margs)},\n\u001b[0;32m--> 489\u001b[0m     Output\u001b[38;5;241m.\u001b[39mSTRING: \u001b[38;5;28;01mlambda\u001b[39;00m: \u001b[43mrun_and_get_output\u001b[49m\u001b[43m(\u001b[49m\u001b[38;5;241;43m*\u001b[39;49m\u001b[43margs\u001b[49m\u001b[43m)\u001b[49m,\n\u001b[1;32m    490\u001b[0m }[output_type]()\n",
      "File \u001b[0;32m~/anaconda3/envs/twosix_env2/lib/python3.11/site-packages/pytesseract/pytesseract.py:352\u001b[0m, in \u001b[0;36mrun_and_get_output\u001b[0;34m(image, extension, lang, config, nice, timeout, return_bytes)\u001b[0m\n\u001b[1;32m    341\u001b[0m \u001b[38;5;28;01mwith\u001b[39;00m save(image) \u001b[38;5;28;01mas\u001b[39;00m (temp_name, input_filename):\n\u001b[1;32m    342\u001b[0m     kwargs \u001b[38;5;241m=\u001b[39m {\n\u001b[1;32m    343\u001b[0m         \u001b[38;5;124m'\u001b[39m\u001b[38;5;124minput_filename\u001b[39m\u001b[38;5;124m'\u001b[39m: input_filename,\n\u001b[1;32m    344\u001b[0m         \u001b[38;5;124m'\u001b[39m\u001b[38;5;124moutput_filename_base\u001b[39m\u001b[38;5;124m'\u001b[39m: temp_name,\n\u001b[0;32m   (...)\u001b[0m\n\u001b[1;32m    349\u001b[0m         \u001b[38;5;124m'\u001b[39m\u001b[38;5;124mtimeout\u001b[39m\u001b[38;5;124m'\u001b[39m: timeout,\n\u001b[1;32m    350\u001b[0m     }\n\u001b[0;32m--> 352\u001b[0m     \u001b[43mrun_tesseract\u001b[49m\u001b[43m(\u001b[49m\u001b[38;5;241;43m*\u001b[39;49m\u001b[38;5;241;43m*\u001b[39;49m\u001b[43mkwargs\u001b[49m\u001b[43m)\u001b[49m\n\u001b[1;32m    353\u001b[0m     \u001b[38;5;28;01mreturn\u001b[39;00m _read_output(\n\u001b[1;32m    354\u001b[0m         \u001b[38;5;124mf\u001b[39m\u001b[38;5;124m\"\u001b[39m\u001b[38;5;132;01m{\u001b[39;00mkwargs[\u001b[38;5;124m'\u001b[39m\u001b[38;5;124moutput_filename_base\u001b[39m\u001b[38;5;124m'\u001b[39m]\u001b[38;5;132;01m}\u001b[39;00m\u001b[38;5;132;01m{\u001b[39;00mextsep\u001b[38;5;132;01m}\u001b[39;00m\u001b[38;5;132;01m{\u001b[39;00mextension\u001b[38;5;132;01m}\u001b[39;00m\u001b[38;5;124m\"\u001b[39m,\n\u001b[1;32m    355\u001b[0m         return_bytes,\n\u001b[1;32m    356\u001b[0m     )\n",
      "File \u001b[0;32m~/anaconda3/envs/twosix_env2/lib/python3.11/site-packages/pytesseract/pytesseract.py:280\u001b[0m, in \u001b[0;36mrun_tesseract\u001b[0;34m(input_filename, output_filename_base, extension, lang, config, nice, timeout)\u001b[0m\n\u001b[1;32m    278\u001b[0m         \u001b[38;5;28;01mraise\u001b[39;00m\n\u001b[1;32m    279\u001b[0m     \u001b[38;5;28;01melse\u001b[39;00m:\n\u001b[0;32m--> 280\u001b[0m         \u001b[38;5;28;01mraise\u001b[39;00m TesseractNotFoundError()\n\u001b[1;32m    282\u001b[0m \u001b[38;5;28;01mwith\u001b[39;00m timeout_manager(proc, timeout) \u001b[38;5;28;01mas\u001b[39;00m error_string:\n\u001b[1;32m    283\u001b[0m     \u001b[38;5;28;01mif\u001b[39;00m proc\u001b[38;5;241m.\u001b[39mreturncode:\n",
      "\u001b[0;31mTesseractNotFoundError\u001b[0m: tesseract is not installed or it's not in your PATH. See README file for more information."
     ]
    }
   ],
   "source": [
    "parser = CommentParser(api)\n",
    "parser.get_comment_data(res[\"data\"])"
   ]
  },
  {
   "cell_type": "code",
   "execution_count": 36,
   "id": "74268f67",
   "metadata": {},
   "outputs": [],
   "source": [
    "res[\"data\"][\"attributes\"][\"fileFormats\"]"
   ]
  },
  {
   "cell_type": "code",
   "execution_count": 41,
   "id": "ed6e820b",
   "metadata": {},
   "outputs": [
    {
     "name": "stdout",
     "output_type": "stream",
     "text": [
      "commentOn 0900006483cf03d6\n",
      "commentOnDocumentId PHMSA-2019-0100-0002\n",
      "duplicateComments 0\n",
      "address1 None\n",
      "address2 None\n",
      "agencyId PHMSA\n",
      "city None\n",
      "category None\n",
      "comment attach\n",
      "country None\n",
      "displayProperties None\n",
      "docAbstract None\n",
      "docketId PHMSA-2019-0100\n",
      "documentType Public Submission\n",
      "email None\n",
      "fax None\n",
      "field1 None\n",
      "field2 None\n",
      "fileFormats None\n",
      "firstName Climate\n",
      "govAgency None\n",
      "govAgencyType None\n",
      "objectId 0900006483dd9a06\n",
      "lastName Writers\n",
      "legacyId None\n",
      "modifyDate 2019-08-06T13:57:16Z\n",
      "organization None\n",
      "originalDocumentId None\n",
      "pageCount 0\n",
      "phone None\n",
      "postedDate 2019-08-02T04:00:00Z\n",
      "postmarkDate None\n",
      "reasonWithdrawn None\n",
      "receiveDate 2019-07-31T04:00:00Z\n",
      "restrictReason None\n",
      "restrictReasonType None\n",
      "stateProvinceRegion None\n",
      "submitterRep None\n",
      "submitterRepAddress None\n",
      "submitterRepCityState None\n",
      "subtype Comment(s)\n",
      "title Comment from Climate Writers\n",
      "trackingNbr 1k3-9bcj-wytd\n",
      "withdrawn False\n",
      "zip None\n",
      "openForComment False\n"
     ]
    }
   ],
   "source": [
    "for k in res[\"data\"][\"attributes\"]:\n",
    "    print(k,res[\"data\"][\"attributes\"][k])"
   ]
  },
  {
   "cell_type": "code",
   "execution_count": 48,
   "id": "7725ea23",
   "metadata": {},
   "outputs": [
    {
     "data": {
      "text/plain": [
       "{'attachments': {'links': {'self': 'https://api.regulations.gov/v4/comments/PHMSA-2019-0100-2389/relationships/attachments',\n",
       "   'related': 'https://api.regulations.gov/v4/comments/PHMSA-2019-0100-2389/attachments'}}}"
      ]
     },
     "execution_count": 48,
     "metadata": {},
     "output_type": "execute_result"
    }
   ],
   "source": [
    "res[\"data\"][\"relationships\"]"
   ]
  },
  {
   "cell_type": "code",
   "execution_count": 28,
   "id": "bff864c7",
   "metadata": {},
   "outputs": [
    {
     "data": {
      "text/plain": [
       "<scraping.Reg_API at 0x1082cb6d0>"
      ]
     },
     "execution_count": 28,
     "metadata": {},
     "output_type": "execute_result"
    }
   ],
   "source": [
    "id = \"FS-2023-0006-65833\"\n",
    "api.endpoint(f\"/comments/{id}\")"
   ]
  },
  {
   "cell_type": "code",
   "execution_count": 29,
   "id": "694c7cb2",
   "metadata": {},
   "outputs": [],
   "source": [
    "res = api.get()"
   ]
  },
  {
   "cell_type": "code",
   "execution_count": 32,
   "id": "a83c7278",
   "metadata": {},
   "outputs": [],
   "source": [
    "res[\"data\"][\"attributes\"][\"fileFormats\"]"
   ]
  },
  {
   "cell_type": "code",
   "execution_count": 52,
   "id": "11a65132",
   "metadata": {},
   "outputs": [],
   "source": [
    "id = \"FS-2023-0006-65833\"\n",
    "api.endpoint(f\"/comments/{id}\")\n",
    "res = api.get()"
   ]
  },
  {
   "cell_type": "code",
   "execution_count": 53,
   "id": "6712aae8",
   "metadata": {},
   "outputs": [
    {
     "data": {
      "text/plain": [
       "[]"
      ]
     },
     "execution_count": 53,
     "metadata": {},
     "output_type": "execute_result"
    }
   ],
   "source": [
    "api.url(res[\"data\"][\"relationships\"][\"attachments\"][\"links\"]['related']).get()[\"data\"]"
   ]
  },
  {
   "cell_type": "code",
   "execution_count": 75,
   "id": "49b558a9",
   "metadata": {},
   "outputs": [
    {
     "name": "stdout",
     "output_type": "stream",
     "text": [
      "See attached file.\n",
      "See attached\n",
      "See attachment\n",
      "See attached file(s)<br/><br/>Thank you for the opportunity to provide verbal comment at an upcoming public hearing. On behalf of Climate Jobs Rhode Island, Climate Jobs Illinois, Texas Climate Jobs Project, and Climate Jobs Massachusetts, attached is a letter requesting the opportunity to speak at the public hearing currently scheduled for November 21, 2023. Our coalitions are composed of many different labor unions and labor organizations within our respective states. We can therefore provide unique perspectives as they pertain to implementing and enforcing the proposed regulations within the states.<br/><br/>Our verbal comments at the public hearing will center on enforcement of the prevailing wage and apprenticeship requirements for the IRA&rsquo;s tax credits, and implementation of these standards within the regulations, including co-enforcement models.\n",
      "Please find The Climate Trust&#39;s comments attached. \n",
      "Bluebird Climate Technologies Inc. respectfully submits the attached document in response to the Federal Trade Commission&rsquo;s request for comments on the Green Guides Review (Matter No. P954501).<br/>\n",
      "See attached file(s)\n",
      "See attached file(s)\n",
      "Catholic Climate Covenant (comment document attached)\n",
      "See attached file(s)\n",
      "Thank you for the opportunity to provide feedback and comments on the Environmental Protection Agency (&ldquo;EPA&rdquo;) Proposed Information Collection Request (&ldquo;ICR&rdquo;) for the Greenhouse Gas Reduction Fund (&ldquo;GGRF&rdquo;) Accomplishment Reporting, posted on August 26, 2024. Climate United is supportive of the EPA&rsquo;s proactive step of outlining the anticipated impact reporting requirements and is pleased to have the opportunity to help inform those requirements.<br/>Climate United is the collaboration of non-profit organizations Calvert Impact, the Community Preservation Corporation (&ldquo;CPC&rdquo;), and Self-Help, with a mission to accelerate an equitable clean energy transition. Together, we have a combined 120 years of experience deploying and managing more than $30 billion in capital across 50 states, with a focus on creating economic opportunity, sustainable development, and climate solutions in Justice40 communities. Our comments are informed by our extensive experience managing federal grants and reporting impact data from thousands of transaction partners in low-income and disadvantaged communities (&ldquo;LIDAC&rdquo;).<br/><br/>Climate United&rsquo;s national strategy is focused on demonstrating the benefits of the clean energy transition through investments in the program&rsquo;s three priority areas &ndash; Distributed Power Generation and Storage, Building Decarbonization, and Electric Transportation &ndash; across seven key market segments &ndash; Consumers, Multifamily Housing, Community Infrastructure, Small Business and Small Farms, Schools and Minority Serving Institutions, Community Solar, and Electric Vehicles and related infrastructure. Climate United submitted its response to the National Clean Investment Fund award competition in October 2023 and was notified of an award in April 2024.<br/><br/>This national, cross-sector, and multi-segment strategy presents an enormous opportunity to collect, analyze, and report data on the impact of this program, but also means that the reporting infrastructure needs to be nimble enough to accommodate a wide variety of project types, transaction types, transaction partners, and community capacity &ndash; especially in the first years of the program. We continue to emphasize and advocate for substance over form and depth of outcomes over complexity of reporting. The more unnecessarily complex the reporting structure, the less inclusive and equitable the overall distribution of funds will become, as smaller, community-based lenders or organizations are able unable to satisfy burdensome reporting demands. The goal of accomplishment reporting is to hold Recipients accountable to the American public and convey the true impact the GGRF funds have had on American families and our economy.<br/><br/>Climate United offers the following comments keeping these goals in mind, emphasizing the following overarching recommendations to improve the reporting instruments:<br/>&bull; Simplify and optimize the reporting of administrative and operational costs and allocation of expenditures<br/>&bull; Clarify the utility and method for reporting both projections and pipeline, and optimize the reporting of projections and longitudinal data<br/>&bull; Ensure that Davis Bacon and Related Acts compliance reporting timelines are practical<br/>&bull; Provide further guidance and engage Recipients on calculating benefits fields<br/>&bull; Simplify the Conditional Logic in the Data Dictionary<br/>&bull; Clarify the relationship between Transactions and between Transactions and Projects<br/>&bull; Correct inconsistencies and errors in the reporting materials and provide clearer guidance and definitions throughout the instruments that align with the final Terms &amp; Conditions<br/><br/>In light of these challenges, further discussed in our full letter attached, it is Climate United&rsquo;s opinion that the current calculated burden and cost estimates underestimate the cost born by respondents, especially in the completion of transaction and project data submissions, quality assurance, use of greenhouse gas (GHG) calculators, and current progress reports as outlined. Climate United makes the following recommendations in the attached to reduce this reporting burden while maintaining the integrity and achieving the goals of accomplishment reporting.\n",
      "Climate United offers the attached comment letter on the EPA&#39;s proposed GGRF Accomplishment Reporting Information Collection Request.\n",
      "Comments are attached. \n",
      "See attached file(s)\n",
      "Please find attached comments from Anew Climate.\n",
      "See attached file(s)\n",
      "See attached document for Rogue Climate&#39;s comment. \n",
      "See attached file(s)\n",
      "Basis Climate respectfully submits this request for guidance in response to the proposed regulations regarding the transferability of tax credits under Section 6418 (REG&ndash;101610&ndash;23). The requested guidance is of critical interest to Basis Climate, and more broadly to project developers and companies looking to efficiently transact transferable tax credits.<br/><br/>See attached comment letter.\n",
      "See Attached\n"
     ]
    }
   ],
   "source": [
    "comments = []\n",
    "N = 999\n",
    "p = 1\n",
    "api.endpoint(\"/comments\")\n",
    "api.search(\"climate\")\n",
    "api.page(2)\n",
    "res = api.get()\n",
    "i = 1\n",
    "for entry in res[\"data\"]:\n",
    "    id = entry[\"id\"]\n",
    "    api.endpoint(f\"/comments/{id}\")\n",
    "    comment_res = api.get()\n",
    "    has_attachments = api.url(comment_res[\"data\"][\"relationships\"][\"attachments\"][\"links\"]['related']).get()[\"data\"]\n",
    "    print(comment_res[\"data\"][\"attributes\"][\"comment\"])\n",
    "    i += 1\n",
    "    if not has_attachments:\n",
    "        text = comment_res[\"data\"][\"attributes\"][\"comment\"]\n",
    "        comments.append(text)\n",
    "\n",
    "\n",
    "    "
   ]
  },
  {
   "cell_type": "code",
   "execution_count": 73,
   "id": "1a9cd466",
   "metadata": {},
   "outputs": [
    {
     "data": {
      "text/plain": [
       "[]"
      ]
     },
     "execution_count": 73,
     "metadata": {},
     "output_type": "execute_result"
    }
   ],
   "source": [
    "comments"
   ]
  },
  {
   "cell_type": "code",
   "execution_count": 61,
   "id": "c54b0540",
   "metadata": {},
   "outputs": [
    {
     "data": {
      "text/plain": [
       "[{'id': 'BOEM-2024-0022-0054',\n",
       "  'type': 'comments',\n",
       "  'attributes': {'documentType': 'Public Submission',\n",
       "   'lastModifiedDate': '2024-07-04T00:33:53Z',\n",
       "   'highlightedContent': 'Rogue <mark><em>Climate</em></mark> _ORPSN_ 06_28_2024&hellip;&nbsp;Rogue <mark><em>Climate</em></mark> serves and works alongside Southern Oregon and South Coast communities most\\n\\nimpacted by&hellip;&nbsp;<mark><em>climate</em></mark> change, including low-income, rural, youth, and communities of color, by\\n\\norganizing for clean&hellip;&nbsp;Rogue <mark><em>Climate</em></mark> is invested in the protection of the Coos Bay estuary and the <mark><em>climate</em></mark> resilience of\\n\\nSouth&hellip;&nbsp;Ensuring A Just Transition:\\nThrough the <mark><em>Climate</em></mark> Justice Alliance, Rogue <mark><em>Climate</em></mark>, alongside UPROSE and&hellip;&nbsp;Rogue <mark><em>Climate</em></mark> looks forward to continued collaboration and\\n\\nengagement into the future.',\n",
       "   'withdrawn': False,\n",
       "   'agencyId': 'BOEM',\n",
       "   'title': 'Comment from Rogue Climate',\n",
       "   'objectId': '09000064865d6342',\n",
       "   'postedDate': '2024-07-03T04:00:00Z'},\n",
       "  'links': {'self': 'https://api.regulations.gov/v4/comments/BOEM-2024-0022-0054'}},\n",
       " {'id': 'CEQ-2019-0003-173061',\n",
       "  'type': 'comments',\n",
       "  'attributes': {'documentType': 'Public Submission',\n",
       "   'lastModifiedDate': '2020-05-04T23:16:20Z',\n",
       "   'highlightedContent': 'Comment from <mark><em>Climate</em></mark> Writers (8 signatures)_0224_2&hellip;&nbsp;<mark><em>CLIMATE</em></mark> WRITERS \\n\\nM1.3 64/mil 44 \\nco-L 0 ?',\n",
       "   'withdrawn': False,\n",
       "   'agencyId': 'CEQ',\n",
       "   'title': 'Comment from Climate Writers (8 signatures)',\n",
       "   'objectId': '09000064844c39e2',\n",
       "   'postedDate': '2020-05-04T04:00:00Z'},\n",
       "  'links': {'self': 'https://api.regulations.gov/v4/comments/CEQ-2019-0003-173061'}},\n",
       " {'id': 'DOS-2013-0011-0367',\n",
       "  'type': 'comments',\n",
       "  'attributes': {'documentType': 'Public Submission',\n",
       "   'lastModifiedDate': '2013-07-18T18:35:06Z',\n",
       "   'highlightedContent': '<mark><em>Climate</em></mark> Parents&hellip;&nbsp;Parents\\n\\n4/19/2013 Angela Wyatt PARENTS <mark><em>Climate</em></mark> Parents\\n\\n4/19/2013 Brad Jaynes PARENTS <mark><em>Climate</em></mark> Parents&hellip;&nbsp;Dana Mains PARENTS <mark><em>Climate</em></mark> Parents\\n\\n4/19/2013 Daniel Lee PARENTS <mark><em>Climate</em></mark> Parents\\n\\n4/19/2013 Darleen&hellip;&nbsp;<mark><em>Climate</em></mark> Parents\\n\\n4/19/2013 Jeanne Miller PARENTS <mark><em>Climate</em></mark> Parents\\n\\n4/19/2013 Jeff Colman PARENTS <mark><em>Climate</em></mark>&hellip;&nbsp;<mark><em>Climate</em></mark> Parents\\n\\n4/19/2013 Thomas Green PARENTS <mark><em>Climate</em></mark> Parents\\n\\n4/19/2013 Valli Sugden PARENTS <mark><em>Climate</em></mark>&hellip;&nbsp;4/21/2013 Michael PARENTS <mark><em>Climate</em></mark> Parents\\n\\n4/21/2013 Whitney PARENTS <mark><em>Climate</em></mark> Parents',\n",
       "   'withdrawn': False,\n",
       "   'agencyId': 'DOS',\n",
       "   'title': 'Climate Parents Letters Received April 19-21, 2013',\n",
       "   'objectId': '090000648136d5a9',\n",
       "   'postedDate': '2013-07-18T04:00:00Z'},\n",
       "  'links': {'self': 'https://api.regulations.gov/v4/comments/DOS-2013-0011-0367'}},\n",
       " {'id': 'IRS-2023-0042-0199',\n",
       "  'type': 'comments',\n",
       "  'attributes': {'documentType': 'Public Submission',\n",
       "   'lastModifiedDate': '2023-10-31T16:54:00Z',\n",
       "   'highlightedContent': 'On behalf of <mark><em>Climate</em></mark> Jobs Rhode Island, <mark><em>Climate</em></mark> Jobs Illinois, Texas <mark><em>Climate</em></mark> Jobs Project, and <mark><em>Climate</em></mark>&hellip;&nbsp;FROM: <mark><em>Climate</em></mark> Jobs Rhode Island; <mark><em>Climate</em></mark> Jobs Massachusetts; <mark><em>Climate</em></mark> Jobs Illinois; Texas <mark><em>Climate</em></mark> Jobs&hellip;&nbsp;Sincerely, \\n \\n \\nMichael Roles \\nPolicy Director \\n<mark><em>Climate</em></mark> Jobs Rhode Island \\nmike@climatejobsri.org&hellip;&nbsp;Joe Duffy \\nExecutive Director \\n<mark><em>Climate</em></mark> Jobs Illinois \\n \\nBo Delp \\nExecutive Director \\nTexas <mark><em>Climate</em></mark> Jobs&hellip;&nbsp;Project \\n \\nRyan Murphy \\nExecutive Director \\n<mark><em>Climate</em></mark> Jobs Massachusetts \\n\\nmailto:mike@climatejobsri.org',\n",
       "   'withdrawn': False,\n",
       "   'agencyId': 'IRS',\n",
       "   'title': 'Comment from Climate Jobs Rhode Island, Climate Jobs Illinois, Texas Climate Jobs Project, Climate Jobs Massachusetts',\n",
       "   'objectId': '0900006486196a59',\n",
       "   'postedDate': '2023-10-31T04:00:00Z'},\n",
       "  'links': {'self': 'https://api.regulations.gov/v4/comments/IRS-2023-0042-0199'}},\n",
       " {'id': 'USDA-2021-0010-0317',\n",
       "  'type': 'comments',\n",
       "  'attributes': {'documentType': 'Public Submission',\n",
       "   'lastModifiedDate': '2021-11-02T12:37:55Z',\n",
       "   'highlightedContent': \"Please find The <mark><em>Climate</em></mark> Trust's comments attached.&hellip;&nbsp;Docket ID- USDA-2021-0010_The <mark><em>Climate</em></mark> Trust&hellip;&nbsp;Please find The <mark><em>Climate</em></mark> Trust’s comments to Climate-Smart Agriculture and Forestry Partnership \\nProgram&hellip;&nbsp;The <mark><em>Climate</em></mark> Trust  \\nThe <mark><em>Climate</em></mark> Trust is a non-profit organization with 25 years’ experience in the carbon&hellip;&nbsp;Based in Portland, Oregon, The <mark><em>Climate</em></mark> Trust works with public, private, and tribal partners throughout&hellip;&nbsp;In addition to developing carbon offset projects, The <mark><em>Climate</em></mark> \\nTrust is a recognized policy and thought&hellip;&nbsp;The <mark><em>Climate</em></mark> Trust is among the most experienced carbon market practitioners and has contracted seven\",\n",
       "   'withdrawn': False,\n",
       "   'agencyId': 'USDA',\n",
       "   'title': 'Comment from The Climate Trust',\n",
       "   'objectId': '0900006484e06192',\n",
       "   'postedDate': '2021-11-02T04:00:00Z'},\n",
       "  'links': {'self': 'https://api.regulations.gov/v4/comments/USDA-2021-0010-0317'}},\n",
       " {'id': 'FTC-2022-0077-1067',\n",
       "  'type': 'comments',\n",
       "  'attributes': {'documentType': 'Public Submission',\n",
       "   'lastModifiedDate': '2023-05-05T04:07:35Z',\n",
       "   'highlightedContent': 'Bluebird <mark><em>Climate</em></mark> Technologies Inc. respectfully submits the attached document in response to the Federal&hellip;&nbsp;Green Guides Submission - Bluebird <mark><em>Climate</em></mark>&hellip;&nbsp;P954501)\\n\\nDear Commissioners,\\n\\nBluebird <mark><em>Climate</em></mark> Technologies Inc. respectfully submits the following&hellip;&nbsp;Introduction\\n\\nBluebird <mark><em>Climate</em></mark> Technologies Inc.&hellip;&nbsp;Carbon Offsets and <mark><em>Climate</em></mark> Change, 16 CFR 260.5.&hellip;&nbsp;Are there any specific deceptive claims related to <mark><em>climate</em></mark> change prevalent in the market?&hellip;&nbsp;Carbon neutral, <mark><em>climate</em></mark> neutral, carbon negative.\\n\\nf.',\n",
       "   'withdrawn': False,\n",
       "   'agencyId': 'FTC',\n",
       "   'title': 'Comment from Bluebird Climate',\n",
       "   'objectId': '09000064859718e9',\n",
       "   'postedDate': '2023-05-05T04:00:00Z'},\n",
       "  'links': {'self': 'https://api.regulations.gov/v4/comments/FTC-2022-0077-1067'}},\n",
       " {'id': 'NHTSA-2021-0053-0052',\n",
       "  'type': 'comments',\n",
       "  'attributes': {'documentType': 'Public Submission',\n",
       "   'lastModifiedDate': '2021-10-20T18:02:15Z',\n",
       "   'highlightedContent': '<mark><em>Climate</em></mark> Group NHTSA Comment Letter&hellip;&nbsp;The <mark><em>Climate</em></mark> Group, Inc. is a U.S. registered 501(c)3 with EIN 43-2073566  \\n\\nDr.&hellip;&nbsp;Through the <mark><em>Climate</em></mark> Group’s EV100 initiative, members have committed to convert over 5.2 million vehicles&hellip;&nbsp;Sincerely, \\n\\n \\n\\n \\n\\n \\n\\nHelen Clarkson \\n\\nChief Executive Officer  \\n\\n<mark><em>Climate</em></mark> Group \\n\\n \\n\\nhttps://www.govinfo.gov',\n",
       "   'withdrawn': False,\n",
       "   'agencyId': 'NHTSA',\n",
       "   'title': 'Comment from Climate Group',\n",
       "   'objectId': '0900006484dcbf3c',\n",
       "   'postedDate': '2021-10-20T04:00:00Z'},\n",
       "  'links': {'self': 'https://api.regulations.gov/v4/comments/NHTSA-2021-0053-0052'}},\n",
       " {'id': 'BOEM-2022-0009-0158',\n",
       "  'type': 'comments',\n",
       "  'attributes': {'documentType': 'Public Submission',\n",
       "   'lastModifiedDate': '2022-07-01T00:48:27Z',\n",
       "   'highlightedContent': '<mark><em>Climate</em></mark> Solutions comments - BOEM 2022-0009&hellip;&nbsp;<mark><em>Climate</em></mark> Solutions is a regional non-profit working to accelerate clean \\n\\nenergy solutions to the <mark><em>climate</em></mark>&hellip;&nbsp;<mark><em>Climate</em></mark> Solutions supports the request of the fishing industry to provide the National Marine Fisheries&hellip;&nbsp;nawindpower.com/aerial-survey-experts-introduce-bird-monitoring-for-offshore-wind-turbines\\n\\n\\nLabor \\n\\n<mark><em>Climate</em></mark>&hellip;&nbsp;<mark><em>Climate</em></mark> Solutions believes that the buildout of renewable energy resources to support a clean energy&hellip;&nbsp;Consultation with Affected Communities \\n\\n<mark><em>Climate</em></mark> Solutions strongly urges BOEM to engage with a diverse',\n",
       "   'withdrawn': False,\n",
       "   'agencyId': 'BOEM',\n",
       "   'title': 'Comment from Climate Solutions',\n",
       "   'objectId': '09000064851a694c',\n",
       "   'postedDate': '2022-06-30T04:00:00Z'},\n",
       "  'links': {'self': 'https://api.regulations.gov/v4/comments/BOEM-2022-0009-0158'}},\n",
       " {'id': 'EPA-HQ-OAR-2022-0829-0454',\n",
       "  'type': 'comments',\n",
       "  'attributes': {'documentType': 'Public Submission',\n",
       "   'lastModifiedDate': '2023-05-09T01:31:45Z',\n",
       "   'highlightedContent': \"Catholic <mark><em>Climate</em></mark> Covenant (comment document attached)&hellip;&nbsp;Catholic <mark><em>Climate</em></mark> Covenant Clean Cars&hellip;&nbsp;Emissions Standards for Model Years 2027 and Later Light-\\nDuty and Medium Duty Vehicles \\n \\nCatholic <mark><em>Climate</em></mark>&hellip;&nbsp;of the United States Conference of Catholic \\nBishops and supported by 20 national partners, Catholic <mark><em>Climate</em></mark>&hellip;&nbsp;the United States bishops, we help guide the US Church's \\nresponse to the moral call for action on <mark><em>climate</em></mark>&hellip;&nbsp;It is from this institutional basis that Catholic <mark><em>Climate</em></mark> Covenant supports the US \\nEnvironmental Protection&hellip;&nbsp;As a leader in Catholic <mark><em>climate</em></mark> advocacy, Catholic <mark><em>Climate</em></mark> Covenant \\nsupports EPA’s new proposed clean\",\n",
       "   'withdrawn': False,\n",
       "   'agencyId': 'EPA',\n",
       "   'title': 'Comment submitted by Catholic Climate Covenant',\n",
       "   'objectId': '09000064859c2e7b',\n",
       "   'postedDate': '2023-05-08T04:00:00Z'},\n",
       "  'links': {'self': 'https://api.regulations.gov/v4/comments/EPA-HQ-OAR-2022-0829-0454'}},\n",
       " {'id': 'USDA-2023-0009-0089',\n",
       "  'type': 'comments',\n",
       "  'attributes': {'documentType': 'Public Submission',\n",
       "   'lastModifiedDate': '2023-08-12T11:34:33Z',\n",
       "   'highlightedContent': 'Perennial <mark><em>Climate</em></mark> Inc RFI&hellip;&nbsp;Perennial <mark><em>Climate</em></mark> Inc.\\n2560 28th St\\nBoulder Colorado 80301\\n\\nAugust 11, 2023\\n\\nDocket ID: USDA-2023-0009',\n",
       "   'withdrawn': False,\n",
       "   'agencyId': 'USDA',\n",
       "   'title': 'Comment from Perennial Climate Inc.',\n",
       "   'objectId': '0900006485e22693',\n",
       "   'postedDate': '2023-08-12T04:00:00Z'},\n",
       "  'links': {'self': 'https://api.regulations.gov/v4/comments/USDA-2023-0009-0089'}},\n",
       " {'id': 'EPA-HQ-OA-2023-0393-0054',\n",
       "  'type': 'comments',\n",
       "  'attributes': {'documentType': 'Public Submission',\n",
       "   'lastModifiedDate': '2024-10-01T00:40:42Z',\n",
       "   'highlightedContent': '<mark><em>Climate</em></mark> United is supportive of the EPA’s proactive step of outlining the anticipated impact reporting&hellip;&nbsp;<mark><em>Climate</em></mark> United is the collaboration of non-profit organizations Calvert Impact, the Community Preservation&hellip;&nbsp;capital across 50 states, with a focus on creating economic opportunity, sustainable development, and <mark><em>climate</em></mark>&hellip;&nbsp;<mark><em>Climate</em></mark> United’s national strategy is focused on demonstrating the benefits of the clean energy transition&hellip;&nbsp;<mark><em>Climate</em></mark> United submitted its response to the National Clean Investment Fund award competition in October&hellip;&nbsp;<mark><em>Climate</em></mark> United_Comment on GGRF Accomplishment Reporting ICR_September 2024&hellip;&nbsp;Greenhouse Gas Reduction Fund and Julie Zavala, Deputy \\nDirector, Greenhouse Gas Reduction Fund  \\n\\nFROM: <mark><em>Climate</em></mark>&hellip;&nbsp;United Fund and its Coalition Partners, CPC <mark><em>Climate</em></mark> Capital, and Self-Help \\n<mark><em>Climate</em></mark> Capital (together&hellip;&nbsp;“<mark><em>Climate</em></mark> United”)  \\n\\nRE: Greenhouse Gas Reduction Fund Accomplishment Reporting \\n\\nEPA ICR #: 2783.01&hellip;&nbsp;<mark><em>Climate</em></mark> United is supportive of the EPA’s proactive step of outlining the anticipated \\nimpact reporting&hellip;&nbsp;<mark><em>Climate</em></mark> United offers the following comments keeping these goals in mind, emphasizing the \\nfollowing',\n",
       "   'withdrawn': False,\n",
       "   'agencyId': 'EPA',\n",
       "   'title': 'Comment submitted by Climate United',\n",
       "   'objectId': '0900006486789422',\n",
       "   'postedDate': '2024-09-30T04:00:00Z'},\n",
       "  'links': {'self': 'https://api.regulations.gov/v4/comments/EPA-HQ-OA-2023-0393-0054'}},\n",
       " {'id': 'EPA-HQ-OA-2023-0393-0012',\n",
       "  'type': 'comments',\n",
       "  'attributes': {'documentType': 'Public Submission',\n",
       "   'lastModifiedDate': '2024-04-12T00:33:14Z',\n",
       "   'highlightedContent': \"<mark><em>Climate</em></mark> United offers the attached comment letter on the EPA's proposed GGRF Accomplishment Reporting&hellip;&nbsp;<mark><em>Climate</em></mark> United Comment on GGRF Accomplishment Reporting ICR&hellip;&nbsp;Greenhouse Gas Reduction Fund and Frank Wright, \\nGreenhouse Gas Reduction Fund Program Office \\nFROM: <mark><em>Climate</em></mark>&hellip;&nbsp;<mark><em>Climate</em></mark> United is \\nsupportive of the EPA’s proactive step of outlining the anticipated impact reporting&hellip;&nbsp;<mark><em>Climate</em></mark> United is the collaboration of non-profit organizations Calvert Impact, the Community \\nPreservation&hellip;&nbsp;To eliminate the burden of Sub-recipients filling out duplicative forms, \\n<mark><em>Climate</em></mark> United recommends the&hellip;&nbsp;<mark><em>Climate</em></mark> United respects and \\nunderstands the important role of “third-party validation, verification,\",\n",
       "   'withdrawn': False,\n",
       "   'agencyId': 'EPA',\n",
       "   'title': 'Comment submitted by Climate United',\n",
       "   'objectId': '09000064864c227f',\n",
       "   'postedDate': '2024-04-11T04:00:00Z'},\n",
       "  'links': {'self': 'https://api.regulations.gov/v4/comments/EPA-HQ-OA-2023-0393-0012'}},\n",
       " {'id': 'EPA-HQ-OAR-2021-0257-0101',\n",
       "  'type': 'comments',\n",
       "  'attributes': {'documentType': 'Public Submission',\n",
       "   'lastModifiedDate': '2021-07-02T00:34:32Z',\n",
       "   'highlightedContent': '<mark><em>Climate</em></mark> Group Comments EPA Proposal to Reinstate CA Waiver&hellip;&nbsp;The <mark><em>Climate</em></mark> Group, Inc. is a U.S. registered 501(c)3 with EIN 43-2073566   \\n\\n \\n\\n \\n\\n \\n\\n335 Madison Avenue&hellip;&nbsp;Regan, \\n \\nWe applaud the Biden-Harris Administration’s leadership in prioritizing the urgent issue of <mark><em>climate</em></mark>&hellip;&nbsp;by 2030 and bold actions such as the American Jobs Plan will help strengthen \\nAmerican leadership on <mark><em>climate</em></mark>&hellip;&nbsp;The <mark><em>Climate</em></mark> Group is an international non-profit with a mission to drive <mark><em>climate</em></mark> action. Fast.&hellip;&nbsp;Sincerely, \\n \\nAmy Davidsen \\nExecutive Director, North America  \\n<mark><em>Climate</em></mark> Group \\n\\nmailto:info@theclimategroup.org',\n",
       "   'withdrawn': False,\n",
       "   'agencyId': 'EPA',\n",
       "   'title': 'Comment submitted by Climate Group',\n",
       "   'objectId': '0900006484bbf94e',\n",
       "   'postedDate': '2021-07-01T04:00:00Z'},\n",
       "  'links': {'self': 'https://api.regulations.gov/v4/comments/EPA-HQ-OAR-2021-0257-0101'}},\n",
       " {'id': 'NHTSA-2017-0069-0495',\n",
       "  'type': 'comments',\n",
       "  'attributes': {'documentType': 'Public Submission',\n",
       "   'lastModifiedDate': '2018-09-20T15:36:28Z',\n",
       "   'highlightedContent': '<mark><em>Climate</em></mark> Institute  - Comments \\nCAFE relaxation-Chapter 5-091918&hellip;&nbsp;NHTSA-2017-0069 \\n \\nReview Comments on Draft EIS Chapter 5: Greenhouse Gas Emissions and <mark><em>Climate</em></mark> \\nChange&hellip;&nbsp;Our mission is to discover and implement <mark><em>climate</em></mark> solutions by \\nadvancing research, sharing information&hellip;&nbsp;<mark><em>climatic</em></mark> effects presented here as drawn from IPCC 2013 and GCRP \\n2017.&hellip;&nbsp;–17, 2009, Pew Center on Global <mark><em>Climate</em></mark> Change, \\nArlington, VA.&hellip;&nbsp;President, <mark><em>Climate</em></mark> Institute',\n",
       "   'withdrawn': False,\n",
       "   'agencyId': 'NHTSA',\n",
       "   'title': 'Comment from Climate Institute',\n",
       "   'objectId': '09000064837281b5',\n",
       "   'postedDate': '2018-09-20T04:00:00Z'},\n",
       "  'links': {'self': 'https://api.regulations.gov/v4/comments/NHTSA-2017-0069-0495'}},\n",
       " {'id': 'USDA-2024-0003-0311',\n",
       "  'type': 'comments',\n",
       "  'attributes': {'documentType': 'Public Submission',\n",
       "   'lastModifiedDate': '2025-03-20T12:21:01Z',\n",
       "   'highlightedContent': 'Please find attached comments from Anew <mark><em>Climate</em></mark>.&hellip;&nbsp;Anew <mark><em>Climate</em></mark> Response to USDA Technical Guidance.March18.2025',\n",
       "   'withdrawn': False,\n",
       "   'agencyId': 'USDA',\n",
       "   'title': 'Comment from Anew Climate',\n",
       "   'objectId': '0900006486a038e4',\n",
       "   'postedDate': '2025-03-20T04:00:00Z'},\n",
       "  'links': {'self': 'https://api.regulations.gov/v4/comments/USDA-2024-0003-0311'}},\n",
       " {'id': 'FTC-2022-0077-0887',\n",
       "  'type': 'comments',\n",
       "  'attributes': {'documentType': 'Public Submission',\n",
       "   'lastModifiedDate': '2023-04-26T01:24:03Z',\n",
       "   'highlightedContent': 'Our label, <mark><em>Climate</em></mark> Neutral Certified, is a trusted, independent standard\\nfor <mark><em>climate</em></mark> neutrality.&hellip;&nbsp;“<mark><em>climate</em></mark> smart,”\\n“<mark><em>climate</em></mark> friendly,” “carbon negative,” “<mark><em>climate</em></mark> positive,” etc.) because it is highly&hellip;&nbsp;limited\\n<mark><em>climate</em></mark> benefits.&hellip;&nbsp;earlier, many generic <mark><em>climate</em></mark> terms are used in\\nmarketing, including “<mark><em>climate</em></mark> friendly,” “<mark><em>climate</em></mark> smart&hellip;&nbsp;“<mark><em>climate</em></mark> smart,”\\n“<mark><em>climate</em></mark> friendly,” “carbon negative,” “<mark><em>climate</em></mark> positive,” etc.) because it is highly',\n",
       "   'withdrawn': False,\n",
       "   'agencyId': 'FTC',\n",
       "   'title': 'Comment from Climate Neutral',\n",
       "   'objectId': '0900006485979a96',\n",
       "   'postedDate': '2023-04-25T04:00:00Z'},\n",
       "  'links': {'self': 'https://api.regulations.gov/v4/comments/FTC-2022-0077-0887'}},\n",
       " {'id': 'BOEM-2023-0065-0107',\n",
       "  'type': 'comments',\n",
       "  'attributes': {'documentType': 'Public Submission',\n",
       "   'lastModifiedDate': '2024-03-17T00:33:34Z',\n",
       "   'highlightedContent': \"See attached document for Rogue <mark><em>Climate's</em></mark> comment.&hellip;&nbsp;Rogue <mark><em>Climate</em></mark> serves and works alongside Southern Oregon and South Coast communities most\\n\\nimpacted by&hellip;&nbsp;<mark><em>climate</em></mark> change, including low-income, rural, youth, and communities of color, by\\n\\norganizing for clean&hellip;&nbsp;Rogue <mark><em>Climate</em></mark> is invested in the protection of the Coos Bay estuary and the <mark><em>climate</em></mark> resilience of\\n\\nsouth&hellip;&nbsp;Rogue <mark><em>Climate</em></mark> was also a key leader in the campaign\\n\\nto pass HB2021, which directs Oregon’s Investor&hellip;&nbsp;<mark><em>Climate</em></mark> Justice Principles for a Just Transition in Offshore Wind Energy Development\\n\\nThrough the <mark><em>Climate</em></mark>\",\n",
       "   'withdrawn': False,\n",
       "   'agencyId': 'BOEM',\n",
       "   'title': 'Comment from Rogue Climate',\n",
       "   'objectId': '090000648647e4d8',\n",
       "   'postedDate': '2024-03-16T04:00:00Z'},\n",
       "  'links': {'self': 'https://api.regulations.gov/v4/comments/BOEM-2023-0065-0107'}},\n",
       " {'id': 'BOEM-2022-0009-0175',\n",
       "  'type': 'comments',\n",
       "  'attributes': {'documentType': 'Public Submission',\n",
       "   'lastModifiedDate': '2022-07-01T00:54:01Z',\n",
       "   'highlightedContent': 'Rogue <mark><em>Climate</em></mark> Comments to BOEM 06 28 2022&hellip;&nbsp;Rogue <mark><em>Climate</em></mark> serves and works alongside Southern Oregon and South Coast communities most\\n\\nimpacted by&hellip;&nbsp;<mark><em>climate</em></mark> change, including low-income, rural, youth, and communities of color, by\\n\\norganizing for clean&hellip;&nbsp;Rogue\\n\\n<mark><em>Climate</em></mark> was also a key leader in the campaign to pass HB2021, which directs Oregon’s Investor&hellip;&nbsp;Rogue <mark><em>Climate</em></mark> looks forward to continuing to participate in\\n\\nthis process into the future.&hellip;&nbsp;Sincerely,\\n\\nRogue <mark><em>Climate</em></mark>\\n\\n8',\n",
       "   'withdrawn': False,\n",
       "   'agencyId': 'BOEM',\n",
       "   'title': 'Comment from Rogue Climate',\n",
       "   'objectId': '09000064851a80c6',\n",
       "   'postedDate': '2022-06-30T04:00:00Z'},\n",
       "  'links': {'self': 'https://api.regulations.gov/v4/comments/BOEM-2022-0009-0175'}},\n",
       " {'id': 'IRS-2023-0028-0044',\n",
       "  'type': 'comments',\n",
       "  'attributes': {'documentType': 'Public Submission',\n",
       "   'lastModifiedDate': '2023-08-15T15:49:50Z',\n",
       "   'highlightedContent': 'Basis <mark><em>Climate</em></mark> respectfully submits this request for guidance in response to the proposed regulations&hellip;&nbsp;The requested guidance is of critical interest to Basis <mark><em>Climate</em></mark>, and more broadly to project developers&hellip;&nbsp;Basis <mark><em>Climate</em></mark> Corp. Comment Letter-Final&hellip;&nbsp;The\\nrequested guidance is of critical interest to Basis <mark><em>Climate</em></mark>, and more broadly to project\\ndevelopers&hellip;&nbsp;Basis <mark><em>Climate</em></mark> (“Basis”) is quickly becoming a leading digital exchange for clean energy tax\\ncredits.&hellip;&nbsp;Basis is backed by leading <mark><em>climate</em></mark> investors and\\nmarket makers, and Basis is already structuring over&hellip;&nbsp;Reduction Act’s goal of\\nusing tax credit transferability as a mechanism for improving liquidity in <mark><em>climate</em></mark>&hellip;&nbsp;Best,\\n\\nErik Underwood\\nCEO\\nBasis <mark><em>Climate</em></mark> Corp.\\nwww.buildwithbasis.com\\n\\nhttp://www.buildwithbasis.com',\n",
       "   'withdrawn': False,\n",
       "   'agencyId': 'IRS',\n",
       "   'title': 'Comment from Basis Climate Corp.',\n",
       "   'objectId': '0900006485e36e03',\n",
       "   'postedDate': '2023-08-15T04:00:00Z'},\n",
       "  'links': {'self': 'https://api.regulations.gov/v4/comments/IRS-2023-0028-0044'}},\n",
       " {'id': 'FS-2023-0006-91759',\n",
       "  'type': 'comments',\n",
       "  'attributes': {'documentType': 'Public Submission',\n",
       "   'lastModifiedDate': '2023-09-01T01:03:48Z',\n",
       "   'highlightedContent': '<mark><em>Climate</em></mark> Forests - Worth More Standing&hellip;&nbsp;Standing:\\n10 Climate-Saving Forests Threatened by Federal Logging\\n\\nThis report was prepared for the <mark><em>Climate</em></mark>&hellip;&nbsp;forests and trees on federal public lands can markedly reduce carbon emissions, aid the fight to curb <mark><em>climate</em></mark>&hellip;&nbsp;President Biden issued an executive order that recognized the role older forests play in combating the <mark><em>climate</em></mark>&hellip;&nbsp;old-\\ngrowth forests on federal lands and develop policies to conserve them as a cornerstone of U.S. <mark><em>climate</em></mark>&hellip;&nbsp;Black Hills Forest Plan guides all \\nactivities and significantly undermines efforts to address the <mark><em>climate</em></mark>',\n",
       "   'withdrawn': False,\n",
       "   'agencyId': 'FS',\n",
       "   'title': 'Climate Forests - Worth More Standing',\n",
       "   'objectId': '0900006485cdb5b2',\n",
       "   'postedDate': '2023-08-31T04:00:00Z'},\n",
       "  'links': {'self': 'https://api.regulations.gov/v4/comments/FS-2023-0006-91759'}}]"
      ]
     },
     "execution_count": 61,
     "metadata": {},
     "output_type": "execute_result"
    }
   ],
   "source": [
    "api.endpoint(\"/comments\")\n",
    "api.search(\"climate\")\n",
    "api.page(2)\n",
    "res = api.get()\n",
    "res[\"data\"]\n"
   ]
  },
  {
   "cell_type": "code",
   "execution_count": null,
   "id": "be79dc60",
   "metadata": {},
   "outputs": [],
   "source": []
  }
 ],
 "metadata": {
  "kernelspec": {
   "display_name": "twosix_env2",
   "language": "python",
   "name": "python3"
  },
  "language_info": {
   "codemirror_mode": {
    "name": "ipython",
    "version": 3
   },
   "file_extension": ".py",
   "mimetype": "text/x-python",
   "name": "python",
   "nbconvert_exporter": "python",
   "pygments_lexer": "ipython3",
   "version": "3.11.11"
  }
 },
 "nbformat": 4,
 "nbformat_minor": 5
}
