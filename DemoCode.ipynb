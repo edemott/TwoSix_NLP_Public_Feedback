{
 "cells": [
  {
   "cell_type": "code",
   "execution_count": 1,
   "id": "5f1e8c48",
   "metadata": {},
   "outputs": [],
   "source": [
    "from scraping import Reg_API, CommentParser"
   ]
  },
  {
   "cell_type": "code",
   "execution_count": 2,
   "id": "9f8c2b6b",
   "metadata": {},
   "outputs": [],
   "source": [
    "api = Reg_API()"
   ]
  },
  {
   "cell_type": "code",
   "execution_count": 3,
   "id": "921c4418",
   "metadata": {},
   "outputs": [
    {
     "data": {
      "text/plain": [
       "<scraping.Reg_API at 0x1082cb6d0>"
      ]
     },
     "execution_count": 3,
     "metadata": {},
     "output_type": "execute_result"
    }
   ],
   "source": [
    "api.endpoint(\"/comments\")"
   ]
  },
  {
   "cell_type": "code",
   "execution_count": 4,
   "id": "6b2ea995",
   "metadata": {},
   "outputs": [
    {
     "data": {
      "text/plain": [
       "<scraping.Reg_API at 0x1082cb6d0>"
      ]
     },
     "execution_count": 4,
     "metadata": {},
     "output_type": "execute_result"
    }
   ],
   "source": [
    "api.search(\"climate\")"
   ]
  },
  {
   "cell_type": "code",
   "execution_count": 5,
   "id": "b0ba48c6",
   "metadata": {},
   "outputs": [],
   "source": [
    "res = api.get()"
   ]
  },
  {
   "cell_type": "code",
   "execution_count": 6,
   "id": "8d8e7ff6",
   "metadata": {},
   "outputs": [
    {
     "data": {
      "text/plain": [
       "<scraping.Reg_API at 0x1082cb6d0>"
      ]
     },
     "execution_count": 6,
     "metadata": {},
     "output_type": "execute_result"
    }
   ],
   "source": [
    "api.endpoint(\"/documents/FS-2023-0006-0002\")"
   ]
  },
  {
   "cell_type": "code",
   "execution_count": 7,
   "id": "7b410f67",
   "metadata": {},
   "outputs": [
    {
     "data": {
      "text/plain": [
       "{'data': {'id': 'FS-2023-0006-0002',\n",
       "  'type': 'documents',\n",
       "  'links': {'self': 'https://api.regulations.gov/v4/documents/FS-2023-0006-0002'},\n",
       "  'attributes': {'additionalRins': None,\n",
       "   'allowLateComments': False,\n",
       "   'authorDate': None,\n",
       "   'authors': None,\n",
       "   'cfrPart': '36 CFR Part 200',\n",
       "   'commentEndDate': '2023-07-21T03:59:59Z',\n",
       "   'commentStartDate': '2023-04-21T04:00:00Z',\n",
       "   'effectiveDate': None,\n",
       "   'exhibitLocation': None,\n",
       "   'exhibitType': None,\n",
       "   'frDocNum': '2023-08429',\n",
       "   'frVolNum': None,\n",
       "   'implementationDate': None,\n",
       "   'media': None,\n",
       "   'ombApproval': None,\n",
       "   'paperLength': 0,\n",
       "   'paperWidth': 0,\n",
       "   'regWriterInstruction': None,\n",
       "   'sourceCitation': None,\n",
       "   'startEndPage': '24497 - 24503',\n",
       "   'subject': None,\n",
       "   'topics': None,\n",
       "   'address1': None,\n",
       "   'address2': None,\n",
       "   'agencyId': 'FS',\n",
       "   'city': None,\n",
       "   'category': None,\n",
       "   'comment': None,\n",
       "   'country': None,\n",
       "   'displayProperties': None,\n",
       "   'docAbstract': None,\n",
       "   'docketId': 'FS-2023-0006',\n",
       "   'documentType': 'Proposed Rule',\n",
       "   'email': None,\n",
       "   'fax': None,\n",
       "   'field1': None,\n",
       "   'field2': None,\n",
       "   'fileFormats': [{'fileUrl': 'https://downloads.regulations.gov/FS-2023-0006-0002/content.pdf',\n",
       "     'format': 'pdf',\n",
       "     'size': 795358},\n",
       "    {'fileUrl': 'https://downloads.regulations.gov/FS-2023-0006-0002/content.htm',\n",
       "     'format': 'htm',\n",
       "     'size': 25796}],\n",
       "   'firstName': None,\n",
       "   'govAgency': None,\n",
       "   'govAgencyType': None,\n",
       "   'objectId': '09000064859705fc',\n",
       "   'lastName': None,\n",
       "   'legacyId': None,\n",
       "   'modifyDate': '2023-09-08T01:04:10Z',\n",
       "   'organization': None,\n",
       "   'originalDocumentId': 'FS_FRDOC_0001-3834',\n",
       "   'pageCount': 0,\n",
       "   'phone': None,\n",
       "   'postedDate': '2023-04-21T04:00:00Z',\n",
       "   'postmarkDate': None,\n",
       "   'reasonWithdrawn': None,\n",
       "   'receiveDate': '2023-04-21T04:00:00Z',\n",
       "   'restrictReason': None,\n",
       "   'restrictReasonType': None,\n",
       "   'stateProvinceRegion': None,\n",
       "   'submitterRep': None,\n",
       "   'submitterRepAddress': None,\n",
       "   'submitterRepCityState': None,\n",
       "   'subtype': 'Advance Notice of Proposed Rulemaking (ANPRM)',\n",
       "   'title': 'Forest Service Functions',\n",
       "   'trackingNbr': None,\n",
       "   'withdrawn': False,\n",
       "   'zip': None,\n",
       "   'openForComment': False,\n",
       "   'withinCommentPeriod': False},\n",
       "  'relationships': {'attachments': {'links': {'self': 'https://api.regulations.gov/v4/documents/FS-2023-0006-0002/relationships/attachments',\n",
       "     'related': 'https://api.regulations.gov/v4/documents/FS-2023-0006-0002/attachments'}}}}}"
      ]
     },
     "execution_count": 7,
     "metadata": {},
     "output_type": "execute_result"
    }
   ],
   "source": [
    "api.get()"
   ]
  },
  {
   "cell_type": "code",
   "execution_count": 8,
   "id": "59505c42",
   "metadata": {},
   "outputs": [
    {
     "data": {
      "text/plain": [
       "{'id': 'PHMSA-2019-0100-2389',\n",
       " 'type': 'comments',\n",
       " 'attributes': {'documentType': 'Public Submission',\n",
       "  'lastModifiedDate': '2019-08-06T13:57:16Z',\n",
       "  'highlightedContent': 'Comment from <mark><em>Climate</em></mark> Writers',\n",
       "  'withdrawn': False,\n",
       "  'agencyId': 'PHMSA',\n",
       "  'title': 'Comment from Climate Writers',\n",
       "  'objectId': '0900006483dd9a06',\n",
       "  'postedDate': '2019-08-02T04:00:00Z'},\n",
       " 'links': {'self': 'https://api.regulations.gov/v4/comments/PHMSA-2019-0100-2389'}}"
      ]
     },
     "execution_count": 8,
     "metadata": {},
     "output_type": "execute_result"
    }
   ],
   "source": [
    "res[\"data\"][0]"
   ]
  },
  {
   "cell_type": "code",
   "execution_count": 33,
   "id": "9435d30e",
   "metadata": {},
   "outputs": [
    {
     "data": {
      "text/plain": [
       "<scraping.Reg_API at 0x1082cb6d0>"
      ]
     },
     "execution_count": 33,
     "metadata": {},
     "output_type": "execute_result"
    }
   ],
   "source": [
    "api.endpoint(\"/comments/PHMSA-2019-0100-2389\")"
   ]
  },
  {
   "cell_type": "code",
   "execution_count": 34,
   "id": "a4a44b8d",
   "metadata": {},
   "outputs": [],
   "source": [
    "res = api.get()"
   ]
  },
  {
   "cell_type": "code",
   "execution_count": 11,
   "id": "e5960542",
   "metadata": {},
   "outputs": [
    {
     "data": {
      "text/plain": [
       "dict"
      ]
     },
     "execution_count": 11,
     "metadata": {},
     "output_type": "execute_result"
    }
   ],
   "source": [
    "type(res)"
   ]
  },
  {
   "cell_type": "code",
   "execution_count": 12,
   "id": "e7b318a6",
   "metadata": {},
   "outputs": [
    {
     "data": {
      "text/plain": [
       "dict_keys(['data'])"
      ]
     },
     "execution_count": 12,
     "metadata": {},
     "output_type": "execute_result"
    }
   ],
   "source": [
    "res.keys()"
   ]
  },
  {
   "cell_type": "code",
   "execution_count": 22,
   "id": "0d091103",
   "metadata": {},
   "outputs": [
    {
     "data": {
      "text/plain": [
       "dict_keys(['id', 'type', 'links', 'attributes', 'relationships'])"
      ]
     },
     "execution_count": 22,
     "metadata": {},
     "output_type": "execute_result"
    }
   ],
   "source": [
    "res[\"data\"].keys()"
   ]
  },
  {
   "cell_type": "code",
   "execution_count": 36,
   "id": "74268f67",
   "metadata": {},
   "outputs": [],
   "source": [
    "res[\"data\"][\"attributes\"][\"fileFormats\"]"
   ]
  },
  {
   "cell_type": "code",
   "execution_count": 41,
   "id": "ed6e820b",
   "metadata": {},
   "outputs": [
    {
     "name": "stdout",
     "output_type": "stream",
     "text": [
      "commentOn 0900006483cf03d6\n",
      "commentOnDocumentId PHMSA-2019-0100-0002\n",
      "duplicateComments 0\n",
      "address1 None\n",
      "address2 None\n",
      "agencyId PHMSA\n",
      "city None\n",
      "category None\n",
      "comment attach\n",
      "country None\n",
      "displayProperties None\n",
      "docAbstract None\n",
      "docketId PHMSA-2019-0100\n",
      "documentType Public Submission\n",
      "email None\n",
      "fax None\n",
      "field1 None\n",
      "field2 None\n",
      "fileFormats None\n",
      "firstName Climate\n",
      "govAgency None\n",
      "govAgencyType None\n",
      "objectId 0900006483dd9a06\n",
      "lastName Writers\n",
      "legacyId None\n",
      "modifyDate 2019-08-06T13:57:16Z\n",
      "organization None\n",
      "originalDocumentId None\n",
      "pageCount 0\n",
      "phone None\n",
      "postedDate 2019-08-02T04:00:00Z\n",
      "postmarkDate None\n",
      "reasonWithdrawn None\n",
      "receiveDate 2019-07-31T04:00:00Z\n",
      "restrictReason None\n",
      "restrictReasonType None\n",
      "stateProvinceRegion None\n",
      "submitterRep None\n",
      "submitterRepAddress None\n",
      "submitterRepCityState None\n",
      "subtype Comment(s)\n",
      "title Comment from Climate Writers\n",
      "trackingNbr 1k3-9bcj-wytd\n",
      "withdrawn False\n",
      "zip None\n",
      "openForComment False\n"
     ]
    }
   ],
   "source": [
    "for k in res[\"data\"][\"attributes\"]:\n",
    "    print(k,res[\"data\"][\"attributes\"][k])"
   ]
  },
  {
   "cell_type": "code",
   "execution_count": 48,
   "id": "7725ea23",
   "metadata": {},
   "outputs": [
    {
     "data": {
      "text/plain": [
       "{'attachments': {'links': {'self': 'https://api.regulations.gov/v4/comments/PHMSA-2019-0100-2389/relationships/attachments',\n",
       "   'related': 'https://api.regulations.gov/v4/comments/PHMSA-2019-0100-2389/attachments'}}}"
      ]
     },
     "execution_count": 48,
     "metadata": {},
     "output_type": "execute_result"
    }
   ],
   "source": [
    "res[\"data\"][\"relationships\"]"
   ]
  },
  {
   "cell_type": "code",
   "execution_count": 28,
   "id": "bff864c7",
   "metadata": {},
   "outputs": [
    {
     "data": {
      "text/plain": [
       "<scraping.Reg_API at 0x1082cb6d0>"
      ]
     },
     "execution_count": 28,
     "metadata": {},
     "output_type": "execute_result"
    }
   ],
   "source": [
    "id = \"FS-2023-0006-65833\"\n",
    "api.endpoint(f\"/comments/{id}\")"
   ]
  },
  {
   "cell_type": "code",
   "execution_count": 29,
   "id": "694c7cb2",
   "metadata": {},
   "outputs": [],
   "source": [
    "res = api.get()"
   ]
  },
  {
   "cell_type": "code",
   "execution_count": 32,
   "id": "a83c7278",
   "metadata": {},
   "outputs": [],
   "source": [
    "res[\"data\"][\"attributes\"][\"fileFormats\"]"
   ]
  },
  {
   "cell_type": "code",
   "execution_count": 52,
   "id": "11a65132",
   "metadata": {},
   "outputs": [],
   "source": [
    "id = \"FS-2023-0006-65833\"\n",
    "api.endpoint(f\"/comments/{id}\")\n",
    "res = api.get()"
   ]
  },
  {
   "cell_type": "code",
   "execution_count": 53,
   "id": "6712aae8",
   "metadata": {},
   "outputs": [
    {
     "data": {
      "text/plain": [
       "[]"
      ]
     },
     "execution_count": 53,
     "metadata": {},
     "output_type": "execute_result"
    }
   ],
   "source": [
    "api.url(res[\"data\"][\"relationships\"][\"attachments\"][\"links\"]['related']).get()[\"data\"]"
   ]
  },
  {
   "cell_type": "code",
   "execution_count": null,
   "id": "49b558a9",
   "metadata": {},
   "outputs": [
    {
     "name": "stdout",
     "output_type": "stream",
     "text": [
      "{'id': 'BOEM-2024-0022-0054', 'type': 'comments', 'attributes': {'documentType': 'Public Submission', 'lastModifiedDate': '2024-07-04T00:33:53Z', 'highlightedContent': 'Rogue <mark><em>Climate</em></mark> _ORPSN_ 06_28_2024&hellip;&nbsp;Rogue <mark><em>Climate</em></mark> serves and works alongside Southern Oregon and South Coast communities most\\n\\nimpacted by&hellip;&nbsp;<mark><em>climate</em></mark> change, including low-income, rural, youth, and communities of color, by\\n\\norganizing for clean&hellip;&nbsp;Rogue <mark><em>Climate</em></mark> is invested in the protection of the Coos Bay estuary and the <mark><em>climate</em></mark> resilience of\\n\\nSouth&hellip;&nbsp;Ensuring A Just Transition:\\nThrough the <mark><em>Climate</em></mark> Justice Alliance, Rogue <mark><em>Climate</em></mark>, alongside UPROSE and&hellip;&nbsp;Rogue <mark><em>Climate</em></mark> looks forward to continued collaboration and\\n\\nengagement into the future.', 'withdrawn': False, 'agencyId': 'BOEM', 'title': 'Comment from Rogue Climate', 'objectId': '09000064865d6342', 'postedDate': '2024-07-03T04:00:00Z'}, 'links': {'self': 'https://api.regulations.gov/v4/comments/BOEM-2024-0022-0054'}}\n",
      "{'id': 'CEQ-2019-0003-173061', 'type': 'comments', 'attributes': {'documentType': 'Public Submission', 'lastModifiedDate': '2020-05-04T23:16:20Z', 'highlightedContent': 'Comment from <mark><em>Climate</em></mark> Writers (8 signatures)_0224_2&hellip;&nbsp;<mark><em>CLIMATE</em></mark> WRITERS \\n\\nM1.3 64/mil 44 \\nco-L 0 ?', 'withdrawn': False, 'agencyId': 'CEQ', 'title': 'Comment from Climate Writers (8 signatures)', 'objectId': '09000064844c39e2', 'postedDate': '2020-05-04T04:00:00Z'}, 'links': {'self': 'https://api.regulations.gov/v4/comments/CEQ-2019-0003-173061'}}\n",
      "{'id': 'DOS-2013-0011-0367', 'type': 'comments', 'attributes': {'documentType': 'Public Submission', 'lastModifiedDate': '2013-07-18T18:35:06Z', 'highlightedContent': '<mark><em>Climate</em></mark> Parents&hellip;&nbsp;Parents\\n\\n4/19/2013 Angela Wyatt PARENTS <mark><em>Climate</em></mark> Parents\\n\\n4/19/2013 Brad Jaynes PARENTS <mark><em>Climate</em></mark> Parents&hellip;&nbsp;Dana Mains PARENTS <mark><em>Climate</em></mark> Parents\\n\\n4/19/2013 Daniel Lee PARENTS <mark><em>Climate</em></mark> Parents\\n\\n4/19/2013 Darleen&hellip;&nbsp;<mark><em>Climate</em></mark> Parents\\n\\n4/19/2013 Jeanne Miller PARENTS <mark><em>Climate</em></mark> Parents\\n\\n4/19/2013 Jeff Colman PARENTS <mark><em>Climate</em></mark>&hellip;&nbsp;<mark><em>Climate</em></mark> Parents\\n\\n4/19/2013 Thomas Green PARENTS <mark><em>Climate</em></mark> Parents\\n\\n4/19/2013 Valli Sugden PARENTS <mark><em>Climate</em></mark>&hellip;&nbsp;4/21/2013 Michael PARENTS <mark><em>Climate</em></mark> Parents\\n\\n4/21/2013 Whitney PARENTS <mark><em>Climate</em></mark> Parents', 'withdrawn': False, 'agencyId': 'DOS', 'title': 'Climate Parents Letters Received April 19-21, 2013', 'objectId': '090000648136d5a9', 'postedDate': '2013-07-18T04:00:00Z'}, 'links': {'self': 'https://api.regulations.gov/v4/comments/DOS-2013-0011-0367'}}\n",
      "{'id': 'IRS-2023-0042-0199', 'type': 'comments', 'attributes': {'documentType': 'Public Submission', 'lastModifiedDate': '2023-10-31T16:54:00Z', 'highlightedContent': 'On behalf of <mark><em>Climate</em></mark> Jobs Rhode Island, <mark><em>Climate</em></mark> Jobs Illinois, Texas <mark><em>Climate</em></mark> Jobs Project, and <mark><em>Climate</em></mark>&hellip;&nbsp;FROM: <mark><em>Climate</em></mark> Jobs Rhode Island; <mark><em>Climate</em></mark> Jobs Massachusetts; <mark><em>Climate</em></mark> Jobs Illinois; Texas <mark><em>Climate</em></mark> Jobs&hellip;&nbsp;Sincerely, \\n \\n \\nMichael Roles \\nPolicy Director \\n<mark><em>Climate</em></mark> Jobs Rhode Island \\nmike@climatejobsri.org&hellip;&nbsp;Joe Duffy \\nExecutive Director \\n<mark><em>Climate</em></mark> Jobs Illinois \\n \\nBo Delp \\nExecutive Director \\nTexas <mark><em>Climate</em></mark> Jobs&hellip;&nbsp;Project \\n \\nRyan Murphy \\nExecutive Director \\n<mark><em>Climate</em></mark> Jobs Massachusetts \\n\\nmailto:mike@climatejobsri.org', 'withdrawn': False, 'agencyId': 'IRS', 'title': 'Comment from Climate Jobs Rhode Island, Climate Jobs Illinois, Texas Climate Jobs Project, Climate Jobs Massachusetts', 'objectId': '0900006486196a59', 'postedDate': '2023-10-31T04:00:00Z'}, 'links': {'self': 'https://api.regulations.gov/v4/comments/IRS-2023-0042-0199'}}\n",
      "{'id': 'USDA-2021-0010-0317', 'type': 'comments', 'attributes': {'documentType': 'Public Submission', 'lastModifiedDate': '2021-11-02T12:37:55Z', 'highlightedContent': \"Please find The <mark><em>Climate</em></mark> Trust's comments attached.&hellip;&nbsp;Docket ID- USDA-2021-0010_The <mark><em>Climate</em></mark> Trust&hellip;&nbsp;Please find The <mark><em>Climate</em></mark> Trust’s comments to Climate-Smart Agriculture and Forestry Partnership \\nProgram&hellip;&nbsp;The <mark><em>Climate</em></mark> Trust  \\nThe <mark><em>Climate</em></mark> Trust is a non-profit organization with 25 years’ experience in the carbon&hellip;&nbsp;Based in Portland, Oregon, The <mark><em>Climate</em></mark> Trust works with public, private, and tribal partners throughout&hellip;&nbsp;In addition to developing carbon offset projects, The <mark><em>Climate</em></mark> \\nTrust is a recognized policy and thought&hellip;&nbsp;The <mark><em>Climate</em></mark> Trust is among the most experienced carbon market practitioners and has contracted seven\", 'withdrawn': False, 'agencyId': 'USDA', 'title': 'Comment from The Climate Trust', 'objectId': '0900006484e06192', 'postedDate': '2021-11-02T04:00:00Z'}, 'links': {'self': 'https://api.regulations.gov/v4/comments/USDA-2021-0010-0317'}}\n",
      "{'id': 'FTC-2022-0077-1067', 'type': 'comments', 'attributes': {'documentType': 'Public Submission', 'lastModifiedDate': '2023-05-05T04:07:35Z', 'highlightedContent': 'Bluebird <mark><em>Climate</em></mark> Technologies Inc. respectfully submits the attached document in response to the Federal&hellip;&nbsp;Green Guides Submission - Bluebird <mark><em>Climate</em></mark>&hellip;&nbsp;P954501)\\n\\nDear Commissioners,\\n\\nBluebird <mark><em>Climate</em></mark> Technologies Inc. respectfully submits the following&hellip;&nbsp;Introduction\\n\\nBluebird <mark><em>Climate</em></mark> Technologies Inc.&hellip;&nbsp;Carbon Offsets and <mark><em>Climate</em></mark> Change, 16 CFR 260.5.&hellip;&nbsp;Are there any specific deceptive claims related to <mark><em>climate</em></mark> change prevalent in the market?&hellip;&nbsp;Carbon neutral, <mark><em>climate</em></mark> neutral, carbon negative.\\n\\nf.', 'withdrawn': False, 'agencyId': 'FTC', 'title': 'Comment from Bluebird Climate', 'objectId': '09000064859718e9', 'postedDate': '2023-05-05T04:00:00Z'}, 'links': {'self': 'https://api.regulations.gov/v4/comments/FTC-2022-0077-1067'}}\n",
      "{'id': 'NHTSA-2021-0053-0052', 'type': 'comments', 'attributes': {'documentType': 'Public Submission', 'lastModifiedDate': '2021-10-20T18:02:15Z', 'highlightedContent': '<mark><em>Climate</em></mark> Group NHTSA Comment Letter&hellip;&nbsp;The <mark><em>Climate</em></mark> Group, Inc. is a U.S. registered 501(c)3 with EIN 43-2073566  \\n\\nDr.&hellip;&nbsp;Through the <mark><em>Climate</em></mark> Group’s EV100 initiative, members have committed to convert over 5.2 million vehicles&hellip;&nbsp;Sincerely, \\n\\n \\n\\n \\n\\n \\n\\nHelen Clarkson \\n\\nChief Executive Officer  \\n\\n<mark><em>Climate</em></mark> Group \\n\\n \\n\\nhttps://www.govinfo.gov', 'withdrawn': False, 'agencyId': 'NHTSA', 'title': 'Comment from Climate Group', 'objectId': '0900006484dcbf3c', 'postedDate': '2021-10-20T04:00:00Z'}, 'links': {'self': 'https://api.regulations.gov/v4/comments/NHTSA-2021-0053-0052'}}\n",
      "{'id': 'BOEM-2022-0009-0158', 'type': 'comments', 'attributes': {'documentType': 'Public Submission', 'lastModifiedDate': '2022-07-01T00:48:27Z', 'highlightedContent': '<mark><em>Climate</em></mark> Solutions comments - BOEM 2022-0009&hellip;&nbsp;<mark><em>Climate</em></mark> Solutions is a regional non-profit working to accelerate clean \\n\\nenergy solutions to the <mark><em>climate</em></mark>&hellip;&nbsp;<mark><em>Climate</em></mark> Solutions supports the request of the fishing industry to provide the National Marine Fisheries&hellip;&nbsp;nawindpower.com/aerial-survey-experts-introduce-bird-monitoring-for-offshore-wind-turbines\\n\\n\\nLabor \\n\\n<mark><em>Climate</em></mark>&hellip;&nbsp;<mark><em>Climate</em></mark> Solutions believes that the buildout of renewable energy resources to support a clean energy&hellip;&nbsp;Consultation with Affected Communities \\n\\n<mark><em>Climate</em></mark> Solutions strongly urges BOEM to engage with a diverse', 'withdrawn': False, 'agencyId': 'BOEM', 'title': 'Comment from Climate Solutions', 'objectId': '09000064851a694c', 'postedDate': '2022-06-30T04:00:00Z'}, 'links': {'self': 'https://api.regulations.gov/v4/comments/BOEM-2022-0009-0158'}}\n",
      "{'id': 'EPA-HQ-OAR-2022-0829-0454', 'type': 'comments', 'attributes': {'documentType': 'Public Submission', 'lastModifiedDate': '2023-05-09T01:31:45Z', 'highlightedContent': \"Catholic <mark><em>Climate</em></mark> Covenant (comment document attached)&hellip;&nbsp;Catholic <mark><em>Climate</em></mark> Covenant Clean Cars&hellip;&nbsp;Emissions Standards for Model Years 2027 and Later Light-\\nDuty and Medium Duty Vehicles \\n \\nCatholic <mark><em>Climate</em></mark>&hellip;&nbsp;of the United States Conference of Catholic \\nBishops and supported by 20 national partners, Catholic <mark><em>Climate</em></mark>&hellip;&nbsp;the United States bishops, we help guide the US Church's \\nresponse to the moral call for action on <mark><em>climate</em></mark>&hellip;&nbsp;It is from this institutional basis that Catholic <mark><em>Climate</em></mark> Covenant supports the US \\nEnvironmental Protection&hellip;&nbsp;As a leader in Catholic <mark><em>climate</em></mark> advocacy, Catholic <mark><em>Climate</em></mark> Covenant \\nsupports EPA’s new proposed clean\", 'withdrawn': False, 'agencyId': 'EPA', 'title': 'Comment submitted by Catholic Climate Covenant', 'objectId': '09000064859c2e7b', 'postedDate': '2023-05-08T04:00:00Z'}, 'links': {'self': 'https://api.regulations.gov/v4/comments/EPA-HQ-OAR-2022-0829-0454'}}\n",
      "{'id': 'USDA-2023-0009-0089', 'type': 'comments', 'attributes': {'documentType': 'Public Submission', 'lastModifiedDate': '2023-08-12T11:34:33Z', 'highlightedContent': 'Perennial <mark><em>Climate</em></mark> Inc RFI&hellip;&nbsp;Perennial <mark><em>Climate</em></mark> Inc.\\n2560 28th St\\nBoulder Colorado 80301\\n\\nAugust 11, 2023\\n\\nDocket ID: USDA-2023-0009', 'withdrawn': False, 'agencyId': 'USDA', 'title': 'Comment from Perennial Climate Inc.', 'objectId': '0900006485e22693', 'postedDate': '2023-08-12T04:00:00Z'}, 'links': {'self': 'https://api.regulations.gov/v4/comments/USDA-2023-0009-0089'}}\n",
      "{'id': 'EPA-HQ-OA-2023-0393-0054', 'type': 'comments', 'attributes': {'documentType': 'Public Submission', 'lastModifiedDate': '2024-10-01T00:40:42Z', 'highlightedContent': '<mark><em>Climate</em></mark> United is supportive of the EPA’s proactive step of outlining the anticipated impact reporting&hellip;&nbsp;<mark><em>Climate</em></mark> United is the collaboration of non-profit organizations Calvert Impact, the Community Preservation&hellip;&nbsp;capital across 50 states, with a focus on creating economic opportunity, sustainable development, and <mark><em>climate</em></mark>&hellip;&nbsp;<mark><em>Climate</em></mark> United’s national strategy is focused on demonstrating the benefits of the clean energy transition&hellip;&nbsp;<mark><em>Climate</em></mark> United submitted its response to the National Clean Investment Fund award competition in October&hellip;&nbsp;<mark><em>Climate</em></mark> United_Comment on GGRF Accomplishment Reporting ICR_September 2024&hellip;&nbsp;Greenhouse Gas Reduction Fund and Julie Zavala, Deputy \\nDirector, Greenhouse Gas Reduction Fund  \\n\\nFROM: <mark><em>Climate</em></mark>&hellip;&nbsp;United Fund and its Coalition Partners, CPC <mark><em>Climate</em></mark> Capital, and Self-Help \\n<mark><em>Climate</em></mark> Capital (together&hellip;&nbsp;“<mark><em>Climate</em></mark> United”)  \\n\\nRE: Greenhouse Gas Reduction Fund Accomplishment Reporting \\n\\nEPA ICR #: 2783.01&hellip;&nbsp;<mark><em>Climate</em></mark> United is supportive of the EPA’s proactive step of outlining the anticipated \\nimpact reporting&hellip;&nbsp;<mark><em>Climate</em></mark> United offers the following comments keeping these goals in mind, emphasizing the \\nfollowing', 'withdrawn': False, 'agencyId': 'EPA', 'title': 'Comment submitted by Climate United', 'objectId': '0900006486789422', 'postedDate': '2024-09-30T04:00:00Z'}, 'links': {'self': 'https://api.regulations.gov/v4/comments/EPA-HQ-OA-2023-0393-0054'}}\n",
      "{'id': 'EPA-HQ-OA-2023-0393-0012', 'type': 'comments', 'attributes': {'documentType': 'Public Submission', 'lastModifiedDate': '2024-04-12T00:33:14Z', 'highlightedContent': \"<mark><em>Climate</em></mark> United offers the attached comment letter on the EPA's proposed GGRF Accomplishment Reporting&hellip;&nbsp;<mark><em>Climate</em></mark> United Comment on GGRF Accomplishment Reporting ICR&hellip;&nbsp;Greenhouse Gas Reduction Fund and Frank Wright, \\nGreenhouse Gas Reduction Fund Program Office \\nFROM: <mark><em>Climate</em></mark>&hellip;&nbsp;<mark><em>Climate</em></mark> United is \\nsupportive of the EPA’s proactive step of outlining the anticipated impact reporting&hellip;&nbsp;<mark><em>Climate</em></mark> United is the collaboration of non-profit organizations Calvert Impact, the Community \\nPreservation&hellip;&nbsp;To eliminate the burden of Sub-recipients filling out duplicative forms, \\n<mark><em>Climate</em></mark> United recommends the&hellip;&nbsp;<mark><em>Climate</em></mark> United respects and \\nunderstands the important role of “third-party validation, verification,\", 'withdrawn': False, 'agencyId': 'EPA', 'title': 'Comment submitted by Climate United', 'objectId': '09000064864c227f', 'postedDate': '2024-04-11T04:00:00Z'}, 'links': {'self': 'https://api.regulations.gov/v4/comments/EPA-HQ-OA-2023-0393-0012'}}\n",
      "{'id': 'EPA-HQ-OAR-2021-0257-0101', 'type': 'comments', 'attributes': {'documentType': 'Public Submission', 'lastModifiedDate': '2021-07-02T00:34:32Z', 'highlightedContent': '<mark><em>Climate</em></mark> Group Comments EPA Proposal to Reinstate CA Waiver&hellip;&nbsp;The <mark><em>Climate</em></mark> Group, Inc. is a U.S. registered 501(c)3 with EIN 43-2073566   \\n\\n \\n\\n \\n\\n \\n\\n335 Madison Avenue&hellip;&nbsp;Regan, \\n \\nWe applaud the Biden-Harris Administration’s leadership in prioritizing the urgent issue of <mark><em>climate</em></mark>&hellip;&nbsp;by 2030 and bold actions such as the American Jobs Plan will help strengthen \\nAmerican leadership on <mark><em>climate</em></mark>&hellip;&nbsp;The <mark><em>Climate</em></mark> Group is an international non-profit with a mission to drive <mark><em>climate</em></mark> action. Fast.&hellip;&nbsp;Sincerely, \\n \\nAmy Davidsen \\nExecutive Director, North America  \\n<mark><em>Climate</em></mark> Group \\n\\nmailto:info@theclimategroup.org', 'withdrawn': False, 'agencyId': 'EPA', 'title': 'Comment submitted by Climate Group', 'objectId': '0900006484bbf94e', 'postedDate': '2021-07-01T04:00:00Z'}, 'links': {'self': 'https://api.regulations.gov/v4/comments/EPA-HQ-OAR-2021-0257-0101'}}\n",
      "{'id': 'NHTSA-2017-0069-0495', 'type': 'comments', 'attributes': {'documentType': 'Public Submission', 'lastModifiedDate': '2018-09-20T15:36:28Z', 'highlightedContent': '<mark><em>Climate</em></mark> Institute  - Comments \\nCAFE relaxation-Chapter 5-091918&hellip;&nbsp;NHTSA-2017-0069 \\n \\nReview Comments on Draft EIS Chapter 5: Greenhouse Gas Emissions and <mark><em>Climate</em></mark> \\nChange&hellip;&nbsp;Our mission is to discover and implement <mark><em>climate</em></mark> solutions by \\nadvancing research, sharing information&hellip;&nbsp;<mark><em>climatic</em></mark> effects presented here as drawn from IPCC 2013 and GCRP \\n2017.&hellip;&nbsp;–17, 2009, Pew Center on Global <mark><em>Climate</em></mark> Change, \\nArlington, VA.&hellip;&nbsp;President, <mark><em>Climate</em></mark> Institute', 'withdrawn': False, 'agencyId': 'NHTSA', 'title': 'Comment from Climate Institute', 'objectId': '09000064837281b5', 'postedDate': '2018-09-20T04:00:00Z'}, 'links': {'self': 'https://api.regulations.gov/v4/comments/NHTSA-2017-0069-0495'}}\n",
      "{'id': 'USDA-2024-0003-0311', 'type': 'comments', 'attributes': {'documentType': 'Public Submission', 'lastModifiedDate': '2025-03-20T12:21:01Z', 'highlightedContent': 'Please find attached comments from Anew <mark><em>Climate</em></mark>.&hellip;&nbsp;Anew <mark><em>Climate</em></mark> Response to USDA Technical Guidance.March18.2025', 'withdrawn': False, 'agencyId': 'USDA', 'title': 'Comment from Anew Climate', 'objectId': '0900006486a038e4', 'postedDate': '2025-03-20T04:00:00Z'}, 'links': {'self': 'https://api.regulations.gov/v4/comments/USDA-2024-0003-0311'}}\n",
      "{'id': 'FTC-2022-0077-0887', 'type': 'comments', 'attributes': {'documentType': 'Public Submission', 'lastModifiedDate': '2023-04-26T01:24:03Z', 'highlightedContent': 'Our label, <mark><em>Climate</em></mark> Neutral Certified, is a trusted, independent standard\\nfor <mark><em>climate</em></mark> neutrality.&hellip;&nbsp;“<mark><em>climate</em></mark> smart,”\\n“<mark><em>climate</em></mark> friendly,” “carbon negative,” “<mark><em>climate</em></mark> positive,” etc.) because it is highly&hellip;&nbsp;limited\\n<mark><em>climate</em></mark> benefits.&hellip;&nbsp;earlier, many generic <mark><em>climate</em></mark> terms are used in\\nmarketing, including “<mark><em>climate</em></mark> friendly,” “<mark><em>climate</em></mark> smart&hellip;&nbsp;“<mark><em>climate</em></mark> smart,”\\n“<mark><em>climate</em></mark> friendly,” “carbon negative,” “<mark><em>climate</em></mark> positive,” etc.) because it is highly', 'withdrawn': False, 'agencyId': 'FTC', 'title': 'Comment from Climate Neutral', 'objectId': '0900006485979a96', 'postedDate': '2023-04-25T04:00:00Z'}, 'links': {'self': 'https://api.regulations.gov/v4/comments/FTC-2022-0077-0887'}}\n",
      "{'id': 'BOEM-2023-0065-0107', 'type': 'comments', 'attributes': {'documentType': 'Public Submission', 'lastModifiedDate': '2024-03-17T00:33:34Z', 'highlightedContent': \"See attached document for Rogue <mark><em>Climate's</em></mark> comment.&hellip;&nbsp;Rogue <mark><em>Climate</em></mark> serves and works alongside Southern Oregon and South Coast communities most\\n\\nimpacted by&hellip;&nbsp;<mark><em>climate</em></mark> change, including low-income, rural, youth, and communities of color, by\\n\\norganizing for clean&hellip;&nbsp;Rogue <mark><em>Climate</em></mark> is invested in the protection of the Coos Bay estuary and the <mark><em>climate</em></mark> resilience of\\n\\nsouth&hellip;&nbsp;Rogue <mark><em>Climate</em></mark> was also a key leader in the campaign\\n\\nto pass HB2021, which directs Oregon’s Investor&hellip;&nbsp;<mark><em>Climate</em></mark> Justice Principles for a Just Transition in Offshore Wind Energy Development\\n\\nThrough the <mark><em>Climate</em></mark>\", 'withdrawn': False, 'agencyId': 'BOEM', 'title': 'Comment from Rogue Climate', 'objectId': '090000648647e4d8', 'postedDate': '2024-03-16T04:00:00Z'}, 'links': {'self': 'https://api.regulations.gov/v4/comments/BOEM-2023-0065-0107'}}\n",
      "{'id': 'BOEM-2022-0009-0175', 'type': 'comments', 'attributes': {'documentType': 'Public Submission', 'lastModifiedDate': '2022-07-01T00:54:01Z', 'highlightedContent': 'Rogue <mark><em>Climate</em></mark> Comments to BOEM 06 28 2022&hellip;&nbsp;Rogue <mark><em>Climate</em></mark> serves and works alongside Southern Oregon and South Coast communities most\\n\\nimpacted by&hellip;&nbsp;<mark><em>climate</em></mark> change, including low-income, rural, youth, and communities of color, by\\n\\norganizing for clean&hellip;&nbsp;Rogue\\n\\n<mark><em>Climate</em></mark> was also a key leader in the campaign to pass HB2021, which directs Oregon’s Investor&hellip;&nbsp;Rogue <mark><em>Climate</em></mark> looks forward to continuing to participate in\\n\\nthis process into the future.&hellip;&nbsp;Sincerely,\\n\\nRogue <mark><em>Climate</em></mark>\\n\\n8', 'withdrawn': False, 'agencyId': 'BOEM', 'title': 'Comment from Rogue Climate', 'objectId': '09000064851a80c6', 'postedDate': '2022-06-30T04:00:00Z'}, 'links': {'self': 'https://api.regulations.gov/v4/comments/BOEM-2022-0009-0175'}}\n",
      "{'id': 'IRS-2023-0028-0044', 'type': 'comments', 'attributes': {'documentType': 'Public Submission', 'lastModifiedDate': '2023-08-15T15:49:50Z', 'highlightedContent': 'Basis <mark><em>Climate</em></mark> respectfully submits this request for guidance in response to the proposed regulations&hellip;&nbsp;The requested guidance is of critical interest to Basis <mark><em>Climate</em></mark>, and more broadly to project developers&hellip;&nbsp;Basis <mark><em>Climate</em></mark> Corp. Comment Letter-Final&hellip;&nbsp;The\\nrequested guidance is of critical interest to Basis <mark><em>Climate</em></mark>, and more broadly to project\\ndevelopers&hellip;&nbsp;Basis <mark><em>Climate</em></mark> (“Basis”) is quickly becoming a leading digital exchange for clean energy tax\\ncredits.&hellip;&nbsp;Basis is backed by leading <mark><em>climate</em></mark> investors and\\nmarket makers, and Basis is already structuring over&hellip;&nbsp;Reduction Act’s goal of\\nusing tax credit transferability as a mechanism for improving liquidity in <mark><em>climate</em></mark>&hellip;&nbsp;Best,\\n\\nErik Underwood\\nCEO\\nBasis <mark><em>Climate</em></mark> Corp.\\nwww.buildwithbasis.com\\n\\nhttp://www.buildwithbasis.com', 'withdrawn': False, 'agencyId': 'IRS', 'title': 'Comment from Basis Climate Corp.', 'objectId': '0900006485e36e03', 'postedDate': '2023-08-15T04:00:00Z'}, 'links': {'self': 'https://api.regulations.gov/v4/comments/IRS-2023-0028-0044'}}\n",
      "{'id': 'FS-2023-0006-91759', 'type': 'comments', 'attributes': {'documentType': 'Public Submission', 'lastModifiedDate': '2023-09-01T01:03:48Z', 'highlightedContent': '<mark><em>Climate</em></mark> Forests - Worth More Standing&hellip;&nbsp;Standing:\\n10 Climate-Saving Forests Threatened by Federal Logging\\n\\nThis report was prepared for the <mark><em>Climate</em></mark>&hellip;&nbsp;forests and trees on federal public lands can markedly reduce carbon emissions, aid the fight to curb <mark><em>climate</em></mark>&hellip;&nbsp;President Biden issued an executive order that recognized the role older forests play in combating the <mark><em>climate</em></mark>&hellip;&nbsp;old-\\ngrowth forests on federal lands and develop policies to conserve them as a cornerstone of U.S. <mark><em>climate</em></mark>&hellip;&nbsp;Black Hills Forest Plan guides all \\nactivities and significantly undermines efforts to address the <mark><em>climate</em></mark>', 'withdrawn': False, 'agencyId': 'FS', 'title': 'Climate Forests - Worth More Standing', 'objectId': '0900006485cdb5b2', 'postedDate': '2023-08-31T04:00:00Z'}, 'links': {'self': 'https://api.regulations.gov/v4/comments/FS-2023-0006-91759'}}\n"
     ]
    }
   ],
   "source": [
    "comments = []\n",
    "N = 999\n",
    "p = 1\n",
    "api.endpoint(\"/comments\")\n",
    "api.search(\"climate\")\n",
    "api.page(2)\n",
    "res = api.get()\n",
    "i = 1\n",
    "for entry in res[\"data\"]:\n",
    "    print(entry)\n",
    "    \n",
    "\n",
    "    # has_attachments = api.url(res[\"data\"][\"relationships\"][\"attachments\"][\"links\"]['related']).get()[\"data\"]\n",
    "    # i += 1\n",
    "    # if not has_attachments:\n",
    "    #     text = res[\"data\"][\"attributes\"][\"comment\"]\n",
    "    #     comments.append(text)\n",
    "\n",
    "\n",
    "    "
   ]
  },
  {
   "cell_type": "code",
   "execution_count": 61,
   "id": "c54b0540",
   "metadata": {},
   "outputs": [
    {
     "data": {
      "text/plain": [
       "[{'id': 'BOEM-2024-0022-0054',\n",
       "  'type': 'comments',\n",
       "  'attributes': {'documentType': 'Public Submission',\n",
       "   'lastModifiedDate': '2024-07-04T00:33:53Z',\n",
       "   'highlightedContent': 'Rogue <mark><em>Climate</em></mark> _ORPSN_ 06_28_2024&hellip;&nbsp;Rogue <mark><em>Climate</em></mark> serves and works alongside Southern Oregon and South Coast communities most\\n\\nimpacted by&hellip;&nbsp;<mark><em>climate</em></mark> change, including low-income, rural, youth, and communities of color, by\\n\\norganizing for clean&hellip;&nbsp;Rogue <mark><em>Climate</em></mark> is invested in the protection of the Coos Bay estuary and the <mark><em>climate</em></mark> resilience of\\n\\nSouth&hellip;&nbsp;Ensuring A Just Transition:\\nThrough the <mark><em>Climate</em></mark> Justice Alliance, Rogue <mark><em>Climate</em></mark>, alongside UPROSE and&hellip;&nbsp;Rogue <mark><em>Climate</em></mark> looks forward to continued collaboration and\\n\\nengagement into the future.',\n",
       "   'withdrawn': False,\n",
       "   'agencyId': 'BOEM',\n",
       "   'title': 'Comment from Rogue Climate',\n",
       "   'objectId': '09000064865d6342',\n",
       "   'postedDate': '2024-07-03T04:00:00Z'},\n",
       "  'links': {'self': 'https://api.regulations.gov/v4/comments/BOEM-2024-0022-0054'}},\n",
       " {'id': 'CEQ-2019-0003-173061',\n",
       "  'type': 'comments',\n",
       "  'attributes': {'documentType': 'Public Submission',\n",
       "   'lastModifiedDate': '2020-05-04T23:16:20Z',\n",
       "   'highlightedContent': 'Comment from <mark><em>Climate</em></mark> Writers (8 signatures)_0224_2&hellip;&nbsp;<mark><em>CLIMATE</em></mark> WRITERS \\n\\nM1.3 64/mil 44 \\nco-L 0 ?',\n",
       "   'withdrawn': False,\n",
       "   'agencyId': 'CEQ',\n",
       "   'title': 'Comment from Climate Writers (8 signatures)',\n",
       "   'objectId': '09000064844c39e2',\n",
       "   'postedDate': '2020-05-04T04:00:00Z'},\n",
       "  'links': {'self': 'https://api.regulations.gov/v4/comments/CEQ-2019-0003-173061'}},\n",
       " {'id': 'DOS-2013-0011-0367',\n",
       "  'type': 'comments',\n",
       "  'attributes': {'documentType': 'Public Submission',\n",
       "   'lastModifiedDate': '2013-07-18T18:35:06Z',\n",
       "   'highlightedContent': '<mark><em>Climate</em></mark> Parents&hellip;&nbsp;Parents\\n\\n4/19/2013 Angela Wyatt PARENTS <mark><em>Climate</em></mark> Parents\\n\\n4/19/2013 Brad Jaynes PARENTS <mark><em>Climate</em></mark> Parents&hellip;&nbsp;Dana Mains PARENTS <mark><em>Climate</em></mark> Parents\\n\\n4/19/2013 Daniel Lee PARENTS <mark><em>Climate</em></mark> Parents\\n\\n4/19/2013 Darleen&hellip;&nbsp;<mark><em>Climate</em></mark> Parents\\n\\n4/19/2013 Jeanne Miller PARENTS <mark><em>Climate</em></mark> Parents\\n\\n4/19/2013 Jeff Colman PARENTS <mark><em>Climate</em></mark>&hellip;&nbsp;<mark><em>Climate</em></mark> Parents\\n\\n4/19/2013 Thomas Green PARENTS <mark><em>Climate</em></mark> Parents\\n\\n4/19/2013 Valli Sugden PARENTS <mark><em>Climate</em></mark>&hellip;&nbsp;4/21/2013 Michael PARENTS <mark><em>Climate</em></mark> Parents\\n\\n4/21/2013 Whitney PARENTS <mark><em>Climate</em></mark> Parents',\n",
       "   'withdrawn': False,\n",
       "   'agencyId': 'DOS',\n",
       "   'title': 'Climate Parents Letters Received April 19-21, 2013',\n",
       "   'objectId': '090000648136d5a9',\n",
       "   'postedDate': '2013-07-18T04:00:00Z'},\n",
       "  'links': {'self': 'https://api.regulations.gov/v4/comments/DOS-2013-0011-0367'}},\n",
       " {'id': 'IRS-2023-0042-0199',\n",
       "  'type': 'comments',\n",
       "  'attributes': {'documentType': 'Public Submission',\n",
       "   'lastModifiedDate': '2023-10-31T16:54:00Z',\n",
       "   'highlightedContent': 'On behalf of <mark><em>Climate</em></mark> Jobs Rhode Island, <mark><em>Climate</em></mark> Jobs Illinois, Texas <mark><em>Climate</em></mark> Jobs Project, and <mark><em>Climate</em></mark>&hellip;&nbsp;FROM: <mark><em>Climate</em></mark> Jobs Rhode Island; <mark><em>Climate</em></mark> Jobs Massachusetts; <mark><em>Climate</em></mark> Jobs Illinois; Texas <mark><em>Climate</em></mark> Jobs&hellip;&nbsp;Sincerely, \\n \\n \\nMichael Roles \\nPolicy Director \\n<mark><em>Climate</em></mark> Jobs Rhode Island \\nmike@climatejobsri.org&hellip;&nbsp;Joe Duffy \\nExecutive Director \\n<mark><em>Climate</em></mark> Jobs Illinois \\n \\nBo Delp \\nExecutive Director \\nTexas <mark><em>Climate</em></mark> Jobs&hellip;&nbsp;Project \\n \\nRyan Murphy \\nExecutive Director \\n<mark><em>Climate</em></mark> Jobs Massachusetts \\n\\nmailto:mike@climatejobsri.org',\n",
       "   'withdrawn': False,\n",
       "   'agencyId': 'IRS',\n",
       "   'title': 'Comment from Climate Jobs Rhode Island, Climate Jobs Illinois, Texas Climate Jobs Project, Climate Jobs Massachusetts',\n",
       "   'objectId': '0900006486196a59',\n",
       "   'postedDate': '2023-10-31T04:00:00Z'},\n",
       "  'links': {'self': 'https://api.regulations.gov/v4/comments/IRS-2023-0042-0199'}},\n",
       " {'id': 'USDA-2021-0010-0317',\n",
       "  'type': 'comments',\n",
       "  'attributes': {'documentType': 'Public Submission',\n",
       "   'lastModifiedDate': '2021-11-02T12:37:55Z',\n",
       "   'highlightedContent': \"Please find The <mark><em>Climate</em></mark> Trust's comments attached.&hellip;&nbsp;Docket ID- USDA-2021-0010_The <mark><em>Climate</em></mark> Trust&hellip;&nbsp;Please find The <mark><em>Climate</em></mark> Trust’s comments to Climate-Smart Agriculture and Forestry Partnership \\nProgram&hellip;&nbsp;The <mark><em>Climate</em></mark> Trust  \\nThe <mark><em>Climate</em></mark> Trust is a non-profit organization with 25 years’ experience in the carbon&hellip;&nbsp;Based in Portland, Oregon, The <mark><em>Climate</em></mark> Trust works with public, private, and tribal partners throughout&hellip;&nbsp;In addition to developing carbon offset projects, The <mark><em>Climate</em></mark> \\nTrust is a recognized policy and thought&hellip;&nbsp;The <mark><em>Climate</em></mark> Trust is among the most experienced carbon market practitioners and has contracted seven\",\n",
       "   'withdrawn': False,\n",
       "   'agencyId': 'USDA',\n",
       "   'title': 'Comment from The Climate Trust',\n",
       "   'objectId': '0900006484e06192',\n",
       "   'postedDate': '2021-11-02T04:00:00Z'},\n",
       "  'links': {'self': 'https://api.regulations.gov/v4/comments/USDA-2021-0010-0317'}},\n",
       " {'id': 'FTC-2022-0077-1067',\n",
       "  'type': 'comments',\n",
       "  'attributes': {'documentType': 'Public Submission',\n",
       "   'lastModifiedDate': '2023-05-05T04:07:35Z',\n",
       "   'highlightedContent': 'Bluebird <mark><em>Climate</em></mark> Technologies Inc. respectfully submits the attached document in response to the Federal&hellip;&nbsp;Green Guides Submission - Bluebird <mark><em>Climate</em></mark>&hellip;&nbsp;P954501)\\n\\nDear Commissioners,\\n\\nBluebird <mark><em>Climate</em></mark> Technologies Inc. respectfully submits the following&hellip;&nbsp;Introduction\\n\\nBluebird <mark><em>Climate</em></mark> Technologies Inc.&hellip;&nbsp;Carbon Offsets and <mark><em>Climate</em></mark> Change, 16 CFR 260.5.&hellip;&nbsp;Are there any specific deceptive claims related to <mark><em>climate</em></mark> change prevalent in the market?&hellip;&nbsp;Carbon neutral, <mark><em>climate</em></mark> neutral, carbon negative.\\n\\nf.',\n",
       "   'withdrawn': False,\n",
       "   'agencyId': 'FTC',\n",
       "   'title': 'Comment from Bluebird Climate',\n",
       "   'objectId': '09000064859718e9',\n",
       "   'postedDate': '2023-05-05T04:00:00Z'},\n",
       "  'links': {'self': 'https://api.regulations.gov/v4/comments/FTC-2022-0077-1067'}},\n",
       " {'id': 'NHTSA-2021-0053-0052',\n",
       "  'type': 'comments',\n",
       "  'attributes': {'documentType': 'Public Submission',\n",
       "   'lastModifiedDate': '2021-10-20T18:02:15Z',\n",
       "   'highlightedContent': '<mark><em>Climate</em></mark> Group NHTSA Comment Letter&hellip;&nbsp;The <mark><em>Climate</em></mark> Group, Inc. is a U.S. registered 501(c)3 with EIN 43-2073566  \\n\\nDr.&hellip;&nbsp;Through the <mark><em>Climate</em></mark> Group’s EV100 initiative, members have committed to convert over 5.2 million vehicles&hellip;&nbsp;Sincerely, \\n\\n \\n\\n \\n\\n \\n\\nHelen Clarkson \\n\\nChief Executive Officer  \\n\\n<mark><em>Climate</em></mark> Group \\n\\n \\n\\nhttps://www.govinfo.gov',\n",
       "   'withdrawn': False,\n",
       "   'agencyId': 'NHTSA',\n",
       "   'title': 'Comment from Climate Group',\n",
       "   'objectId': '0900006484dcbf3c',\n",
       "   'postedDate': '2021-10-20T04:00:00Z'},\n",
       "  'links': {'self': 'https://api.regulations.gov/v4/comments/NHTSA-2021-0053-0052'}},\n",
       " {'id': 'BOEM-2022-0009-0158',\n",
       "  'type': 'comments',\n",
       "  'attributes': {'documentType': 'Public Submission',\n",
       "   'lastModifiedDate': '2022-07-01T00:48:27Z',\n",
       "   'highlightedContent': '<mark><em>Climate</em></mark> Solutions comments - BOEM 2022-0009&hellip;&nbsp;<mark><em>Climate</em></mark> Solutions is a regional non-profit working to accelerate clean \\n\\nenergy solutions to the <mark><em>climate</em></mark>&hellip;&nbsp;<mark><em>Climate</em></mark> Solutions supports the request of the fishing industry to provide the National Marine Fisheries&hellip;&nbsp;nawindpower.com/aerial-survey-experts-introduce-bird-monitoring-for-offshore-wind-turbines\\n\\n\\nLabor \\n\\n<mark><em>Climate</em></mark>&hellip;&nbsp;<mark><em>Climate</em></mark> Solutions believes that the buildout of renewable energy resources to support a clean energy&hellip;&nbsp;Consultation with Affected Communities \\n\\n<mark><em>Climate</em></mark> Solutions strongly urges BOEM to engage with a diverse',\n",
       "   'withdrawn': False,\n",
       "   'agencyId': 'BOEM',\n",
       "   'title': 'Comment from Climate Solutions',\n",
       "   'objectId': '09000064851a694c',\n",
       "   'postedDate': '2022-06-30T04:00:00Z'},\n",
       "  'links': {'self': 'https://api.regulations.gov/v4/comments/BOEM-2022-0009-0158'}},\n",
       " {'id': 'EPA-HQ-OAR-2022-0829-0454',\n",
       "  'type': 'comments',\n",
       "  'attributes': {'documentType': 'Public Submission',\n",
       "   'lastModifiedDate': '2023-05-09T01:31:45Z',\n",
       "   'highlightedContent': \"Catholic <mark><em>Climate</em></mark> Covenant (comment document attached)&hellip;&nbsp;Catholic <mark><em>Climate</em></mark> Covenant Clean Cars&hellip;&nbsp;Emissions Standards for Model Years 2027 and Later Light-\\nDuty and Medium Duty Vehicles \\n \\nCatholic <mark><em>Climate</em></mark>&hellip;&nbsp;of the United States Conference of Catholic \\nBishops and supported by 20 national partners, Catholic <mark><em>Climate</em></mark>&hellip;&nbsp;the United States bishops, we help guide the US Church's \\nresponse to the moral call for action on <mark><em>climate</em></mark>&hellip;&nbsp;It is from this institutional basis that Catholic <mark><em>Climate</em></mark> Covenant supports the US \\nEnvironmental Protection&hellip;&nbsp;As a leader in Catholic <mark><em>climate</em></mark> advocacy, Catholic <mark><em>Climate</em></mark> Covenant \\nsupports EPA’s new proposed clean\",\n",
       "   'withdrawn': False,\n",
       "   'agencyId': 'EPA',\n",
       "   'title': 'Comment submitted by Catholic Climate Covenant',\n",
       "   'objectId': '09000064859c2e7b',\n",
       "   'postedDate': '2023-05-08T04:00:00Z'},\n",
       "  'links': {'self': 'https://api.regulations.gov/v4/comments/EPA-HQ-OAR-2022-0829-0454'}},\n",
       " {'id': 'USDA-2023-0009-0089',\n",
       "  'type': 'comments',\n",
       "  'attributes': {'documentType': 'Public Submission',\n",
       "   'lastModifiedDate': '2023-08-12T11:34:33Z',\n",
       "   'highlightedContent': 'Perennial <mark><em>Climate</em></mark> Inc RFI&hellip;&nbsp;Perennial <mark><em>Climate</em></mark> Inc.\\n2560 28th St\\nBoulder Colorado 80301\\n\\nAugust 11, 2023\\n\\nDocket ID: USDA-2023-0009',\n",
       "   'withdrawn': False,\n",
       "   'agencyId': 'USDA',\n",
       "   'title': 'Comment from Perennial Climate Inc.',\n",
       "   'objectId': '0900006485e22693',\n",
       "   'postedDate': '2023-08-12T04:00:00Z'},\n",
       "  'links': {'self': 'https://api.regulations.gov/v4/comments/USDA-2023-0009-0089'}},\n",
       " {'id': 'EPA-HQ-OA-2023-0393-0054',\n",
       "  'type': 'comments',\n",
       "  'attributes': {'documentType': 'Public Submission',\n",
       "   'lastModifiedDate': '2024-10-01T00:40:42Z',\n",
       "   'highlightedContent': '<mark><em>Climate</em></mark> United is supportive of the EPA’s proactive step of outlining the anticipated impact reporting&hellip;&nbsp;<mark><em>Climate</em></mark> United is the collaboration of non-profit organizations Calvert Impact, the Community Preservation&hellip;&nbsp;capital across 50 states, with a focus on creating economic opportunity, sustainable development, and <mark><em>climate</em></mark>&hellip;&nbsp;<mark><em>Climate</em></mark> United’s national strategy is focused on demonstrating the benefits of the clean energy transition&hellip;&nbsp;<mark><em>Climate</em></mark> United submitted its response to the National Clean Investment Fund award competition in October&hellip;&nbsp;<mark><em>Climate</em></mark> United_Comment on GGRF Accomplishment Reporting ICR_September 2024&hellip;&nbsp;Greenhouse Gas Reduction Fund and Julie Zavala, Deputy \\nDirector, Greenhouse Gas Reduction Fund  \\n\\nFROM: <mark><em>Climate</em></mark>&hellip;&nbsp;United Fund and its Coalition Partners, CPC <mark><em>Climate</em></mark> Capital, and Self-Help \\n<mark><em>Climate</em></mark> Capital (together&hellip;&nbsp;“<mark><em>Climate</em></mark> United”)  \\n\\nRE: Greenhouse Gas Reduction Fund Accomplishment Reporting \\n\\nEPA ICR #: 2783.01&hellip;&nbsp;<mark><em>Climate</em></mark> United is supportive of the EPA’s proactive step of outlining the anticipated \\nimpact reporting&hellip;&nbsp;<mark><em>Climate</em></mark> United offers the following comments keeping these goals in mind, emphasizing the \\nfollowing',\n",
       "   'withdrawn': False,\n",
       "   'agencyId': 'EPA',\n",
       "   'title': 'Comment submitted by Climate United',\n",
       "   'objectId': '0900006486789422',\n",
       "   'postedDate': '2024-09-30T04:00:00Z'},\n",
       "  'links': {'self': 'https://api.regulations.gov/v4/comments/EPA-HQ-OA-2023-0393-0054'}},\n",
       " {'id': 'EPA-HQ-OA-2023-0393-0012',\n",
       "  'type': 'comments',\n",
       "  'attributes': {'documentType': 'Public Submission',\n",
       "   'lastModifiedDate': '2024-04-12T00:33:14Z',\n",
       "   'highlightedContent': \"<mark><em>Climate</em></mark> United offers the attached comment letter on the EPA's proposed GGRF Accomplishment Reporting&hellip;&nbsp;<mark><em>Climate</em></mark> United Comment on GGRF Accomplishment Reporting ICR&hellip;&nbsp;Greenhouse Gas Reduction Fund and Frank Wright, \\nGreenhouse Gas Reduction Fund Program Office \\nFROM: <mark><em>Climate</em></mark>&hellip;&nbsp;<mark><em>Climate</em></mark> United is \\nsupportive of the EPA’s proactive step of outlining the anticipated impact reporting&hellip;&nbsp;<mark><em>Climate</em></mark> United is the collaboration of non-profit organizations Calvert Impact, the Community \\nPreservation&hellip;&nbsp;To eliminate the burden of Sub-recipients filling out duplicative forms, \\n<mark><em>Climate</em></mark> United recommends the&hellip;&nbsp;<mark><em>Climate</em></mark> United respects and \\nunderstands the important role of “third-party validation, verification,\",\n",
       "   'withdrawn': False,\n",
       "   'agencyId': 'EPA',\n",
       "   'title': 'Comment submitted by Climate United',\n",
       "   'objectId': '09000064864c227f',\n",
       "   'postedDate': '2024-04-11T04:00:00Z'},\n",
       "  'links': {'self': 'https://api.regulations.gov/v4/comments/EPA-HQ-OA-2023-0393-0012'}},\n",
       " {'id': 'EPA-HQ-OAR-2021-0257-0101',\n",
       "  'type': 'comments',\n",
       "  'attributes': {'documentType': 'Public Submission',\n",
       "   'lastModifiedDate': '2021-07-02T00:34:32Z',\n",
       "   'highlightedContent': '<mark><em>Climate</em></mark> Group Comments EPA Proposal to Reinstate CA Waiver&hellip;&nbsp;The <mark><em>Climate</em></mark> Group, Inc. is a U.S. registered 501(c)3 with EIN 43-2073566   \\n\\n \\n\\n \\n\\n \\n\\n335 Madison Avenue&hellip;&nbsp;Regan, \\n \\nWe applaud the Biden-Harris Administration’s leadership in prioritizing the urgent issue of <mark><em>climate</em></mark>&hellip;&nbsp;by 2030 and bold actions such as the American Jobs Plan will help strengthen \\nAmerican leadership on <mark><em>climate</em></mark>&hellip;&nbsp;The <mark><em>Climate</em></mark> Group is an international non-profit with a mission to drive <mark><em>climate</em></mark> action. Fast.&hellip;&nbsp;Sincerely, \\n \\nAmy Davidsen \\nExecutive Director, North America  \\n<mark><em>Climate</em></mark> Group \\n\\nmailto:info@theclimategroup.org',\n",
       "   'withdrawn': False,\n",
       "   'agencyId': 'EPA',\n",
       "   'title': 'Comment submitted by Climate Group',\n",
       "   'objectId': '0900006484bbf94e',\n",
       "   'postedDate': '2021-07-01T04:00:00Z'},\n",
       "  'links': {'self': 'https://api.regulations.gov/v4/comments/EPA-HQ-OAR-2021-0257-0101'}},\n",
       " {'id': 'NHTSA-2017-0069-0495',\n",
       "  'type': 'comments',\n",
       "  'attributes': {'documentType': 'Public Submission',\n",
       "   'lastModifiedDate': '2018-09-20T15:36:28Z',\n",
       "   'highlightedContent': '<mark><em>Climate</em></mark> Institute  - Comments \\nCAFE relaxation-Chapter 5-091918&hellip;&nbsp;NHTSA-2017-0069 \\n \\nReview Comments on Draft EIS Chapter 5: Greenhouse Gas Emissions and <mark><em>Climate</em></mark> \\nChange&hellip;&nbsp;Our mission is to discover and implement <mark><em>climate</em></mark> solutions by \\nadvancing research, sharing information&hellip;&nbsp;<mark><em>climatic</em></mark> effects presented here as drawn from IPCC 2013 and GCRP \\n2017.&hellip;&nbsp;–17, 2009, Pew Center on Global <mark><em>Climate</em></mark> Change, \\nArlington, VA.&hellip;&nbsp;President, <mark><em>Climate</em></mark> Institute',\n",
       "   'withdrawn': False,\n",
       "   'agencyId': 'NHTSA',\n",
       "   'title': 'Comment from Climate Institute',\n",
       "   'objectId': '09000064837281b5',\n",
       "   'postedDate': '2018-09-20T04:00:00Z'},\n",
       "  'links': {'self': 'https://api.regulations.gov/v4/comments/NHTSA-2017-0069-0495'}},\n",
       " {'id': 'USDA-2024-0003-0311',\n",
       "  'type': 'comments',\n",
       "  'attributes': {'documentType': 'Public Submission',\n",
       "   'lastModifiedDate': '2025-03-20T12:21:01Z',\n",
       "   'highlightedContent': 'Please find attached comments from Anew <mark><em>Climate</em></mark>.&hellip;&nbsp;Anew <mark><em>Climate</em></mark> Response to USDA Technical Guidance.March18.2025',\n",
       "   'withdrawn': False,\n",
       "   'agencyId': 'USDA',\n",
       "   'title': 'Comment from Anew Climate',\n",
       "   'objectId': '0900006486a038e4',\n",
       "   'postedDate': '2025-03-20T04:00:00Z'},\n",
       "  'links': {'self': 'https://api.regulations.gov/v4/comments/USDA-2024-0003-0311'}},\n",
       " {'id': 'FTC-2022-0077-0887',\n",
       "  'type': 'comments',\n",
       "  'attributes': {'documentType': 'Public Submission',\n",
       "   'lastModifiedDate': '2023-04-26T01:24:03Z',\n",
       "   'highlightedContent': 'Our label, <mark><em>Climate</em></mark> Neutral Certified, is a trusted, independent standard\\nfor <mark><em>climate</em></mark> neutrality.&hellip;&nbsp;“<mark><em>climate</em></mark> smart,”\\n“<mark><em>climate</em></mark> friendly,” “carbon negative,” “<mark><em>climate</em></mark> positive,” etc.) because it is highly&hellip;&nbsp;limited\\n<mark><em>climate</em></mark> benefits.&hellip;&nbsp;earlier, many generic <mark><em>climate</em></mark> terms are used in\\nmarketing, including “<mark><em>climate</em></mark> friendly,” “<mark><em>climate</em></mark> smart&hellip;&nbsp;“<mark><em>climate</em></mark> smart,”\\n“<mark><em>climate</em></mark> friendly,” “carbon negative,” “<mark><em>climate</em></mark> positive,” etc.) because it is highly',\n",
       "   'withdrawn': False,\n",
       "   'agencyId': 'FTC',\n",
       "   'title': 'Comment from Climate Neutral',\n",
       "   'objectId': '0900006485979a96',\n",
       "   'postedDate': '2023-04-25T04:00:00Z'},\n",
       "  'links': {'self': 'https://api.regulations.gov/v4/comments/FTC-2022-0077-0887'}},\n",
       " {'id': 'BOEM-2023-0065-0107',\n",
       "  'type': 'comments',\n",
       "  'attributes': {'documentType': 'Public Submission',\n",
       "   'lastModifiedDate': '2024-03-17T00:33:34Z',\n",
       "   'highlightedContent': \"See attached document for Rogue <mark><em>Climate's</em></mark> comment.&hellip;&nbsp;Rogue <mark><em>Climate</em></mark> serves and works alongside Southern Oregon and South Coast communities most\\n\\nimpacted by&hellip;&nbsp;<mark><em>climate</em></mark> change, including low-income, rural, youth, and communities of color, by\\n\\norganizing for clean&hellip;&nbsp;Rogue <mark><em>Climate</em></mark> is invested in the protection of the Coos Bay estuary and the <mark><em>climate</em></mark> resilience of\\n\\nsouth&hellip;&nbsp;Rogue <mark><em>Climate</em></mark> was also a key leader in the campaign\\n\\nto pass HB2021, which directs Oregon’s Investor&hellip;&nbsp;<mark><em>Climate</em></mark> Justice Principles for a Just Transition in Offshore Wind Energy Development\\n\\nThrough the <mark><em>Climate</em></mark>\",\n",
       "   'withdrawn': False,\n",
       "   'agencyId': 'BOEM',\n",
       "   'title': 'Comment from Rogue Climate',\n",
       "   'objectId': '090000648647e4d8',\n",
       "   'postedDate': '2024-03-16T04:00:00Z'},\n",
       "  'links': {'self': 'https://api.regulations.gov/v4/comments/BOEM-2023-0065-0107'}},\n",
       " {'id': 'BOEM-2022-0009-0175',\n",
       "  'type': 'comments',\n",
       "  'attributes': {'documentType': 'Public Submission',\n",
       "   'lastModifiedDate': '2022-07-01T00:54:01Z',\n",
       "   'highlightedContent': 'Rogue <mark><em>Climate</em></mark> Comments to BOEM 06 28 2022&hellip;&nbsp;Rogue <mark><em>Climate</em></mark> serves and works alongside Southern Oregon and South Coast communities most\\n\\nimpacted by&hellip;&nbsp;<mark><em>climate</em></mark> change, including low-income, rural, youth, and communities of color, by\\n\\norganizing for clean&hellip;&nbsp;Rogue\\n\\n<mark><em>Climate</em></mark> was also a key leader in the campaign to pass HB2021, which directs Oregon’s Investor&hellip;&nbsp;Rogue <mark><em>Climate</em></mark> looks forward to continuing to participate in\\n\\nthis process into the future.&hellip;&nbsp;Sincerely,\\n\\nRogue <mark><em>Climate</em></mark>\\n\\n8',\n",
       "   'withdrawn': False,\n",
       "   'agencyId': 'BOEM',\n",
       "   'title': 'Comment from Rogue Climate',\n",
       "   'objectId': '09000064851a80c6',\n",
       "   'postedDate': '2022-06-30T04:00:00Z'},\n",
       "  'links': {'self': 'https://api.regulations.gov/v4/comments/BOEM-2022-0009-0175'}},\n",
       " {'id': 'IRS-2023-0028-0044',\n",
       "  'type': 'comments',\n",
       "  'attributes': {'documentType': 'Public Submission',\n",
       "   'lastModifiedDate': '2023-08-15T15:49:50Z',\n",
       "   'highlightedContent': 'Basis <mark><em>Climate</em></mark> respectfully submits this request for guidance in response to the proposed regulations&hellip;&nbsp;The requested guidance is of critical interest to Basis <mark><em>Climate</em></mark>, and more broadly to project developers&hellip;&nbsp;Basis <mark><em>Climate</em></mark> Corp. Comment Letter-Final&hellip;&nbsp;The\\nrequested guidance is of critical interest to Basis <mark><em>Climate</em></mark>, and more broadly to project\\ndevelopers&hellip;&nbsp;Basis <mark><em>Climate</em></mark> (“Basis”) is quickly becoming a leading digital exchange for clean energy tax\\ncredits.&hellip;&nbsp;Basis is backed by leading <mark><em>climate</em></mark> investors and\\nmarket makers, and Basis is already structuring over&hellip;&nbsp;Reduction Act’s goal of\\nusing tax credit transferability as a mechanism for improving liquidity in <mark><em>climate</em></mark>&hellip;&nbsp;Best,\\n\\nErik Underwood\\nCEO\\nBasis <mark><em>Climate</em></mark> Corp.\\nwww.buildwithbasis.com\\n\\nhttp://www.buildwithbasis.com',\n",
       "   'withdrawn': False,\n",
       "   'agencyId': 'IRS',\n",
       "   'title': 'Comment from Basis Climate Corp.',\n",
       "   'objectId': '0900006485e36e03',\n",
       "   'postedDate': '2023-08-15T04:00:00Z'},\n",
       "  'links': {'self': 'https://api.regulations.gov/v4/comments/IRS-2023-0028-0044'}},\n",
       " {'id': 'FS-2023-0006-91759',\n",
       "  'type': 'comments',\n",
       "  'attributes': {'documentType': 'Public Submission',\n",
       "   'lastModifiedDate': '2023-09-01T01:03:48Z',\n",
       "   'highlightedContent': '<mark><em>Climate</em></mark> Forests - Worth More Standing&hellip;&nbsp;Standing:\\n10 Climate-Saving Forests Threatened by Federal Logging\\n\\nThis report was prepared for the <mark><em>Climate</em></mark>&hellip;&nbsp;forests and trees on federal public lands can markedly reduce carbon emissions, aid the fight to curb <mark><em>climate</em></mark>&hellip;&nbsp;President Biden issued an executive order that recognized the role older forests play in combating the <mark><em>climate</em></mark>&hellip;&nbsp;old-\\ngrowth forests on federal lands and develop policies to conserve them as a cornerstone of U.S. <mark><em>climate</em></mark>&hellip;&nbsp;Black Hills Forest Plan guides all \\nactivities and significantly undermines efforts to address the <mark><em>climate</em></mark>',\n",
       "   'withdrawn': False,\n",
       "   'agencyId': 'FS',\n",
       "   'title': 'Climate Forests - Worth More Standing',\n",
       "   'objectId': '0900006485cdb5b2',\n",
       "   'postedDate': '2023-08-31T04:00:00Z'},\n",
       "  'links': {'self': 'https://api.regulations.gov/v4/comments/FS-2023-0006-91759'}}]"
      ]
     },
     "execution_count": 61,
     "metadata": {},
     "output_type": "execute_result"
    }
   ],
   "source": [
    "api.endpoint(\"/comments\")\n",
    "api.search(\"climate\")\n",
    "api.page(2)\n",
    "res = api.get()\n",
    "res[\"data\"]\n"
   ]
  },
  {
   "cell_type": "code",
   "execution_count": null,
   "id": "be79dc60",
   "metadata": {},
   "outputs": [],
   "source": []
  }
 ],
 "metadata": {
  "kernelspec": {
   "display_name": "twosix_env2",
   "language": "python",
   "name": "python3"
  },
  "language_info": {
   "codemirror_mode": {
    "name": "ipython",
    "version": 3
   },
   "file_extension": ".py",
   "mimetype": "text/x-python",
   "name": "python",
   "nbconvert_exporter": "python",
   "pygments_lexer": "ipython3",
   "version": "3.11.11"
  }
 },
 "nbformat": 4,
 "nbformat_minor": 5
}
