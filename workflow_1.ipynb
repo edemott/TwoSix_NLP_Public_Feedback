{
 "cells": [
  {
   "cell_type": "code",
   "execution_count": null,
   "metadata": {},
   "outputs": [],
   "source": [
    "import numpy as np\n",
    "import pandas as pd\n",
    "import phatea\n",
    "import matplotlib.pyplot as plt\n",
    "import seaborn as sns\n",
    "from bertopic import BERTopic\n",
    "from sklearn.feature_extraction.text import CountVectorizer\n",
    "from sentence_transformers import SentenceTransformer"
   ]
  },
  {
   "cell_type": "code",
   "execution_count": 2,
   "metadata": {},
   "outputs": [],
   "source": [
    "data = pd.read_csv(\"clean_data.csv\",header=0,low_memory=False)"
   ]
  },
  {
   "cell_type": "code",
   "execution_count": 3,
   "metadata": {},
   "outputs": [],
   "source": [
    "idx = np.random.randint(0,40000,1000)"
   ]
  },
  {
   "cell_type": "code",
   "execution_count": 4,
   "metadata": {},
   "outputs": [
    {
     "data": {
      "text/html": [
       "<div>\n",
       "<style scoped>\n",
       "    .dataframe tbody tr th:only-of-type {\n",
       "        vertical-align: middle;\n",
       "    }\n",
       "\n",
       "    .dataframe tbody tr th {\n",
       "        vertical-align: top;\n",
       "    }\n",
       "\n",
       "    .dataframe thead th {\n",
       "        text-align: right;\n",
       "    }\n",
       "</style>\n",
       "<table border=\"1\" class=\"dataframe\">\n",
       "  <thead>\n",
       "    <tr style=\"text-align: right;\">\n",
       "      <th></th>\n",
       "      <th>Document ID</th>\n",
       "      <th>Agency ID</th>\n",
       "      <th>Docket ID</th>\n",
       "      <th>Tracking Number</th>\n",
       "      <th>Document Type</th>\n",
       "      <th>Posted Date</th>\n",
       "      <th>Is Withdrawn?</th>\n",
       "      <th>Federal Register Number</th>\n",
       "      <th>Title</th>\n",
       "      <th>Comment Start Date</th>\n",
       "      <th>...</th>\n",
       "      <th>Comment on Document ID</th>\n",
       "      <th>Received Date</th>\n",
       "      <th>CFR</th>\n",
       "      <th>Document Subtype</th>\n",
       "      <th>Start End Page</th>\n",
       "      <th>Government Agency</th>\n",
       "      <th>Government Agency Type</th>\n",
       "      <th>Comment</th>\n",
       "      <th>Content Files</th>\n",
       "      <th>Attachment Files</th>\n",
       "    </tr>\n",
       "  </thead>\n",
       "  <tbody>\n",
       "    <tr>\n",
       "      <th>0</th>\n",
       "      <td>FS-2023-0006-0002</td>\n",
       "      <td>FS</td>\n",
       "      <td>FS-2023-0006</td>\n",
       "      <td>NaN</td>\n",
       "      <td>Proposed Rule</td>\n",
       "      <td>2023-04-21T04:00Z</td>\n",
       "      <td>False</td>\n",
       "      <td>2023-08429</td>\n",
       "      <td>Forest Service Functions</td>\n",
       "      <td>2023-04-21T04:00Z</td>\n",
       "      <td>...</td>\n",
       "      <td>NaN</td>\n",
       "      <td>2023-04-21T04:00Z</td>\n",
       "      <td>36 CFR Part 200</td>\n",
       "      <td>Advance Notice of Proposed Rulemaking (ANPRM)</td>\n",
       "      <td>24497 - 24503</td>\n",
       "      <td>NaN</td>\n",
       "      <td>NaN</td>\n",
       "      <td>NaN</td>\n",
       "      <td>https://downloads.regulations.gov/FS-2023-0006...</td>\n",
       "      <td>NaN</td>\n",
       "    </tr>\n",
       "    <tr>\n",
       "      <th>1</th>\n",
       "      <td>FS-2023-0006-0003</td>\n",
       "      <td>FS</td>\n",
       "      <td>FS-2023-0006</td>\n",
       "      <td>lgr-1foi-blth</td>\n",
       "      <td>Public Submission</td>\n",
       "      <td>2023-05-18T04:00Z</td>\n",
       "      <td>False</td>\n",
       "      <td>NaN</td>\n",
       "      <td>Comment on FR Doc # 2023-08429</td>\n",
       "      <td>NaN</td>\n",
       "      <td>...</td>\n",
       "      <td>FS-2023-0006-0002</td>\n",
       "      <td>2023-04-21T04:00Z</td>\n",
       "      <td>NaN</td>\n",
       "      <td>NaN</td>\n",
       "      <td>NaN</td>\n",
       "      <td>NaN</td>\n",
       "      <td>NaN</td>\n",
       "      <td>I strongly support and greatly appreciate this...</td>\n",
       "      <td>NaN</td>\n",
       "      <td>https://downloads.regulations.gov/FS-2023-0006...</td>\n",
       "    </tr>\n",
       "    <tr>\n",
       "      <th>2</th>\n",
       "      <td>FS-2023-0006-0004</td>\n",
       "      <td>FS</td>\n",
       "      <td>FS-2023-0006</td>\n",
       "      <td>lgr-1hw4-0sy1</td>\n",
       "      <td>Public Submission</td>\n",
       "      <td>2023-05-18T04:00Z</td>\n",
       "      <td>False</td>\n",
       "      <td>NaN</td>\n",
       "      <td>Comment on FR Doc # 2023-08429</td>\n",
       "      <td>NaN</td>\n",
       "      <td>...</td>\n",
       "      <td>FS-2023-0006-0002</td>\n",
       "      <td>2023-04-21T04:00Z</td>\n",
       "      <td>NaN</td>\n",
       "      <td>NaN</td>\n",
       "      <td>NaN</td>\n",
       "      <td>NaN</td>\n",
       "      <td>NaN</td>\n",
       "      <td>Please see the attachment.</td>\n",
       "      <td>NaN</td>\n",
       "      <td>https://downloads.regulations.gov/FS-2023-0006...</td>\n",
       "    </tr>\n",
       "    <tr>\n",
       "      <th>3</th>\n",
       "      <td>FS-2023-0006-0005</td>\n",
       "      <td>FS</td>\n",
       "      <td>FS-2023-0006</td>\n",
       "      <td>lgw-zcov-qonu</td>\n",
       "      <td>Public Submission</td>\n",
       "      <td>2023-05-18T04:00Z</td>\n",
       "      <td>False</td>\n",
       "      <td>NaN</td>\n",
       "      <td>Comment on FR Doc # 2023-08429</td>\n",
       "      <td>NaN</td>\n",
       "      <td>...</td>\n",
       "      <td>FS-2023-0006-0002</td>\n",
       "      <td>2023-04-25T04:00Z</td>\n",
       "      <td>NaN</td>\n",
       "      <td>NaN</td>\n",
       "      <td>NaN</td>\n",
       "      <td>NaN</td>\n",
       "      <td>NaN</td>\n",
       "      <td>i recommend the forest service create more wil...</td>\n",
       "      <td>NaN</td>\n",
       "      <td>NaN</td>\n",
       "    </tr>\n",
       "    <tr>\n",
       "      <th>4</th>\n",
       "      <td>FS-2023-0006-0006</td>\n",
       "      <td>FS</td>\n",
       "      <td>FS-2023-0006</td>\n",
       "      <td>lgz-3ked-z3xd</td>\n",
       "      <td>Public Submission</td>\n",
       "      <td>2023-05-18T04:00Z</td>\n",
       "      <td>False</td>\n",
       "      <td>NaN</td>\n",
       "      <td>Comment on FR Doc # 2023-08429</td>\n",
       "      <td>NaN</td>\n",
       "      <td>...</td>\n",
       "      <td>FS-2023-0006-0002</td>\n",
       "      <td>2023-04-27T04:00Z</td>\n",
       "      <td>NaN</td>\n",
       "      <td>NaN</td>\n",
       "      <td>NaN</td>\n",
       "      <td>NaN</td>\n",
       "      <td>NaN</td>\n",
       "      <td>Old-growth forests have more value left alone ...</td>\n",
       "      <td>NaN</td>\n",
       "      <td>NaN</td>\n",
       "    </tr>\n",
       "    <tr>\n",
       "      <th>...</th>\n",
       "      <td>...</td>\n",
       "      <td>...</td>\n",
       "      <td>...</td>\n",
       "      <td>...</td>\n",
       "      <td>...</td>\n",
       "      <td>...</td>\n",
       "      <td>...</td>\n",
       "      <td>...</td>\n",
       "      <td>...</td>\n",
       "      <td>...</td>\n",
       "      <td>...</td>\n",
       "      <td>...</td>\n",
       "      <td>...</td>\n",
       "      <td>...</td>\n",
       "      <td>...</td>\n",
       "      <td>...</td>\n",
       "      <td>...</td>\n",
       "      <td>...</td>\n",
       "      <td>...</td>\n",
       "      <td>...</td>\n",
       "      <td>...</td>\n",
       "    </tr>\n",
       "    <tr>\n",
       "      <th>55307</th>\n",
       "      <td>FS-2023-0006-9993</td>\n",
       "      <td>FS</td>\n",
       "      <td>FS-2023-0006</td>\n",
       "      <td>lhj-xaig-safp</td>\n",
       "      <td>Public Submission</td>\n",
       "      <td>2023-05-25T04:00Z</td>\n",
       "      <td>False</td>\n",
       "      <td>NaN</td>\n",
       "      <td>Comment on FR Doc # 2023-08429</td>\n",
       "      <td>NaN</td>\n",
       "      <td>...</td>\n",
       "      <td>FS-2023-0006-0002</td>\n",
       "      <td>2023-05-11T04:00Z</td>\n",
       "      <td>NaN</td>\n",
       "      <td>NaN</td>\n",
       "      <td>NaN</td>\n",
       "      <td>NaN</td>\n",
       "      <td>NaN</td>\n",
       "      <td>Dear United States Forest Service,\\n\\nThank yo...</td>\n",
       "      <td>NaN</td>\n",
       "      <td>NaN</td>\n",
       "    </tr>\n",
       "    <tr>\n",
       "      <th>55308</th>\n",
       "      <td>FS-2023-0006-9994</td>\n",
       "      <td>FS</td>\n",
       "      <td>FS-2023-0006</td>\n",
       "      <td>lhj-xaue-sj3b</td>\n",
       "      <td>Public Submission</td>\n",
       "      <td>2023-05-25T04:00Z</td>\n",
       "      <td>False</td>\n",
       "      <td>NaN</td>\n",
       "      <td>Comment on FR Doc # 2023-08429</td>\n",
       "      <td>NaN</td>\n",
       "      <td>...</td>\n",
       "      <td>FS-2023-0006-0002</td>\n",
       "      <td>2023-05-11T04:00Z</td>\n",
       "      <td>NaN</td>\n",
       "      <td>NaN</td>\n",
       "      <td>NaN</td>\n",
       "      <td>NaN</td>\n",
       "      <td>NaN</td>\n",
       "      <td>Dear United States Forest Service,\\n\\nThank yo...</td>\n",
       "      <td>NaN</td>\n",
       "      <td>NaN</td>\n",
       "    </tr>\n",
       "    <tr>\n",
       "      <th>55309</th>\n",
       "      <td>FS-2023-0006-9995</td>\n",
       "      <td>FS</td>\n",
       "      <td>FS-2023-0006</td>\n",
       "      <td>lhj-xauh-wff6</td>\n",
       "      <td>Public Submission</td>\n",
       "      <td>2023-05-25T04:00Z</td>\n",
       "      <td>False</td>\n",
       "      <td>NaN</td>\n",
       "      <td>Comment on FR Doc # 2023-08429</td>\n",
       "      <td>NaN</td>\n",
       "      <td>...</td>\n",
       "      <td>FS-2023-0006-0002</td>\n",
       "      <td>2023-05-11T04:00Z</td>\n",
       "      <td>NaN</td>\n",
       "      <td>NaN</td>\n",
       "      <td>NaN</td>\n",
       "      <td>NaN</td>\n",
       "      <td>NaN</td>\n",
       "      <td>Dear United States Forest Service,\\n\\nThank yo...</td>\n",
       "      <td>NaN</td>\n",
       "      <td>NaN</td>\n",
       "    </tr>\n",
       "    <tr>\n",
       "      <th>55310</th>\n",
       "      <td>FS-2023-0006-9996</td>\n",
       "      <td>FS</td>\n",
       "      <td>FS-2023-0006</td>\n",
       "      <td>lhj-xb6u-b5fl</td>\n",
       "      <td>Public Submission</td>\n",
       "      <td>2023-05-25T04:00Z</td>\n",
       "      <td>False</td>\n",
       "      <td>NaN</td>\n",
       "      <td>Comment on FR Doc # 2023-08429</td>\n",
       "      <td>NaN</td>\n",
       "      <td>...</td>\n",
       "      <td>FS-2023-0006-0002</td>\n",
       "      <td>2023-05-11T04:00Z</td>\n",
       "      <td>NaN</td>\n",
       "      <td>NaN</td>\n",
       "      <td>NaN</td>\n",
       "      <td>NaN</td>\n",
       "      <td>NaN</td>\n",
       "      <td>Dear United States Forest Service,\\n\\nThank yo...</td>\n",
       "      <td>NaN</td>\n",
       "      <td>NaN</td>\n",
       "    </tr>\n",
       "    <tr>\n",
       "      <th>55311</th>\n",
       "      <td>FS-2023-0006-9998</td>\n",
       "      <td>FS</td>\n",
       "      <td>FS-2023-0006</td>\n",
       "      <td>lhj-xbi3-0zgi</td>\n",
       "      <td>Public Submission</td>\n",
       "      <td>2023-05-25T04:00Z</td>\n",
       "      <td>False</td>\n",
       "      <td>NaN</td>\n",
       "      <td>Comment on FR Doc # 2023-08429</td>\n",
       "      <td>NaN</td>\n",
       "      <td>...</td>\n",
       "      <td>FS-2023-0006-0002</td>\n",
       "      <td>2023-05-11T04:00Z</td>\n",
       "      <td>NaN</td>\n",
       "      <td>NaN</td>\n",
       "      <td>NaN</td>\n",
       "      <td>NaN</td>\n",
       "      <td>NaN</td>\n",
       "      <td>Dear United States Forest Service,\\n\\nThank yo...</td>\n",
       "      <td>NaN</td>\n",
       "      <td>NaN</td>\n",
       "    </tr>\n",
       "  </tbody>\n",
       "</table>\n",
       "<p>55312 rows × 22 columns</p>\n",
       "</div>"
      ],
      "text/plain": [
       "             Document ID Agency ID     Docket ID Tracking Number  \\\n",
       "0      FS-2023-0006-0002        FS  FS-2023-0006             NaN   \n",
       "1      FS-2023-0006-0003        FS  FS-2023-0006   lgr-1foi-blth   \n",
       "2      FS-2023-0006-0004        FS  FS-2023-0006   lgr-1hw4-0sy1   \n",
       "3      FS-2023-0006-0005        FS  FS-2023-0006   lgw-zcov-qonu   \n",
       "4      FS-2023-0006-0006        FS  FS-2023-0006   lgz-3ked-z3xd   \n",
       "...                  ...       ...           ...             ...   \n",
       "55307  FS-2023-0006-9993        FS  FS-2023-0006   lhj-xaig-safp   \n",
       "55308  FS-2023-0006-9994        FS  FS-2023-0006   lhj-xaue-sj3b   \n",
       "55309  FS-2023-0006-9995        FS  FS-2023-0006   lhj-xauh-wff6   \n",
       "55310  FS-2023-0006-9996        FS  FS-2023-0006   lhj-xb6u-b5fl   \n",
       "55311  FS-2023-0006-9998        FS  FS-2023-0006   lhj-xbi3-0zgi   \n",
       "\n",
       "           Document Type        Posted Date  Is Withdrawn?  \\\n",
       "0          Proposed Rule  2023-04-21T04:00Z          False   \n",
       "1      Public Submission  2023-05-18T04:00Z          False   \n",
       "2      Public Submission  2023-05-18T04:00Z          False   \n",
       "3      Public Submission  2023-05-18T04:00Z          False   \n",
       "4      Public Submission  2023-05-18T04:00Z          False   \n",
       "...                  ...                ...            ...   \n",
       "55307  Public Submission  2023-05-25T04:00Z          False   \n",
       "55308  Public Submission  2023-05-25T04:00Z          False   \n",
       "55309  Public Submission  2023-05-25T04:00Z          False   \n",
       "55310  Public Submission  2023-05-25T04:00Z          False   \n",
       "55311  Public Submission  2023-05-25T04:00Z          False   \n",
       "\n",
       "      Federal Register Number                           Title  \\\n",
       "0                  2023-08429        Forest Service Functions   \n",
       "1                         NaN  Comment on FR Doc # 2023-08429   \n",
       "2                         NaN  Comment on FR Doc # 2023-08429   \n",
       "3                         NaN  Comment on FR Doc # 2023-08429   \n",
       "4                         NaN  Comment on FR Doc # 2023-08429   \n",
       "...                       ...                             ...   \n",
       "55307                     NaN  Comment on FR Doc # 2023-08429   \n",
       "55308                     NaN  Comment on FR Doc # 2023-08429   \n",
       "55309                     NaN  Comment on FR Doc # 2023-08429   \n",
       "55310                     NaN  Comment on FR Doc # 2023-08429   \n",
       "55311                     NaN  Comment on FR Doc # 2023-08429   \n",
       "\n",
       "      Comment Start Date  ... Comment on Document ID      Received Date  \\\n",
       "0      2023-04-21T04:00Z  ...                    NaN  2023-04-21T04:00Z   \n",
       "1                    NaN  ...      FS-2023-0006-0002  2023-04-21T04:00Z   \n",
       "2                    NaN  ...      FS-2023-0006-0002  2023-04-21T04:00Z   \n",
       "3                    NaN  ...      FS-2023-0006-0002  2023-04-25T04:00Z   \n",
       "4                    NaN  ...      FS-2023-0006-0002  2023-04-27T04:00Z   \n",
       "...                  ...  ...                    ...                ...   \n",
       "55307                NaN  ...      FS-2023-0006-0002  2023-05-11T04:00Z   \n",
       "55308                NaN  ...      FS-2023-0006-0002  2023-05-11T04:00Z   \n",
       "55309                NaN  ...      FS-2023-0006-0002  2023-05-11T04:00Z   \n",
       "55310                NaN  ...      FS-2023-0006-0002  2023-05-11T04:00Z   \n",
       "55311                NaN  ...      FS-2023-0006-0002  2023-05-11T04:00Z   \n",
       "\n",
       "                   CFR                               Document Subtype  \\\n",
       "0      36 CFR Part 200  Advance Notice of Proposed Rulemaking (ANPRM)   \n",
       "1                  NaN                                            NaN   \n",
       "2                  NaN                                            NaN   \n",
       "3                  NaN                                            NaN   \n",
       "4                  NaN                                            NaN   \n",
       "...                ...                                            ...   \n",
       "55307              NaN                                            NaN   \n",
       "55308              NaN                                            NaN   \n",
       "55309              NaN                                            NaN   \n",
       "55310              NaN                                            NaN   \n",
       "55311              NaN                                            NaN   \n",
       "\n",
       "      Start End Page Government Agency Government Agency Type  \\\n",
       "0      24497 - 24503               NaN                    NaN   \n",
       "1                NaN               NaN                    NaN   \n",
       "2                NaN               NaN                    NaN   \n",
       "3                NaN               NaN                    NaN   \n",
       "4                NaN               NaN                    NaN   \n",
       "...              ...               ...                    ...   \n",
       "55307            NaN               NaN                    NaN   \n",
       "55308            NaN               NaN                    NaN   \n",
       "55309            NaN               NaN                    NaN   \n",
       "55310            NaN               NaN                    NaN   \n",
       "55311            NaN               NaN                    NaN   \n",
       "\n",
       "                                                 Comment  \\\n",
       "0                                                    NaN   \n",
       "1      I strongly support and greatly appreciate this...   \n",
       "2                             Please see the attachment.   \n",
       "3      i recommend the forest service create more wil...   \n",
       "4      Old-growth forests have more value left alone ...   \n",
       "...                                                  ...   \n",
       "55307  Dear United States Forest Service,\\n\\nThank yo...   \n",
       "55308  Dear United States Forest Service,\\n\\nThank yo...   \n",
       "55309  Dear United States Forest Service,\\n\\nThank yo...   \n",
       "55310  Dear United States Forest Service,\\n\\nThank yo...   \n",
       "55311  Dear United States Forest Service,\\n\\nThank yo...   \n",
       "\n",
       "                                           Content Files  \\\n",
       "0      https://downloads.regulations.gov/FS-2023-0006...   \n",
       "1                                                    NaN   \n",
       "2                                                    NaN   \n",
       "3                                                    NaN   \n",
       "4                                                    NaN   \n",
       "...                                                  ...   \n",
       "55307                                                NaN   \n",
       "55308                                                NaN   \n",
       "55309                                                NaN   \n",
       "55310                                                NaN   \n",
       "55311                                                NaN   \n",
       "\n",
       "                                        Attachment Files  \n",
       "0                                                    NaN  \n",
       "1      https://downloads.regulations.gov/FS-2023-0006...  \n",
       "2      https://downloads.regulations.gov/FS-2023-0006...  \n",
       "3                                                    NaN  \n",
       "4                                                    NaN  \n",
       "...                                                  ...  \n",
       "55307                                                NaN  \n",
       "55308                                                NaN  \n",
       "55309                                                NaN  \n",
       "55310                                                NaN  \n",
       "55311                                                NaN  \n",
       "\n",
       "[55312 rows x 22 columns]"
      ]
     },
     "execution_count": 4,
     "metadata": {},
     "output_type": "execute_result"
    }
   ],
   "source": [
    "data"
   ]
  },
  {
   "cell_type": "code",
   "execution_count": 5,
   "metadata": {},
   "outputs": [],
   "source": [
    "df = data.iloc[idx,:]"
   ]
  },
  {
   "cell_type": "code",
   "execution_count": 6,
   "metadata": {},
   "outputs": [],
   "source": [
    "docs = list(df[\"Comment\"])"
   ]
  },
  {
   "cell_type": "code",
   "execution_count": 7,
   "metadata": {},
   "outputs": [],
   "source": [
    "custom_stopwords = [\"climate\",\"trees\", \"forests\" \"change\", \"policy\", \"government\", \"regulation\", \"law\", \n",
    "                    \"to\", \"the\", \"and\", \"of\", \"in\", \"for\", \"on\", \"at\", \"is\", \"are\"]\n",
    "vectorizer = CountVectorizer(stop_words=custom_stopwords, ngram_range=(1, 3))\n"
   ]
  },
  {
   "cell_type": "code",
   "execution_count": 8,
   "metadata": {},
   "outputs": [],
   "source": [
    "topic_model = BERTopic(\n",
    "    language=\"english\",\n",
    "    top_n_words=5,\n",
    "    n_gram_range=(1, 3),\n",
    "    min_topic_size=20,\n",
    "    calculate_probabilities=True,\n",
    "    zeroshot_min_similarity=0.8,\n",
    "    embedding_model=\"all-MiniLM-L6-v2\",\n",
    "    vectorizer_model=CountVectorizer(stop_words=\"english\", ngram_range=(1, 3)),\n",
    "    representation_model=\"KeyBERTInspired\",\n",
    "    verbose=True\n",
    ")\n"
   ]
  },
  {
   "cell_type": "code",
   "execution_count": 9,
   "metadata": {},
   "outputs": [
    {
     "name": "stderr",
     "output_type": "stream",
     "text": [
      "2025-03-28 16:32:55,286 - BERTopic - Embedding - Transforming documents to embeddings.\n"
     ]
    },
    {
     "data": {
      "application/vnd.jupyter.widget-view+json": {
       "model_id": "4b23ee01f15a4300820a53c79e26764e",
       "version_major": 2,
       "version_minor": 0
      },
      "text/plain": [
       "Batches:   0%|          | 0/32 [00:00<?, ?it/s]"
      ]
     },
     "metadata": {},
     "output_type": "display_data"
    },
    {
     "name": "stderr",
     "output_type": "stream",
     "text": [
      "2025-03-28 16:33:03,330 - BERTopic - Embedding - Completed ✓\n",
      "2025-03-28 16:33:03,331 - BERTopic - Dimensionality - Fitting the dimensionality reduction algorithm\n",
      "2025-03-28 16:33:08,939 - BERTopic - Dimensionality - Completed ✓\n",
      "2025-03-28 16:33:08,939 - BERTopic - Cluster - Start clustering the reduced embeddings\n",
      "2025-03-28 16:33:08,971 - BERTopic - Cluster - Completed ✓\n",
      "2025-03-28 16:33:08,977 - BERTopic - Representation - Extracting topics from clusters using representation models.\n",
      "2025-03-28 16:33:09,136 - BERTopic - Representation - Completed ✓\n"
     ]
    }
   ],
   "source": [
    "topics, probs = topic_model.fit_transform(docs)\n"
   ]
  },
  {
   "cell_type": "code",
   "execution_count": 10,
   "metadata": {},
   "outputs": [],
   "source": [
    "topic_info = topic_model.get_topic_info()\n",
    "topic_labels = topic_model.generate_topic_labels()"
   ]
  },
  {
   "cell_type": "code",
   "execution_count": 11,
   "metadata": {},
   "outputs": [
    {
     "data": {
      "text/plain": [
       "['0_trees_climate_lands',\n",
       " '1_trees_lands_mature',\n",
       " '2_forests_climate_communities',\n",
       " '3_forest_forests_older forests']"
      ]
     },
     "execution_count": 11,
     "metadata": {},
     "output_type": "execute_result"
    }
   ],
   "source": [
    "topic_labels"
   ]
  },
  {
   "cell_type": "code",
   "execution_count": 12,
   "metadata": {},
   "outputs": [
    {
     "data": {
      "application/vnd.plotly.v1+json": {
       "config": {
        "plotlyServerURL": "https://plot.ly"
       },
       "data": [
        {
         "marker": {
          "color": "#D55E00"
         },
         "orientation": "h",
         "type": "bar",
         "x": [
          0.029523334483773846,
          0.030605435220662135,
          0.03155705582520782,
          0.03556372504827499,
          0.03688051831899267
         ],
         "xaxis": "x",
         "y": [
          "forests  ",
          "mature  ",
          "lands  ",
          "climate  ",
          "trees  "
         ],
         "yaxis": "y"
        },
        {
         "marker": {
          "color": "#0072B2"
         },
         "orientation": "h",
         "type": "bar",
         "x": [
          0.029636057658820693,
          0.03014893509667677,
          0.03229096180787044,
          0.03381624311272816,
          0.0393207488333136
         ],
         "xaxis": "x2",
         "y": [
          "forests  ",
          "climate  ",
          "mature  ",
          "lands  ",
          "trees  "
         ],
         "yaxis": "y2"
        },
        {
         "marker": {
          "color": "#CC79A7"
         },
         "orientation": "h",
         "type": "bar",
         "x": [
          0.03298668778753171,
          0.033679055766158705,
          0.03400590947834406,
          0.039986918348252284,
          0.05895268038223283
         ],
         "xaxis": "x3",
         "y": [
          "rule  ",
          "urge  ",
          "communities  ",
          "climate  ",
          "forests  "
         ],
         "yaxis": "y3"
        },
        {
         "marker": {
          "color": "#E69F00"
         },
         "orientation": "h",
         "type": "bar",
         "x": [
          0.035576104243883994,
          0.0363799536838571,
          0.03745071763024402,
          0.047844763452994314,
          0.05306427504743809
         ],
         "xaxis": "x4",
         "y": [
          "logging  ",
          "forests trees  ",
          "older forests  ",
          "forests  ",
          "forest  "
         ],
         "yaxis": "y4"
        }
       ],
       "layout": {
        "annotations": [
         {
          "font": {
           "size": 16
          },
          "showarrow": false,
          "text": "Topic 0",
          "x": 0.0875,
          "xanchor": "center",
          "xref": "paper",
          "y": 1,
          "yanchor": "bottom",
          "yref": "paper"
         },
         {
          "font": {
           "size": 16
          },
          "showarrow": false,
          "text": "Topic 1",
          "x": 0.36250000000000004,
          "xanchor": "center",
          "xref": "paper",
          "y": 1,
          "yanchor": "bottom",
          "yref": "paper"
         },
         {
          "font": {
           "size": 16
          },
          "showarrow": false,
          "text": "Topic 2",
          "x": 0.6375000000000001,
          "xanchor": "center",
          "xref": "paper",
          "y": 1,
          "yanchor": "bottom",
          "yref": "paper"
         },
         {
          "font": {
           "size": 16
          },
          "showarrow": false,
          "text": "Topic 3",
          "x": 0.9125,
          "xanchor": "center",
          "xref": "paper",
          "y": 1,
          "yanchor": "bottom",
          "yref": "paper"
         }
        ],
        "height": 325,
        "hoverlabel": {
         "bgcolor": "white",
         "font": {
          "family": "Rockwell",
          "size": 16
         }
        },
        "showlegend": false,
        "template": {
         "data": {
          "bar": [
           {
            "error_x": {
             "color": "#2a3f5f"
            },
            "error_y": {
             "color": "#2a3f5f"
            },
            "marker": {
             "line": {
              "color": "white",
              "width": 0.5
             },
             "pattern": {
              "fillmode": "overlay",
              "size": 10,
              "solidity": 0.2
             }
            },
            "type": "bar"
           }
          ],
          "barpolar": [
           {
            "marker": {
             "line": {
              "color": "white",
              "width": 0.5
             },
             "pattern": {
              "fillmode": "overlay",
              "size": 10,
              "solidity": 0.2
             }
            },
            "type": "barpolar"
           }
          ],
          "carpet": [
           {
            "aaxis": {
             "endlinecolor": "#2a3f5f",
             "gridcolor": "#C8D4E3",
             "linecolor": "#C8D4E3",
             "minorgridcolor": "#C8D4E3",
             "startlinecolor": "#2a3f5f"
            },
            "baxis": {
             "endlinecolor": "#2a3f5f",
             "gridcolor": "#C8D4E3",
             "linecolor": "#C8D4E3",
             "minorgridcolor": "#C8D4E3",
             "startlinecolor": "#2a3f5f"
            },
            "type": "carpet"
           }
          ],
          "choropleth": [
           {
            "colorbar": {
             "outlinewidth": 0,
             "ticks": ""
            },
            "type": "choropleth"
           }
          ],
          "contour": [
           {
            "colorbar": {
             "outlinewidth": 0,
             "ticks": ""
            },
            "colorscale": [
             [
              0,
              "#0d0887"
             ],
             [
              0.1111111111111111,
              "#46039f"
             ],
             [
              0.2222222222222222,
              "#7201a8"
             ],
             [
              0.3333333333333333,
              "#9c179e"
             ],
             [
              0.4444444444444444,
              "#bd3786"
             ],
             [
              0.5555555555555556,
              "#d8576b"
             ],
             [
              0.6666666666666666,
              "#ed7953"
             ],
             [
              0.7777777777777778,
              "#fb9f3a"
             ],
             [
              0.8888888888888888,
              "#fdca26"
             ],
             [
              1,
              "#f0f921"
             ]
            ],
            "type": "contour"
           }
          ],
          "contourcarpet": [
           {
            "colorbar": {
             "outlinewidth": 0,
             "ticks": ""
            },
            "type": "contourcarpet"
           }
          ],
          "heatmap": [
           {
            "colorbar": {
             "outlinewidth": 0,
             "ticks": ""
            },
            "colorscale": [
             [
              0,
              "#0d0887"
             ],
             [
              0.1111111111111111,
              "#46039f"
             ],
             [
              0.2222222222222222,
              "#7201a8"
             ],
             [
              0.3333333333333333,
              "#9c179e"
             ],
             [
              0.4444444444444444,
              "#bd3786"
             ],
             [
              0.5555555555555556,
              "#d8576b"
             ],
             [
              0.6666666666666666,
              "#ed7953"
             ],
             [
              0.7777777777777778,
              "#fb9f3a"
             ],
             [
              0.8888888888888888,
              "#fdca26"
             ],
             [
              1,
              "#f0f921"
             ]
            ],
            "type": "heatmap"
           }
          ],
          "histogram": [
           {
            "marker": {
             "pattern": {
              "fillmode": "overlay",
              "size": 10,
              "solidity": 0.2
             }
            },
            "type": "histogram"
           }
          ],
          "histogram2d": [
           {
            "colorbar": {
             "outlinewidth": 0,
             "ticks": ""
            },
            "colorscale": [
             [
              0,
              "#0d0887"
             ],
             [
              0.1111111111111111,
              "#46039f"
             ],
             [
              0.2222222222222222,
              "#7201a8"
             ],
             [
              0.3333333333333333,
              "#9c179e"
             ],
             [
              0.4444444444444444,
              "#bd3786"
             ],
             [
              0.5555555555555556,
              "#d8576b"
             ],
             [
              0.6666666666666666,
              "#ed7953"
             ],
             [
              0.7777777777777778,
              "#fb9f3a"
             ],
             [
              0.8888888888888888,
              "#fdca26"
             ],
             [
              1,
              "#f0f921"
             ]
            ],
            "type": "histogram2d"
           }
          ],
          "histogram2dcontour": [
           {
            "colorbar": {
             "outlinewidth": 0,
             "ticks": ""
            },
            "colorscale": [
             [
              0,
              "#0d0887"
             ],
             [
              0.1111111111111111,
              "#46039f"
             ],
             [
              0.2222222222222222,
              "#7201a8"
             ],
             [
              0.3333333333333333,
              "#9c179e"
             ],
             [
              0.4444444444444444,
              "#bd3786"
             ],
             [
              0.5555555555555556,
              "#d8576b"
             ],
             [
              0.6666666666666666,
              "#ed7953"
             ],
             [
              0.7777777777777778,
              "#fb9f3a"
             ],
             [
              0.8888888888888888,
              "#fdca26"
             ],
             [
              1,
              "#f0f921"
             ]
            ],
            "type": "histogram2dcontour"
           }
          ],
          "mesh3d": [
           {
            "colorbar": {
             "outlinewidth": 0,
             "ticks": ""
            },
            "type": "mesh3d"
           }
          ],
          "parcoords": [
           {
            "line": {
             "colorbar": {
              "outlinewidth": 0,
              "ticks": ""
             }
            },
            "type": "parcoords"
           }
          ],
          "pie": [
           {
            "automargin": true,
            "type": "pie"
           }
          ],
          "scatter": [
           {
            "fillpattern": {
             "fillmode": "overlay",
             "size": 10,
             "solidity": 0.2
            },
            "type": "scatter"
           }
          ],
          "scatter3d": [
           {
            "line": {
             "colorbar": {
              "outlinewidth": 0,
              "ticks": ""
             }
            },
            "marker": {
             "colorbar": {
              "outlinewidth": 0,
              "ticks": ""
             }
            },
            "type": "scatter3d"
           }
          ],
          "scattercarpet": [
           {
            "marker": {
             "colorbar": {
              "outlinewidth": 0,
              "ticks": ""
             }
            },
            "type": "scattercarpet"
           }
          ],
          "scattergeo": [
           {
            "marker": {
             "colorbar": {
              "outlinewidth": 0,
              "ticks": ""
             }
            },
            "type": "scattergeo"
           }
          ],
          "scattergl": [
           {
            "marker": {
             "colorbar": {
              "outlinewidth": 0,
              "ticks": ""
             }
            },
            "type": "scattergl"
           }
          ],
          "scattermap": [
           {
            "marker": {
             "colorbar": {
              "outlinewidth": 0,
              "ticks": ""
             }
            },
            "type": "scattermap"
           }
          ],
          "scattermapbox": [
           {
            "marker": {
             "colorbar": {
              "outlinewidth": 0,
              "ticks": ""
             }
            },
            "type": "scattermapbox"
           }
          ],
          "scatterpolar": [
           {
            "marker": {
             "colorbar": {
              "outlinewidth": 0,
              "ticks": ""
             }
            },
            "type": "scatterpolar"
           }
          ],
          "scatterpolargl": [
           {
            "marker": {
             "colorbar": {
              "outlinewidth": 0,
              "ticks": ""
             }
            },
            "type": "scatterpolargl"
           }
          ],
          "scatterternary": [
           {
            "marker": {
             "colorbar": {
              "outlinewidth": 0,
              "ticks": ""
             }
            },
            "type": "scatterternary"
           }
          ],
          "surface": [
           {
            "colorbar": {
             "outlinewidth": 0,
             "ticks": ""
            },
            "colorscale": [
             [
              0,
              "#0d0887"
             ],
             [
              0.1111111111111111,
              "#46039f"
             ],
             [
              0.2222222222222222,
              "#7201a8"
             ],
             [
              0.3333333333333333,
              "#9c179e"
             ],
             [
              0.4444444444444444,
              "#bd3786"
             ],
             [
              0.5555555555555556,
              "#d8576b"
             ],
             [
              0.6666666666666666,
              "#ed7953"
             ],
             [
              0.7777777777777778,
              "#fb9f3a"
             ],
             [
              0.8888888888888888,
              "#fdca26"
             ],
             [
              1,
              "#f0f921"
             ]
            ],
            "type": "surface"
           }
          ],
          "table": [
           {
            "cells": {
             "fill": {
              "color": "#EBF0F8"
             },
             "line": {
              "color": "white"
             }
            },
            "header": {
             "fill": {
              "color": "#C8D4E3"
             },
             "line": {
              "color": "white"
             }
            },
            "type": "table"
           }
          ]
         },
         "layout": {
          "annotationdefaults": {
           "arrowcolor": "#2a3f5f",
           "arrowhead": 0,
           "arrowwidth": 1
          },
          "autotypenumbers": "strict",
          "coloraxis": {
           "colorbar": {
            "outlinewidth": 0,
            "ticks": ""
           }
          },
          "colorscale": {
           "diverging": [
            [
             0,
             "#8e0152"
            ],
            [
             0.1,
             "#c51b7d"
            ],
            [
             0.2,
             "#de77ae"
            ],
            [
             0.3,
             "#f1b6da"
            ],
            [
             0.4,
             "#fde0ef"
            ],
            [
             0.5,
             "#f7f7f7"
            ],
            [
             0.6,
             "#e6f5d0"
            ],
            [
             0.7,
             "#b8e186"
            ],
            [
             0.8,
             "#7fbc41"
            ],
            [
             0.9,
             "#4d9221"
            ],
            [
             1,
             "#276419"
            ]
           ],
           "sequential": [
            [
             0,
             "#0d0887"
            ],
            [
             0.1111111111111111,
             "#46039f"
            ],
            [
             0.2222222222222222,
             "#7201a8"
            ],
            [
             0.3333333333333333,
             "#9c179e"
            ],
            [
             0.4444444444444444,
             "#bd3786"
            ],
            [
             0.5555555555555556,
             "#d8576b"
            ],
            [
             0.6666666666666666,
             "#ed7953"
            ],
            [
             0.7777777777777778,
             "#fb9f3a"
            ],
            [
             0.8888888888888888,
             "#fdca26"
            ],
            [
             1,
             "#f0f921"
            ]
           ],
           "sequentialminus": [
            [
             0,
             "#0d0887"
            ],
            [
             0.1111111111111111,
             "#46039f"
            ],
            [
             0.2222222222222222,
             "#7201a8"
            ],
            [
             0.3333333333333333,
             "#9c179e"
            ],
            [
             0.4444444444444444,
             "#bd3786"
            ],
            [
             0.5555555555555556,
             "#d8576b"
            ],
            [
             0.6666666666666666,
             "#ed7953"
            ],
            [
             0.7777777777777778,
             "#fb9f3a"
            ],
            [
             0.8888888888888888,
             "#fdca26"
            ],
            [
             1,
             "#f0f921"
            ]
           ]
          },
          "colorway": [
           "#636efa",
           "#EF553B",
           "#00cc96",
           "#ab63fa",
           "#FFA15A",
           "#19d3f3",
           "#FF6692",
           "#B6E880",
           "#FF97FF",
           "#FECB52"
          ],
          "font": {
           "color": "#2a3f5f"
          },
          "geo": {
           "bgcolor": "white",
           "lakecolor": "white",
           "landcolor": "white",
           "showlakes": true,
           "showland": true,
           "subunitcolor": "#C8D4E3"
          },
          "hoverlabel": {
           "align": "left"
          },
          "hovermode": "closest",
          "mapbox": {
           "style": "light"
          },
          "paper_bgcolor": "white",
          "plot_bgcolor": "white",
          "polar": {
           "angularaxis": {
            "gridcolor": "#EBF0F8",
            "linecolor": "#EBF0F8",
            "ticks": ""
           },
           "bgcolor": "white",
           "radialaxis": {
            "gridcolor": "#EBF0F8",
            "linecolor": "#EBF0F8",
            "ticks": ""
           }
          },
          "scene": {
           "xaxis": {
            "backgroundcolor": "white",
            "gridcolor": "#DFE8F3",
            "gridwidth": 2,
            "linecolor": "#EBF0F8",
            "showbackground": true,
            "ticks": "",
            "zerolinecolor": "#EBF0F8"
           },
           "yaxis": {
            "backgroundcolor": "white",
            "gridcolor": "#DFE8F3",
            "gridwidth": 2,
            "linecolor": "#EBF0F8",
            "showbackground": true,
            "ticks": "",
            "zerolinecolor": "#EBF0F8"
           },
           "zaxis": {
            "backgroundcolor": "white",
            "gridcolor": "#DFE8F3",
            "gridwidth": 2,
            "linecolor": "#EBF0F8",
            "showbackground": true,
            "ticks": "",
            "zerolinecolor": "#EBF0F8"
           }
          },
          "shapedefaults": {
           "line": {
            "color": "#2a3f5f"
           }
          },
          "ternary": {
           "aaxis": {
            "gridcolor": "#DFE8F3",
            "linecolor": "#A2B1C6",
            "ticks": ""
           },
           "baxis": {
            "gridcolor": "#DFE8F3",
            "linecolor": "#A2B1C6",
            "ticks": ""
           },
           "bgcolor": "white",
           "caxis": {
            "gridcolor": "#DFE8F3",
            "linecolor": "#A2B1C6",
            "ticks": ""
           }
          },
          "title": {
           "x": 0.05
          },
          "xaxis": {
           "automargin": true,
           "gridcolor": "#EBF0F8",
           "linecolor": "#EBF0F8",
           "ticks": "",
           "title": {
            "standoff": 15
           },
           "zerolinecolor": "#EBF0F8",
           "zerolinewidth": 2
          },
          "yaxis": {
           "automargin": true,
           "gridcolor": "#EBF0F8",
           "linecolor": "#EBF0F8",
           "ticks": "",
           "title": {
            "standoff": 15
           },
           "zerolinecolor": "#EBF0F8",
           "zerolinewidth": 2
          }
         }
        },
        "title": {
         "font": {
          "color": "Black",
          "size": 22
         },
         "text": "Topic Word Scores",
         "x": 0.5,
         "xanchor": "center",
         "yanchor": "top"
        },
        "width": 1000,
        "xaxis": {
         "anchor": "y",
         "domain": [
          0,
          0.175
         ],
         "showgrid": true
        },
        "xaxis2": {
         "anchor": "y2",
         "domain": [
          0.275,
          0.45
         ],
         "showgrid": true
        },
        "xaxis3": {
         "anchor": "y3",
         "domain": [
          0.55,
          0.7250000000000001
         ],
         "showgrid": true
        },
        "xaxis4": {
         "anchor": "y4",
         "domain": [
          0.825,
          1
         ],
         "showgrid": true
        },
        "yaxis": {
         "anchor": "x",
         "domain": [
          0,
          1
         ],
         "showgrid": true
        },
        "yaxis2": {
         "anchor": "x2",
         "domain": [
          0,
          1
         ],
         "showgrid": true
        },
        "yaxis3": {
         "anchor": "x3",
         "domain": [
          0,
          1
         ],
         "showgrid": true
        },
        "yaxis4": {
         "anchor": "x4",
         "domain": [
          0,
          1
         ],
         "showgrid": true
        }
       }
      }
     },
     "metadata": {},
     "output_type": "display_data"
    }
   ],
   "source": [
    "topic_model.visualize_barchart(top_n_topics=10)"
   ]
  },
  {
   "cell_type": "code",
   "execution_count": 13,
   "metadata": {},
   "outputs": [],
   "source": [
    "topic_dict = {row[\"Topic\"]: row[\"Name\"] for _, row in topic_info.iterrows()}\n",
    "document_labels = [topic_dict[topic] if topic in topic_dict else \"Outlier\" for topic in topics]\n"
   ]
  },
  {
   "cell_type": "code",
   "execution_count": 14,
   "metadata": {},
   "outputs": [
    {
     "data": {
      "application/vnd.jupyter.widget-view+json": {
       "model_id": "c2866156e3ce40d6a34d86f5b3f3d747",
       "version_major": 2,
       "version_minor": 0
      },
      "text/plain": [
       "Batches:   0%|          | 0/32 [00:00<?, ?it/s]"
      ]
     },
     "metadata": {},
     "output_type": "display_data"
    }
   ],
   "source": [
    "embedding_model = SentenceTransformer(\"all-MiniLM-L6-v2\")\n",
    "doc_embeddings = embedding_model.encode(list(docs), show_progress_bar=True)\n"
   ]
  },
  {
   "cell_type": "code",
   "execution_count": 15,
   "metadata": {},
   "outputs": [
    {
     "name": "stdout",
     "output_type": "stream",
     "text": [
      "Calculating PHATE...\n",
      "  Running PHATE on 1000 observations and 384 variables.\n",
      "  Calculating graph and diffusion operator...\n",
      "    Calculating PCA...\n",
      "    Calculated PCA in 0.11 seconds.\n",
      "    Calculating KNN search...\n",
      "    Calculated KNN search in 0.04 seconds.\n",
      "    Calculating affinities...\n"
     ]
    },
    {
     "name": "stderr",
     "output_type": "stream",
     "text": [
      "/Users/archan/anaconda3/envs/twosix_env2/lib/python3.11/site-packages/graphtools/graphs.py:290: RuntimeWarning:\n",
      "\n",
      "Detected zero distance between 16688 pairs of samples. Consider removing duplicates to avoid errors in downstream processing.\n",
      "\n"
     ]
    },
    {
     "name": "stdout",
     "output_type": "stream",
     "text": [
      "    Calculated affinities in 0.33 seconds.\n",
      "  Calculated graph and diffusion operator in 0.49 seconds.\n",
      "  Calculating optimal t...\n"
     ]
    },
    {
     "name": "stderr",
     "output_type": "stream",
     "text": [
      "huggingface/tokenizers: The current process just got forked, after parallelism has already been used. Disabling parallelism to avoid deadlocks...\n",
      "To disable this warning, you can either:\n",
      "\t- Avoid using `tokenizers` before the fork if possible\n",
      "\t- Explicitly set the environment variable TOKENIZERS_PARALLELISM=(true | false)\n",
      "/Users/archan/anaconda3/envs/twosix_env2/lib/python3.11/site-packages/graphtools/graphs.py:454: RuntimeWarning:\n",
      "\n",
      "overflow encountered in power\n",
      "\n",
      "/Users/archan/anaconda3/envs/twosix_env2/lib/python3.11/site-packages/graphtools/base.py:554: RuntimeWarning:\n",
      "\n",
      "K should have a non-zero diagonal\n",
      "\n"
     ]
    },
    {
     "name": "stdout",
     "output_type": "stream",
     "text": [
      "    Automatically selected t = 6\n",
      "  Calculated optimal t in 0.23 seconds.\n",
      "  Calculating diffusion potential...\n",
      "  Calculated diffusion potential in 0.05 seconds.\n",
      "  Calculating metric MDS...\n",
      "    Using SMACOF because SGD returned NaN\n",
      "  Calculated metric MDS in 2.95 seconds.\n",
      "Calculated PHATE in 3.73 seconds.\n"
     ]
    }
   ],
   "source": [
    "phate_operator = phate.PHATE(n_components=2)\n",
    "phate_embedding = phate_operator.fit_transform(doc_embeddings)"
   ]
  },
  {
   "cell_type": "code",
   "execution_count": 16,
   "metadata": {},
   "outputs": [],
   "source": [
    "df = pd.DataFrame({\n",
    "    \"PHATE_1\": phate_embedding[:, 0],\n",
    "    \"PHATE_2\": phate_embedding[:, 1],\n",
    "    \"Topic\": document_labels\n",
    "})"
   ]
  },
  {
   "cell_type": "code",
   "execution_count": 17,
   "metadata": {},
   "outputs": [
    {
     "data": {
      "image/png": "[encoded data removed]",
      "text/plain": [
       "<Figure size 1000x600 with 1 Axes>"
      ]
     },
     "metadata": {},
     "output_type": "display_data"
    }
   ],
   "source": [
    "plt.figure(figsize=(10, 6))\n",
    "sns.scatterplot(data=df, x=\"PHATE_1\", y=\"PHATE_2\", hue=\"Topic\", palette=\"tab10\", alpha=0.7)\n",
    "plt.title(\"PHATE Visualization of Topic Clusters\")\n",
    "plt.legend(bbox_to_anchor=(1.05, 1), loc='upper left')\n",
    "plt.savefig(\"phate_visualization.png\", dpi=300, bbox_inches=\"tight\")\n",
    "plt.show()"
   ]
  },
  {
   "cell_type": "code",
   "execution_count": null,
   "metadata": {},
   "outputs": [],
   "source": []
  }
 ],
 "metadata": {
  "kernelspec": {
   "display_name": "twosix_env2",
   "language": "python",
   "name": "python3"
  },
  "language_info": {
   "codemirror_mode": {
    "name": "ipython",
    "version": 3
   },
   "file_extension": ".py",
   "mimetype": "text/x-python",
   "name": "python",
   "nbconvert_exporter": "python",
   "pygments_lexer": "ipython3",
   "version": "3.11.11"
  }
 },
 "nbformat": 4,
 "nbformat_minor": 2
}
